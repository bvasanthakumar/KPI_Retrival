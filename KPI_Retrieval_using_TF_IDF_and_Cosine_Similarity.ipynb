{
  "nbformat": 4,
  "nbformat_minor": 0,
  "metadata": {
    "colab": {
      "provenance": []
    },
    "kernelspec": {
      "name": "python3",
      "display_name": "Python 3"
    },
    "language_info": {
      "name": "python"
    }
  },
  "cells": [
    {
      "cell_type": "markdown",
      "source": [
        "###Importing Necessary NLP Libraries"
      ],
      "metadata": {
        "id": "WewobiPXgXlF"
      }
    },
    {
      "cell_type": "code",
      "execution_count": 1,
      "metadata": {
        "id": "C-vaLrLvbpvE"
      },
      "outputs": [],
      "source": [
        "import pandas as pd\n",
        "import re\n",
        "import nltk\n",
        "from nltk.corpus import wordnet\n",
        "from collections import defaultdict\n",
        "from difflib import SequenceMatcher\n",
        "from itertools import permutations"
      ]
    },
    {
      "cell_type": "markdown",
      "source": [
        "###Loading Dataset"
      ],
      "metadata": {
        "id": "zcEkwypugcnq"
      }
    },
    {
      "cell_type": "code",
      "source": [
        "#Load KPI Dataset\n",
        "from google.colab import files\n",
        "uploaded = files.upload()"
      ],
      "metadata": {
        "colab": {
          "base_uri": "https://localhost:8080/",
          "height": 73
        },
        "id": "4nnlA-4XbzR-",
        "outputId": "b95a8cec-1f31-46ed-9a68-4d24eca490a3"
      },
      "execution_count": 2,
      "outputs": [
        {
          "output_type": "display_data",
          "data": {
            "text/plain": [
              "<IPython.core.display.HTML object>"
            ],
            "text/html": [
              "\n",
              "     <input type=\"file\" id=\"files-bc4c4a14-46b8-4afe-8301-e5eec99b56ec\" name=\"files[]\" multiple disabled\n",
              "        style=\"border:none\" />\n",
              "     <output id=\"result-bc4c4a14-46b8-4afe-8301-e5eec99b56ec\">\n",
              "      Upload widget is only available when the cell has been executed in the\n",
              "      current browser session. Please rerun this cell to enable.\n",
              "      </output>\n",
              "      <script>// Copyright 2017 Google LLC\n",
              "//\n",
              "// Licensed under the Apache License, Version 2.0 (the \"License\");\n",
              "// you may not use this file except in compliance with the License.\n",
              "// You may obtain a copy of the License at\n",
              "//\n",
              "//      http://www.apache.org/licenses/LICENSE-2.0\n",
              "//\n",
              "// Unless required by applicable law or agreed to in writing, software\n",
              "// distributed under the License is distributed on an \"AS IS\" BASIS,\n",
              "// WITHOUT WARRANTIES OR CONDITIONS OF ANY KIND, either express or implied.\n",
              "// See the License for the specific language governing permissions and\n",
              "// limitations under the License.\n",
              "\n",
              "/**\n",
              " * @fileoverview Helpers for google.colab Python module.\n",
              " */\n",
              "(function(scope) {\n",
              "function span(text, styleAttributes = {}) {\n",
              "  const element = document.createElement('span');\n",
              "  element.textContent = text;\n",
              "  for (const key of Object.keys(styleAttributes)) {\n",
              "    element.style[key] = styleAttributes[key];\n",
              "  }\n",
              "  return element;\n",
              "}\n",
              "\n",
              "// Max number of bytes which will be uploaded at a time.\n",
              "const MAX_PAYLOAD_SIZE = 100 * 1024;\n",
              "\n",
              "function _uploadFiles(inputId, outputId) {\n",
              "  const steps = uploadFilesStep(inputId, outputId);\n",
              "  const outputElement = document.getElementById(outputId);\n",
              "  // Cache steps on the outputElement to make it available for the next call\n",
              "  // to uploadFilesContinue from Python.\n",
              "  outputElement.steps = steps;\n",
              "\n",
              "  return _uploadFilesContinue(outputId);\n",
              "}\n",
              "\n",
              "// This is roughly an async generator (not supported in the browser yet),\n",
              "// where there are multiple asynchronous steps and the Python side is going\n",
              "// to poll for completion of each step.\n",
              "// This uses a Promise to block the python side on completion of each step,\n",
              "// then passes the result of the previous step as the input to the next step.\n",
              "function _uploadFilesContinue(outputId) {\n",
              "  const outputElement = document.getElementById(outputId);\n",
              "  const steps = outputElement.steps;\n",
              "\n",
              "  const next = steps.next(outputElement.lastPromiseValue);\n",
              "  return Promise.resolve(next.value.promise).then((value) => {\n",
              "    // Cache the last promise value to make it available to the next\n",
              "    // step of the generator.\n",
              "    outputElement.lastPromiseValue = value;\n",
              "    return next.value.response;\n",
              "  });\n",
              "}\n",
              "\n",
              "/**\n",
              " * Generator function which is called between each async step of the upload\n",
              " * process.\n",
              " * @param {string} inputId Element ID of the input file picker element.\n",
              " * @param {string} outputId Element ID of the output display.\n",
              " * @return {!Iterable<!Object>} Iterable of next steps.\n",
              " */\n",
              "function* uploadFilesStep(inputId, outputId) {\n",
              "  const inputElement = document.getElementById(inputId);\n",
              "  inputElement.disabled = false;\n",
              "\n",
              "  const outputElement = document.getElementById(outputId);\n",
              "  outputElement.innerHTML = '';\n",
              "\n",
              "  const pickedPromise = new Promise((resolve) => {\n",
              "    inputElement.addEventListener('change', (e) => {\n",
              "      resolve(e.target.files);\n",
              "    });\n",
              "  });\n",
              "\n",
              "  const cancel = document.createElement('button');\n",
              "  inputElement.parentElement.appendChild(cancel);\n",
              "  cancel.textContent = 'Cancel upload';\n",
              "  const cancelPromise = new Promise((resolve) => {\n",
              "    cancel.onclick = () => {\n",
              "      resolve(null);\n",
              "    };\n",
              "  });\n",
              "\n",
              "  // Wait for the user to pick the files.\n",
              "  const files = yield {\n",
              "    promise: Promise.race([pickedPromise, cancelPromise]),\n",
              "    response: {\n",
              "      action: 'starting',\n",
              "    }\n",
              "  };\n",
              "\n",
              "  cancel.remove();\n",
              "\n",
              "  // Disable the input element since further picks are not allowed.\n",
              "  inputElement.disabled = true;\n",
              "\n",
              "  if (!files) {\n",
              "    return {\n",
              "      response: {\n",
              "        action: 'complete',\n",
              "      }\n",
              "    };\n",
              "  }\n",
              "\n",
              "  for (const file of files) {\n",
              "    const li = document.createElement('li');\n",
              "    li.append(span(file.name, {fontWeight: 'bold'}));\n",
              "    li.append(span(\n",
              "        `(${file.type || 'n/a'}) - ${file.size} bytes, ` +\n",
              "        `last modified: ${\n",
              "            file.lastModifiedDate ? file.lastModifiedDate.toLocaleDateString() :\n",
              "                                    'n/a'} - `));\n",
              "    const percent = span('0% done');\n",
              "    li.appendChild(percent);\n",
              "\n",
              "    outputElement.appendChild(li);\n",
              "\n",
              "    const fileDataPromise = new Promise((resolve) => {\n",
              "      const reader = new FileReader();\n",
              "      reader.onload = (e) => {\n",
              "        resolve(e.target.result);\n",
              "      };\n",
              "      reader.readAsArrayBuffer(file);\n",
              "    });\n",
              "    // Wait for the data to be ready.\n",
              "    let fileData = yield {\n",
              "      promise: fileDataPromise,\n",
              "      response: {\n",
              "        action: 'continue',\n",
              "      }\n",
              "    };\n",
              "\n",
              "    // Use a chunked sending to avoid message size limits. See b/62115660.\n",
              "    let position = 0;\n",
              "    do {\n",
              "      const length = Math.min(fileData.byteLength - position, MAX_PAYLOAD_SIZE);\n",
              "      const chunk = new Uint8Array(fileData, position, length);\n",
              "      position += length;\n",
              "\n",
              "      const base64 = btoa(String.fromCharCode.apply(null, chunk));\n",
              "      yield {\n",
              "        response: {\n",
              "          action: 'append',\n",
              "          file: file.name,\n",
              "          data: base64,\n",
              "        },\n",
              "      };\n",
              "\n",
              "      let percentDone = fileData.byteLength === 0 ?\n",
              "          100 :\n",
              "          Math.round((position / fileData.byteLength) * 100);\n",
              "      percent.textContent = `${percentDone}% done`;\n",
              "\n",
              "    } while (position < fileData.byteLength);\n",
              "  }\n",
              "\n",
              "  // All done.\n",
              "  yield {\n",
              "    response: {\n",
              "      action: 'complete',\n",
              "    }\n",
              "  };\n",
              "}\n",
              "\n",
              "scope.google = scope.google || {};\n",
              "scope.google.colab = scope.google.colab || {};\n",
              "scope.google.colab._files = {\n",
              "  _uploadFiles,\n",
              "  _uploadFilesContinue,\n",
              "};\n",
              "})(self);\n",
              "</script> "
            ]
          },
          "metadata": {}
        },
        {
          "output_type": "stream",
          "name": "stdout",
          "text": [
            "Saving test_data_modified_3.xlsx to test_data_modified_3.xlsx\n"
          ]
        }
      ]
    },
    {
      "cell_type": "code",
      "source": [
        "# Load the dataset\n",
        "file_path = \"test_data_modified_3.xlsx\"\n",
        "df = pd.read_excel(file_path, sheet_name=\"Sheet1\")"
      ],
      "metadata": {
        "id": "P81ELPbsb1EF"
      },
      "execution_count": 3,
      "outputs": []
    },
    {
      "cell_type": "markdown",
      "source": [
        "###Extracting unique KPIs from the dataset"
      ],
      "metadata": {
        "id": "TuASKND5glEY"
      }
    },
    {
      "cell_type": "code",
      "source": [
        "# Extract unique KPI names\n",
        "kpi_list = df[\"KPI\"].dropna().unique().tolist()"
      ],
      "metadata": {
        "id": "K5ednHr4b37z"
      },
      "execution_count": 4,
      "outputs": []
    },
    {
      "cell_type": "markdown",
      "source": [
        "###Tokenizing function using Regular Expression module to handle punctuations better"
      ],
      "metadata": {
        "id": "sfGAyTlUgpfV"
      }
    },
    {
      "cell_type": "code",
      "source": [
        "# Tokenize using regex (handles punctuation)\n",
        "def tokenize(text):\n",
        "    return re.findall(r\"\\b\\w+\\b\", text.lower())"
      ],
      "metadata": {
        "id": "BMyqSgIOb5XD"
      },
      "execution_count": 5,
      "outputs": []
    },
    {
      "cell_type": "markdown",
      "source": [
        "###Retrieving best matches using TF-IDF and Cosine Similarity\n",
        "\n",
        "Went through analysis using different thresholds and chose 0.3 for better accuracy in retrieval"
      ],
      "metadata": {
        "id": "SO_bmBDcg1j-"
      }
    },
    {
      "cell_type": "code",
      "source": [
        "from sklearn.feature_extraction.text import TfidfVectorizer\n",
        "from sklearn.metrics.pairwise import cosine_similarity\n",
        "\n",
        "def find_best_kpis(query, min_score=0.3):\n",
        "    # Create a TF-IDF vectorizer\n",
        "    vectorizer = TfidfVectorizer()\n",
        "\n",
        "    # Combine the KPI list and the query\n",
        "    combined = kpi_list + [query]\n",
        "\n",
        "    # Fit and transform the combined list\n",
        "    tfidf_matrix = vectorizer.fit_transform(combined)\n",
        "\n",
        "    # Compute cosine similarity (the last row is the query)\n",
        "    similarities = cosine_similarity(tfidf_matrix[-1], tfidf_matrix[:-1])\n",
        "\n",
        "    # Get the matches where similarity score is greater than the threshold (min_score)\n",
        "    filtered_matches = [(kpi, score) for kpi, score in zip(kpi_list, similarities[0]) if score > min_score]\n",
        "\n",
        "    return filtered_matches"
      ],
      "metadata": {
        "id": "ma1nSZ4bd99o"
      },
      "execution_count": 6,
      "outputs": []
    },
    {
      "cell_type": "code",
      "source": [
        "# Example query\n",
        "query = \"Which group in CAD has the highest % of female representation?\"\n",
        "matches = find_best_kpis(query)\n",
        "\n",
        "# Display top 3 matching KPIs with their similarity scores\n",
        "print(\"Top Matching KPIs:\")\n",
        "for kpi, score in matches:\n",
        "    print(f\"{kpi}: {score}\")\n"
      ],
      "metadata": {
        "colab": {
          "base_uri": "https://localhost:8080/"
        },
        "id": "kXU33GQpeANv",
        "outputId": "998ce772-83b5-4a5d-8fea-5ab9706db442"
      },
      "execution_count": 7,
      "outputs": [
        {
          "output_type": "stream",
          "name": "stdout",
          "text": [
            "Top Matching KPIs:\n",
            "Female Representation: 0.44141331419805163\n"
          ]
        }
      ]
    },
    {
      "cell_type": "code",
      "source": [
        "# Example query\n",
        "query = \"Which KPIs are underperforming for SSD in August 2024?\"\n",
        "matches = find_best_kpis(query)\n",
        "\n",
        "# Display top 3 matching KPIs with their similarity scores\n",
        "print(\"Top Matching KPIs:\")\n",
        "for kpi, score in matches:\n",
        "    print(f\"{kpi}: {score}\")\n"
      ],
      "metadata": {
        "colab": {
          "base_uri": "https://localhost:8080/"
        },
        "id": "T_VxAZ9veXlW",
        "outputId": "abeac4e5-2d32-45a8-fef9-17e796ab46af"
      },
      "execution_count": 8,
      "outputs": [
        {
          "output_type": "stream",
          "name": "stdout",
          "text": [
            "Top Matching KPIs:\n"
          ]
        }
      ]
    },
    {
      "cell_type": "code",
      "source": [
        "# Example query\n",
        "query = \"How many patents were granted for SCMD in April 2024?\"\n",
        "matches = find_best_kpis(query)\n",
        "\n",
        "# Display top 3 matching KPIs with their similarity scores\n",
        "print(\"Top Matching KPIs:\")\n",
        "for kpi, score in matches:\n",
        "    print(f\"{kpi}: {score}\")"
      ],
      "metadata": {
        "colab": {
          "base_uri": "https://localhost:8080/"
        },
        "id": "h0ZGEEkzeeNt",
        "outputId": "6fd17786-b414-41ca-ca7e-3c5a74b01aea"
      },
      "execution_count": 9,
      "outputs": [
        {
          "output_type": "stream",
          "name": "stdout",
          "text": [
            "Top Matching KPIs:\n",
            "Patents Granted: 0.4304182577769597\n"
          ]
        }
      ]
    },
    {
      "cell_type": "code",
      "source": [
        "# Example query\n",
        "query = \"What was CAD Controllable Cost plan in the beginning of 2024?\"\n",
        "matches = find_best_kpis(query)\n",
        "\n",
        "# Display top 3 matching KPIs with their similarity scores\n",
        "print(\"Top Matching KPIs:\")\n",
        "for kpi, score in matches:\n",
        "    print(f\"{kpi}: {score}\")"
      ],
      "metadata": {
        "colab": {
          "base_uri": "https://localhost:8080/"
        },
        "id": "yEJJGKU-ek_a",
        "outputId": "e6a3452a-0649-4ee3-cc99-0ad0b4199d97"
      },
      "execution_count": 10,
      "outputs": [
        {
          "output_type": "stream",
          "name": "stdout",
          "text": [
            "Top Matching KPIs:\n",
            "Controllable Cost: 0.3911366336545692\n",
            "Controllable Cost ($): 0.3911366336545692\n",
            "Direct Controllable Cost: 0.30322487351867766\n"
          ]
        }
      ]
    },
    {
      "cell_type": "code",
      "source": [
        "# Example query\n",
        "query = \"What is the Professional Certification % in F&AD in July 2024?\"\n",
        "matches = find_best_kpis(query)\n",
        "\n",
        "# Display top 3 matching KPIs with their similarity scores\n",
        "print(\"Top Matching KPIs:\")\n",
        "for kpi, score in matches:\n",
        "    print(f\"{kpi}: {score}\")"
      ],
      "metadata": {
        "colab": {
          "base_uri": "https://localhost:8080/"
        },
        "id": "cCcMIsLWerqn",
        "outputId": "03fdfafb-badc-42cd-cddf-50ed779a3438"
      },
      "execution_count": 11,
      "outputs": [
        {
          "output_type": "stream",
          "name": "stdout",
          "text": [
            "Top Matching KPIs:\n",
            "Professional Certification: 0.41190470855295336\n"
          ]
        }
      ]
    },
    {
      "cell_type": "code",
      "source": [
        "# Example query\n",
        "query = \"Which group in CAD has the highest % of female representation?\"\n",
        "matches = find_best_kpis(query)\n",
        "\n",
        "# Display top 3 matching KPIs with their similarity scores\n",
        "print(\"Top Matching KPIs:\")\n",
        "for kpi, score in matches:\n",
        "    print(f\"{kpi}: {score}\")"
      ],
      "metadata": {
        "colab": {
          "base_uri": "https://localhost:8080/"
        },
        "id": "0Qw7PCUhetiI",
        "outputId": "fd8ef278-ff4b-4b19-eb9a-876880343ce8"
      },
      "execution_count": 12,
      "outputs": [
        {
          "output_type": "stream",
          "name": "stdout",
          "text": [
            "Top Matching KPIs:\n",
            "Female Representation: 0.44141331419805163\n"
          ]
        }
      ]
    },
    {
      "cell_type": "code",
      "source": [
        "# Example query\n",
        "query = \"Which group in CAD has the highest number of female employees?\"\n",
        "matches = find_best_kpis(query)\n",
        "\n",
        "# Display top 3 matching KPIs with their similarity scores\n",
        "print(\"Top Matching KPIs:\")\n",
        "for kpi, score in matches:\n",
        "    print(f\"{kpi}: {score}\")"
      ],
      "metadata": {
        "colab": {
          "base_uri": "https://localhost:8080/"
        },
        "id": "8vBFcPmKet7o",
        "outputId": "e68e6f0a-63e8-47eb-f1cb-293977bf5e2e"
      },
      "execution_count": 13,
      "outputs": [
        {
          "output_type": "stream",
          "name": "stdout",
          "text": [
            "Top Matching KPIs:\n",
            "Permanent Female Employees: 0.30836904745790417\n"
          ]
        }
      ]
    },
    {
      "cell_type": "code",
      "source": [
        "# Example query\n",
        "query = \"Which division in CAD has the highest % of Test Phishing Email Failure?\"\n",
        "matches = find_best_kpis(query)\n",
        "\n",
        "# Display top 3 matching KPIs with their similarity scores\n",
        "print(\"Top Matching KPIs:\")\n",
        "for kpi, score in matches:\n",
        "    print(f\"{kpi}: {score}\")"
      ],
      "metadata": {
        "colab": {
          "base_uri": "https://localhost:8080/"
        },
        "id": "fMocokiUeuN1",
        "outputId": "542030fa-8ec5-46ba-cd35-6d39ca8dce45"
      },
      "execution_count": 14,
      "outputs": [
        {
          "output_type": "stream",
          "name": "stdout",
          "text": [
            "Top Matching KPIs:\n",
            "Test Phishing Email Failure: 0.5355621211324848\n",
            "Test Phishing Email Failure (Repeated Violators): 0.40196198072255707\n",
            "Test Phishing Email Neutral: 0.36568670497189615\n",
            "Test Phishing Email Positive: 0.37160822741453736\n"
          ]
        }
      ]
    },
    {
      "cell_type": "code",
      "source": [
        "# List of predefined questions\n",
        "predefined_questions = [\n",
        "    \"what is the applications service labor productivity ratio for DJVC for July 2018\",\n",
        "    \"Is there any under performing KPIs in ITSED organization across all periods?\",\n",
        "    \"Which Kpis are under performing for f&ad for october 2024\",\n",
        "    \"How about Test Phishing Email Failure?\",\n",
        "    \"is this kpi healthy?\",\n",
        "    \"What we discussed so far\",\n",
        "    \"Hi\",\n",
        "    \"How are you?\",\n",
        "    \"Which Kpis are under performing for ssd for june 2024\",\n",
        "    \"How about august 2024?\",\n",
        "    \"how many patents granted for CAD in 2024 without limit?\",\n",
        "    \"What is the total Number of Failed Responses to the Phishing Tests in September 2019\",\n",
        "    \"Which group in ITSED has the highest number of permanent female employees?\",\n",
        "    \"Which organization in ITSED has the highest % of female representation?\",\n",
        "    \"what is applications service labor productivity kpi would mean\",\n",
        "    \"Kpi formula for applications service labor productivity\",\n",
        "    \"what is permanent female employees would mean\",\n",
        "    \"what is the difference between female representation and permanent female employees kpi\",\n",
        "    \"what is the kpi formula for female representation and permanent female employees kpi\",\n",
        "    \"List the kpis present in cad\",\n",
        "    \"How many kpis are present in the data\",\n",
        "    \"what are the organizations present in the data\",\n",
        "    \"Which group in ITSED has the highest number of female employees?\",\n",
        "    \"Which group in ITSED has the highest % of female representation?\",\n",
        "    \"what is the percentage of top performer retention for the period feb 2018?\",\n",
        "    \"What is the Professional Certification % in CG in February 2019?\",\n",
        "    \"During which period CG has highest % Professional Certification in 2019?\",\n",
        "    \"What is the total Mean Time to Repair hours for ITI in October and May 2024\",\n",
        "    \"What is the Total Recorded Case Frequency rate for SCMD in December 2021\",\n",
        "    \"What is the total number of Traffic Violations across all the periods in 2024?\",\n",
        "    \"Which kpis needs attention in CAD for July 2024\",\n",
        "    \"what are the previous questions that I asked?\",\n",
        "    \"Which division in CAD has the highest % of Test Phishing Email Failure?\",\n",
        "    \"what is the top performing organization within CAD?\",\n",
        "    \"what is the focus area for Supply Chain On-Time Delivery\",\n",
        "    \"what is the category for Drilling Demand Forecasting Accuracy kpi\",\n",
        "    \"what are the kpis that is under Alignment to National Interest category\"\n",
        "]"
      ],
      "metadata": {
        "id": "pftjVuWBgteW"
      },
      "execution_count": 15,
      "outputs": []
    },
    {
      "cell_type": "code",
      "source": [
        "import pandas as pd\n",
        "import time\n",
        "\n",
        "# Create a list to store question-answer pairs\n",
        "qa_list = []\n",
        "\n",
        "for question in predefined_questions:\n",
        "    start_time = time.time()  # Start time\n",
        "    matches = find_best_kpis(question)\n",
        "    top_matches = [f\"{kpi}: {score:.2f}\" for kpi, score in matches[:3]]  # Top 3 KPIs\n",
        "    end_time = time.time()  # End time\n",
        "    retrieval_time = round(end_time - start_time, 4)  # Compute time taken\n",
        "    answer = \", \".join(top_matches) if top_matches else \"No matching KPI found\"\n",
        "    qa_list.append({\"Question\": question, \"Top 3 Matching KPIs\": answer})\n",
        "\n",
        "# Convert list to DataFrame\n",
        "df = pd.DataFrame(qa_list)\n",
        "\n",
        "# Save to Excel\n",
        "df.to_excel(\"KPI_Matching.xlsx\", index=False)\n",
        "\n",
        "print(\"Excel file 'KPI_Matching.xlsx' created successfully.\")"
      ],
      "metadata": {
        "colab": {
          "base_uri": "https://localhost:8080/"
        },
        "id": "biHU9M7Ng2Bb",
        "outputId": "2b0cffc2-29b9-4caa-d54c-aedc828bd3bf"
      },
      "execution_count": 16,
      "outputs": [
        {
          "output_type": "stream",
          "name": "stdout",
          "text": [
            "Excel file 'KPI_Matching.xlsx' created successfully.\n"
          ]
        }
      ]
    },
    {
      "cell_type": "code",
      "source": [
        "question = \"Which Kpis are under performing for f&ad for october 2024\"\n",
        "matches = find_best_kpis(question)\n",
        "\n",
        "# Display top 3 matching KPIs with their similarity scores\n",
        "print(\"Top Matching KPIs:\")\n",
        "for kpi, score in matches:\n",
        "    print(f\"{kpi}: {score}\")\n"
      ],
      "metadata": {
        "colab": {
          "base_uri": "https://localhost:8080/"
        },
        "id": "Qf7H9gg1hGNQ",
        "outputId": "7759252f-1cd9-4d05-e033-1ceace03ce23"
      },
      "execution_count": 17,
      "outputs": [
        {
          "output_type": "stream",
          "name": "stdout",
          "text": [
            "Top Matching KPIs:\n"
          ]
        }
      ]
    },
    {
      "cell_type": "code",
      "source": [
        "question = \"How about Test Phishing Email Failure?\"\n",
        "matches = find_best_kpis(question)\n",
        "\n",
        "# Display top 3 matching KPIs with their similarity scores\n",
        "print(\"Top Matching KPIs:\")\n",
        "for kpi, score in matches:\n",
        "    print(f\"{kpi}: {score}\")\n"
      ],
      "metadata": {
        "colab": {
          "base_uri": "https://localhost:8080/"
        },
        "id": "PntuYddhhPKq",
        "outputId": "2981c179-6da8-4d18-e30a-48209b9c87bc"
      },
      "execution_count": 18,
      "outputs": [
        {
          "output_type": "stream",
          "name": "stdout",
          "text": [
            "Top Matching KPIs:\n",
            "Number of Phishing Test Recipients: 0.3287137192526166\n",
            "Test Phishing Email Failure: 0.7505422151077068\n",
            "Test Phishing Email Failure (Repeated Violators): 0.5633136166587831\n",
            "Test Phishing Email Neutral: 0.5124770754971858\n",
            "Test Phishing Email Positive: 0.5207755574016043\n"
          ]
        }
      ]
    },
    {
      "cell_type": "code",
      "source": [
        "question = \"is this kpi healthy?\"\n",
        "matches = find_best_kpis(question)\n",
        "\n",
        "# Display top 3 matching KPIs with their similarity scores\n",
        "print(\"Top Matching KPIs:\")\n",
        "for kpi, score in matches:\n",
        "    print(f\"{kpi}: {score}\")"
      ],
      "metadata": {
        "colab": {
          "base_uri": "https://localhost:8080/"
        },
        "id": "MlPGhtzKhXcJ",
        "outputId": "0d9de17c-2a1e-494b-903d-0c92c9930968"
      },
      "execution_count": 19,
      "outputs": [
        {
          "output_type": "stream",
          "name": "stdout",
          "text": [
            "Top Matching KPIs:\n"
          ]
        }
      ]
    },
    {
      "cell_type": "code",
      "source": [
        "question = \"What we discussed so far\"\n",
        "matches = find_best_kpis(question)\n",
        "\n",
        "# Display top 3 matching KPIs with their similarity scores\n",
        "print(\"Top Matching KPIs:\")\n",
        "for kpi, score in matches:\n",
        "    print(f\"{kpi}: {score}\")\n"
      ],
      "metadata": {
        "colab": {
          "base_uri": "https://localhost:8080/"
        },
        "id": "x92jCwJ0hjFx",
        "outputId": "09a706fd-f4d6-4833-a591-33fe6b3f6fec"
      },
      "execution_count": 20,
      "outputs": [
        {
          "output_type": "stream",
          "name": "stdout",
          "text": [
            "Top Matching KPIs:\n"
          ]
        }
      ]
    },
    {
      "cell_type": "code",
      "source": [],
      "metadata": {
        "id": "Cu3nZ0nFhm4N"
      },
      "execution_count": 20,
      "outputs": []
    }
  ]
}