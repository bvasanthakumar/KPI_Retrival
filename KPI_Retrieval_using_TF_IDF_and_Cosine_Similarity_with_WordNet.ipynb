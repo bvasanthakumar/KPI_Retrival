{
  "nbformat": 4,
  "nbformat_minor": 0,
  "metadata": {
    "colab": {
      "provenance": []
    },
    "kernelspec": {
      "name": "python3",
      "display_name": "Python 3"
    },
    "language_info": {
      "name": "python"
    }
  },
  "cells": [
    {
      "cell_type": "markdown",
      "source": [
        "###Importing Necessary NLP Libraries"
      ],
      "metadata": {
        "id": "WewobiPXgXlF"
      }
    },
    {
      "cell_type": "code",
      "execution_count": null,
      "metadata": {
        "id": "C-vaLrLvbpvE"
      },
      "outputs": [],
      "source": [
        "import pandas as pd\n",
        "import re\n",
        "import nltk\n",
        "from nltk.corpus import wordnet\n",
        "from collections import defaultdict\n",
        "from difflib import SequenceMatcher\n",
        "from itertools import permutations"
      ]
    },
    {
      "cell_type": "markdown",
      "source": [
        "###Loading Dataset"
      ],
      "metadata": {
        "id": "zcEkwypugcnq"
      }
    },
    {
      "cell_type": "code",
      "source": [
        "#Load KPI Dataset\n",
        "from google.colab import files\n",
        "uploaded = files.upload()"
      ],
      "metadata": {
        "colab": {
          "base_uri": "https://localhost:8080/",
          "height": 73
        },
        "id": "4nnlA-4XbzR-",
        "outputId": "38d5f7eb-a48e-4eef-c664-c5e7f2a0b49c"
      },
      "execution_count": null,
      "outputs": [
        {
          "output_type": "display_data",
          "data": {
            "text/plain": [
              "<IPython.core.display.HTML object>"
            ],
            "text/html": [
              "\n",
              "     <input type=\"file\" id=\"files-9c015f1d-ea84-4dbd-b619-6e03be60308d\" name=\"files[]\" multiple disabled\n",
              "        style=\"border:none\" />\n",
              "     <output id=\"result-9c015f1d-ea84-4dbd-b619-6e03be60308d\">\n",
              "      Upload widget is only available when the cell has been executed in the\n",
              "      current browser session. Please rerun this cell to enable.\n",
              "      </output>\n",
              "      <script>// Copyright 2017 Google LLC\n",
              "//\n",
              "// Licensed under the Apache License, Version 2.0 (the \"License\");\n",
              "// you may not use this file except in compliance with the License.\n",
              "// You may obtain a copy of the License at\n",
              "//\n",
              "//      http://www.apache.org/licenses/LICENSE-2.0\n",
              "//\n",
              "// Unless required by applicable law or agreed to in writing, software\n",
              "// distributed under the License is distributed on an \"AS IS\" BASIS,\n",
              "// WITHOUT WARRANTIES OR CONDITIONS OF ANY KIND, either express or implied.\n",
              "// See the License for the specific language governing permissions and\n",
              "// limitations under the License.\n",
              "\n",
              "/**\n",
              " * @fileoverview Helpers for google.colab Python module.\n",
              " */\n",
              "(function(scope) {\n",
              "function span(text, styleAttributes = {}) {\n",
              "  const element = document.createElement('span');\n",
              "  element.textContent = text;\n",
              "  for (const key of Object.keys(styleAttributes)) {\n",
              "    element.style[key] = styleAttributes[key];\n",
              "  }\n",
              "  return element;\n",
              "}\n",
              "\n",
              "// Max number of bytes which will be uploaded at a time.\n",
              "const MAX_PAYLOAD_SIZE = 100 * 1024;\n",
              "\n",
              "function _uploadFiles(inputId, outputId) {\n",
              "  const steps = uploadFilesStep(inputId, outputId);\n",
              "  const outputElement = document.getElementById(outputId);\n",
              "  // Cache steps on the outputElement to make it available for the next call\n",
              "  // to uploadFilesContinue from Python.\n",
              "  outputElement.steps = steps;\n",
              "\n",
              "  return _uploadFilesContinue(outputId);\n",
              "}\n",
              "\n",
              "// This is roughly an async generator (not supported in the browser yet),\n",
              "// where there are multiple asynchronous steps and the Python side is going\n",
              "// to poll for completion of each step.\n",
              "// This uses a Promise to block the python side on completion of each step,\n",
              "// then passes the result of the previous step as the input to the next step.\n",
              "function _uploadFilesContinue(outputId) {\n",
              "  const outputElement = document.getElementById(outputId);\n",
              "  const steps = outputElement.steps;\n",
              "\n",
              "  const next = steps.next(outputElement.lastPromiseValue);\n",
              "  return Promise.resolve(next.value.promise).then((value) => {\n",
              "    // Cache the last promise value to make it available to the next\n",
              "    // step of the generator.\n",
              "    outputElement.lastPromiseValue = value;\n",
              "    return next.value.response;\n",
              "  });\n",
              "}\n",
              "\n",
              "/**\n",
              " * Generator function which is called between each async step of the upload\n",
              " * process.\n",
              " * @param {string} inputId Element ID of the input file picker element.\n",
              " * @param {string} outputId Element ID of the output display.\n",
              " * @return {!Iterable<!Object>} Iterable of next steps.\n",
              " */\n",
              "function* uploadFilesStep(inputId, outputId) {\n",
              "  const inputElement = document.getElementById(inputId);\n",
              "  inputElement.disabled = false;\n",
              "\n",
              "  const outputElement = document.getElementById(outputId);\n",
              "  outputElement.innerHTML = '';\n",
              "\n",
              "  const pickedPromise = new Promise((resolve) => {\n",
              "    inputElement.addEventListener('change', (e) => {\n",
              "      resolve(e.target.files);\n",
              "    });\n",
              "  });\n",
              "\n",
              "  const cancel = document.createElement('button');\n",
              "  inputElement.parentElement.appendChild(cancel);\n",
              "  cancel.textContent = 'Cancel upload';\n",
              "  const cancelPromise = new Promise((resolve) => {\n",
              "    cancel.onclick = () => {\n",
              "      resolve(null);\n",
              "    };\n",
              "  });\n",
              "\n",
              "  // Wait for the user to pick the files.\n",
              "  const files = yield {\n",
              "    promise: Promise.race([pickedPromise, cancelPromise]),\n",
              "    response: {\n",
              "      action: 'starting',\n",
              "    }\n",
              "  };\n",
              "\n",
              "  cancel.remove();\n",
              "\n",
              "  // Disable the input element since further picks are not allowed.\n",
              "  inputElement.disabled = true;\n",
              "\n",
              "  if (!files) {\n",
              "    return {\n",
              "      response: {\n",
              "        action: 'complete',\n",
              "      }\n",
              "    };\n",
              "  }\n",
              "\n",
              "  for (const file of files) {\n",
              "    const li = document.createElement('li');\n",
              "    li.append(span(file.name, {fontWeight: 'bold'}));\n",
              "    li.append(span(\n",
              "        `(${file.type || 'n/a'}) - ${file.size} bytes, ` +\n",
              "        `last modified: ${\n",
              "            file.lastModifiedDate ? file.lastModifiedDate.toLocaleDateString() :\n",
              "                                    'n/a'} - `));\n",
              "    const percent = span('0% done');\n",
              "    li.appendChild(percent);\n",
              "\n",
              "    outputElement.appendChild(li);\n",
              "\n",
              "    const fileDataPromise = new Promise((resolve) => {\n",
              "      const reader = new FileReader();\n",
              "      reader.onload = (e) => {\n",
              "        resolve(e.target.result);\n",
              "      };\n",
              "      reader.readAsArrayBuffer(file);\n",
              "    });\n",
              "    // Wait for the data to be ready.\n",
              "    let fileData = yield {\n",
              "      promise: fileDataPromise,\n",
              "      response: {\n",
              "        action: 'continue',\n",
              "      }\n",
              "    };\n",
              "\n",
              "    // Use a chunked sending to avoid message size limits. See b/62115660.\n",
              "    let position = 0;\n",
              "    do {\n",
              "      const length = Math.min(fileData.byteLength - position, MAX_PAYLOAD_SIZE);\n",
              "      const chunk = new Uint8Array(fileData, position, length);\n",
              "      position += length;\n",
              "\n",
              "      const base64 = btoa(String.fromCharCode.apply(null, chunk));\n",
              "      yield {\n",
              "        response: {\n",
              "          action: 'append',\n",
              "          file: file.name,\n",
              "          data: base64,\n",
              "        },\n",
              "      };\n",
              "\n",
              "      let percentDone = fileData.byteLength === 0 ?\n",
              "          100 :\n",
              "          Math.round((position / fileData.byteLength) * 100);\n",
              "      percent.textContent = `${percentDone}% done`;\n",
              "\n",
              "    } while (position < fileData.byteLength);\n",
              "  }\n",
              "\n",
              "  // All done.\n",
              "  yield {\n",
              "    response: {\n",
              "      action: 'complete',\n",
              "    }\n",
              "  };\n",
              "}\n",
              "\n",
              "scope.google = scope.google || {};\n",
              "scope.google.colab = scope.google.colab || {};\n",
              "scope.google.colab._files = {\n",
              "  _uploadFiles,\n",
              "  _uploadFilesContinue,\n",
              "};\n",
              "})(self);\n",
              "</script> "
            ]
          },
          "metadata": {}
        },
        {
          "output_type": "stream",
          "name": "stdout",
          "text": [
            "Saving test_data_modified_3.xlsx to test_data_modified_3 (1).xlsx\n"
          ]
        }
      ]
    },
    {
      "cell_type": "code",
      "source": [
        "nltk.download('wordnet')\n",
        "nltk.download('omw-1.4')"
      ],
      "metadata": {
        "colab": {
          "base_uri": "https://localhost:8080/"
        },
        "id": "tuYdRD6U-r9D",
        "outputId": "27f13d89-0153-4220-efc1-572b3def9556"
      },
      "execution_count": null,
      "outputs": [
        {
          "output_type": "stream",
          "name": "stderr",
          "text": [
            "[nltk_data] Downloading package wordnet to /root/nltk_data...\n",
            "[nltk_data] Downloading package omw-1.4 to /root/nltk_data...\n"
          ]
        },
        {
          "output_type": "execute_result",
          "data": {
            "text/plain": [
              "True"
            ]
          },
          "metadata": {},
          "execution_count": 11
        }
      ]
    },
    {
      "cell_type": "code",
      "source": [
        "import nltk\n",
        "from nltk.corpus import stopwords, wordnet\n",
        "from nltk.tokenize import word_tokenize\n",
        "from nltk import pos_tag\n",
        "\n",
        "# Function to get synonyms only for keywords\n",
        "def get_relevant_synonyms(word):\n",
        "    synonyms = set()\n",
        "    for syn in wordnet.synsets(word):\n",
        "        if syn.pos() in ['n', 'v', 'a']:  # Keep only Nouns (n), Verbs (v), and Adjectives (a)\n",
        "            for lemma in syn.lemmas():\n",
        "                synonym = lemma.name().replace('_', ' ')\n",
        "                if synonym.lower() != word.lower():  # Avoid self-references\n",
        "                    synonyms.add(synonym)\n",
        "        if len(synonyms) >= 3:  # Limit synonyms per word to reduce noise\n",
        "            break\n",
        "    return synonyms"
      ],
      "metadata": {
        "id": "8DF4jTez-zbk"
      },
      "execution_count": null,
      "outputs": []
    },
    {
      "cell_type": "code",
      "source": [
        "# Load the dataset\n",
        "file_path = \"test_data_modified_3.xlsx\"\n",
        "df = pd.read_excel(file_path, sheet_name=\"Sheet1\")"
      ],
      "metadata": {
        "id": "P81ELPbsb1EF"
      },
      "execution_count": null,
      "outputs": []
    },
    {
      "cell_type": "markdown",
      "source": [
        "###Extracting unique KPIs from the dataset"
      ],
      "metadata": {
        "id": "TuASKND5glEY"
      }
    },
    {
      "cell_type": "code",
      "source": [
        "# Extract unique KPI names\n",
        "kpi_list = df[\"KPI\"].dropna().unique().tolist()"
      ],
      "metadata": {
        "id": "K5ednHr4b37z"
      },
      "execution_count": null,
      "outputs": []
    },
    {
      "cell_type": "markdown",
      "source": [
        "###Tokenizing function using Regular Expression module to handle punctuations better"
      ],
      "metadata": {
        "id": "sfGAyTlUgpfV"
      }
    },
    {
      "cell_type": "code",
      "source": [
        "# Tokenize using regex (handles punctuation)\n",
        "def tokenize(text):\n",
        "    return re.findall(r\"\\b\\w+\\b\", text.lower())"
      ],
      "metadata": {
        "id": "BMyqSgIOb5XD"
      },
      "execution_count": null,
      "outputs": []
    },
    {
      "cell_type": "markdown",
      "source": [
        "###Expanding the Query to check if synonyms in the query match with the KPI list"
      ],
      "metadata": {
        "id": "YMv1tjGZ_8qi"
      }
    },
    {
      "cell_type": "code",
      "source": [
        "from nltk.corpus import stopwords\n",
        "\n",
        "# Function to extract keywords & expand query\n",
        "def expand_query(query):\n",
        "    stop_words = set(stopwords.words('english'))\n",
        "\n",
        "    # Tokenize and POS tag the words\n",
        "    words = tokenize(query)\n",
        "    pos_tags = pos_tag(words)\n",
        "\n",
        "    # Extract keywords (only nouns, verbs, adjectives & not stopwords)\n",
        "    keywords = [word for word, tag in pos_tags if tag.startswith(('N', 'V', 'J')) and word not in stop_words]\n",
        "\n",
        "    # Expand query with synonyms\n",
        "    expanded_query = set(keywords)  # Include original keywords\n",
        "    for word in keywords:\n",
        "        expanded_query.update(get_relevant_synonyms(word))  # Add relevant synonyms\n",
        "\n",
        "    return \" \".join(expanded_query)"
      ],
      "metadata": {
        "id": "oXzhdrNJ_5nR"
      },
      "execution_count": null,
      "outputs": []
    },
    {
      "cell_type": "markdown",
      "source": [
        "###Retrieving best matches using TF-IDF and Cosine Similarity\n",
        "\n",
        "Went through analysis using different thresholds and chose 0.3 for better accuracy in retrieval"
      ],
      "metadata": {
        "id": "SO_bmBDcg1j-"
      }
    },
    {
      "cell_type": "code",
      "source": [
        "from sklearn.feature_extraction.text import TfidfVectorizer\n",
        "from sklearn.metrics.pairwise import cosine_similarity\n",
        "\n",
        "def find_best_kpis(query, min_score=0.18):\n",
        "    # Expand the query using WordNet synonyms\n",
        "    expanded_query = expand_query(query)\n",
        "    print(expanded_query)\n",
        "\n",
        "    # Create a TF-IDF vectorizer\n",
        "    vectorizer = TfidfVectorizer()\n",
        "\n",
        "    # Combine the KPI list and the expanded query\n",
        "    combined = kpi_list + [expanded_query]\n",
        "\n",
        "    # Fit and transform the combined list\n",
        "    tfidf_matrix = vectorizer.fit_transform(combined)\n",
        "\n",
        "    # Compute cosine similarity (the last row is the expanded query)\n",
        "    similarities = cosine_similarity(tfidf_matrix[-1], tfidf_matrix[:-1])\n",
        "\n",
        "    # Get the matches where similarity score is greater than the threshold (min_score)\n",
        "    filtered_matches = [(kpi, score) for kpi, score in zip(kpi_list, similarities[0]) if score > min_score]\n",
        "\n",
        "    return filtered_matches\n"
      ],
      "metadata": {
        "id": "ma1nSZ4bd99o"
      },
      "execution_count": null,
      "outputs": []
    },
    {
      "cell_type": "code",
      "source": [
        "import nltk\n",
        "\n",
        "nltk.download('stopwords')\n",
        "nltk.download('averaged_perceptron_tagger_eng')"
      ],
      "metadata": {
        "colab": {
          "base_uri": "https://localhost:8080/"
        },
        "id": "jwufjjUyKPpj",
        "outputId": "1dd802de-71c9-41df-e7d2-64c2992b7d48"
      },
      "execution_count": null,
      "outputs": [
        {
          "output_type": "stream",
          "name": "stderr",
          "text": [
            "[nltk_data] Downloading package stopwords to /root/nltk_data...\n",
            "[nltk_data]   Unzipping corpora/stopwords.zip.\n",
            "[nltk_data] Downloading package averaged_perceptron_tagger_eng to\n",
            "[nltk_data]     /root/nltk_data...\n",
            "[nltk_data]   Package averaged_perceptron_tagger_eng is already up-to-\n",
            "[nltk_data]       date!\n"
          ]
        },
        {
          "output_type": "execute_result",
          "data": {
            "text/plain": [
              "True"
            ]
          },
          "metadata": {},
          "execution_count": 20
        }
      ]
    },
    {
      "cell_type": "code",
      "source": [
        "# Example query\n",
        "query = \"Which group in CAD has the highest % of women representation?\"\n",
        "matches = find_best_kpis(query)\n",
        "\n",
        "# Display top 3 matching KPIs with their similarity scores\n",
        "print(\"Top Matching KPIs:\")\n",
        "for kpi, score in matches:\n",
        "    print(f\"{kpi}: {score}\")\n"
      ],
      "metadata": {
        "colab": {
          "base_uri": "https://localhost:8080/"
        },
        "id": "kXU33GQpeANv",
        "outputId": "bde9072a-b9d3-422d-8f6b-9deff6610107"
      },
      "execution_count": null,
      "outputs": [
        {
          "output_type": "stream",
          "name": "stdout",
          "text": [
            "cleaning woman grouping blackguard group representation women hound char agency chemical group delegacy high highest internal representation radical charwoman heel bounder dog woman mental representation cleaning lady cad adult female high-pitched\n",
            "Top Matching KPIs:\n",
            "Female Representation: 0.40069610798940414\n"
          ]
        }
      ]
    },
    {
      "cell_type": "code",
      "source": [
        "# Example query\n",
        "query = \"Which KPIs are underperforming for SSD in August 2024?\"\n",
        "matches = find_best_kpis(query)\n",
        "\n",
        "# Display top 3 matching KPIs with their similarity scores\n",
        "print(\"Top Matching KPIs:\")\n",
        "for kpi, score in matches:\n",
        "    print(f\"{kpi}: {score}\")\n"
      ],
      "metadata": {
        "colab": {
          "base_uri": "https://localhost:8080/"
        },
        "id": "T_VxAZ9veXlW",
        "outputId": "df3bc65b-98c7-43bb-ce70-739a98225b89"
      },
      "execution_count": null,
      "outputs": [
        {
          "output_type": "stream",
          "name": "stdout",
          "text": [
            "Aug underachieve underperforming kpis august underperform ssd\n",
            "Top Matching KPIs:\n"
          ]
        }
      ]
    },
    {
      "cell_type": "code",
      "source": [
        "# Example query\n",
        "query = \"How many patents were granted for SCMD in April 2024?\"\n",
        "matches = find_best_kpis(query)\n",
        "\n",
        "# Display top 3 matching KPIs with their similarity scores\n",
        "print(\"Top Matching KPIs:\")\n",
        "for kpi, score in matches:\n",
        "    print(f\"{kpi}: {score}\")"
      ],
      "metadata": {
        "colab": {
          "base_uri": "https://localhost:8080/"
        },
        "id": "h0ZGEEkzeeNt",
        "outputId": "4df774e1-4a46-4018-daa7-e957fe1afd6c"
      },
      "execution_count": null,
      "outputs": [
        {
          "output_type": "stream",
          "name": "stdout",
          "text": [
            "april many letters patent award patents patent scmd grant Apr granted patent of invention allow\n",
            "Top Matching KPIs:\n",
            "Patents Granted: 0.2897102624908531\n"
          ]
        }
      ]
    },
    {
      "cell_type": "code",
      "source": [
        "# Example query\n",
        "query = \"What was CAD Controllable Cost plan in the beginning of 2024?\"\n",
        "matches = find_best_kpis(query)\n",
        "\n",
        "# Display top 3 matching KPIs with their similarity scores\n",
        "print(\"Top Matching KPIs:\")\n",
        "for kpi, score in matches:\n",
        "    print(f\"{kpi}: {score}\")"
      ],
      "metadata": {
        "colab": {
          "base_uri": "https://localhost:8080/"
        },
        "id": "yEJJGKU-ek_a",
        "outputId": "ae88fa72-7078-4f09-d343-769960808346"
      },
      "execution_count": null,
      "outputs": [
        {
          "output_type": "stream",
          "name": "stdout",
          "text": [
            "controllable programme kickoff plan blackguard beginning monetary value commencement hound toll get-go first showtime starting time heel offset bounder dog start outset design cad cost price program\n",
            "Top Matching KPIs:\n",
            "Controllable Cost: 0.22406205134517854\n",
            "Controllable Cost ($): 0.22406205134517854\n"
          ]
        }
      ]
    },
    {
      "cell_type": "code",
      "source": [
        "# Example query\n",
        "query = \"What is the Professional Certification % in F&AD in July 2024?\"\n",
        "matches = find_best_kpis(query)\n",
        "\n",
        "# Display top 3 matching KPIs with their similarity scores\n",
        "print(\"Top Matching KPIs:\")\n",
        "for kpi, score in matches:\n",
        "    print(f\"{kpi}: {score}\")"
      ],
      "metadata": {
        "colab": {
          "base_uri": "https://localhost:8080/"
        },
        "id": "cCcMIsLWerqn",
        "outputId": "fcb633ff-5906-4386-be77-f0419c69fe15"
      },
      "execution_count": null,
      "outputs": [
        {
          "output_type": "stream",
          "name": "stdout",
          "text": [
            "corroboration certification degree Fahrenheit fluorine enfranchisement advert advertisement july pro master professional advertizement ad professional person atomic number 9 documentation advertizing f advertising\n",
            "Top Matching KPIs:\n",
            "Professional Certification: 0.4236606149825768\n"
          ]
        }
      ]
    },
    {
      "cell_type": "code",
      "source": [
        "# Example query\n",
        "query = \"Which group in CAD has the highest % of female representation?\"\n",
        "matches = find_best_kpis(query)\n",
        "\n",
        "# Display top 3 matching KPIs with their similarity scores\n",
        "print(\"Top Matching KPIs:\")\n",
        "for kpi, score in matches:\n",
        "    print(f\"{kpi}: {score}\")"
      ],
      "metadata": {
        "colab": {
          "base_uri": "https://localhost:8080/"
        },
        "id": "0Qw7PCUhetiI",
        "outputId": "83badac9-491a-45e7-e729-9c1797de8125"
      },
      "execution_count": null,
      "outputs": [
        {
          "output_type": "stream",
          "name": "stdout",
          "text": [
            "grouping blackguard group representation hound agency chemical group delegacy high highest internal representation radical heel female person bounder female dog mental representation cad high-pitched\n",
            "Top Matching KPIs:\n",
            "Female CPH: 0.20622608757301267\n",
            "Female Representation: 0.5497777505031809\n"
          ]
        }
      ]
    },
    {
      "cell_type": "code",
      "source": [
        "# Example query\n",
        "query = \"Which group in CAD has the highest number of female employees?\"\n",
        "matches = find_best_kpis(query)\n",
        "\n",
        "# Display top 3 matching KPIs with their similarity scores\n",
        "print(\"Top Matching KPIs:\")\n",
        "for kpi, score in matches:\n",
        "    print(f\"{kpi}: {score}\")"
      ],
      "metadata": {
        "colab": {
          "base_uri": "https://localhost:8080/"
        },
        "id": "8vBFcPmKet7o",
        "outputId": "b6bd0cbf-4722-4f77-f710-713ecdfdbf61"
      },
      "execution_count": null,
      "outputs": [
        {
          "output_type": "stream",
          "name": "stdout",
          "text": [
            "act grouping blackguard group number hound chemical group figure high highest radical routine heel female person bounder female dog employee bit turn cad high-pitched employees\n",
            "Top Matching KPIs:\n",
            "Female CPH: 0.22494708129419408\n",
            "Female Representation: 0.1966562963051932\n",
            "Permanent Female Employees: 0.25683210102082865\n",
            "Permanent CPH Female Employees: 0.22205291766374996\n"
          ]
        }
      ]
    },
    {
      "cell_type": "code",
      "source": [
        "# Example query\n",
        "query = \"Which division in CAD has the highest % of Test Phishing Email Failure?\"\n",
        "matches = find_best_kpis(query)\n",
        "\n",
        "# Display top 3 matching KPIs with their similarity scores\n",
        "print(\"Top Matching KPIs:\")\n",
        "for kpi, score in matches:\n",
        "    print(f\"{kpi}: {score}\")"
      ],
      "metadata": {
        "colab": {
          "base_uri": "https://localhost:8080/"
        },
        "id": "fMocokiUeuN1",
        "outputId": "d70e2dc8-fec7-4138-e165-894e27490161"
      },
      "execution_count": null,
      "outputs": [
        {
          "output_type": "stream",
          "name": "stdout",
          "text": [
            "trial netmail trial run unsuccessful person blackguard electronic mail part tryout hound cad division highest email section high loser nonstarter heel test bounder dog phishing variance high-pitched failure e-mail\n",
            "Top Matching KPIs:\n",
            "Test Phishing Email Failure: 0.2775654861316818\n",
            "Test Phishing Email Failure (Repeated Violators): 0.2083246147987199\n",
            "Test Phishing Email Neutral: 0.18952424757520922\n",
            "Test Phishing Email Positive: 0.19259319175661593\n"
          ]
        }
      ]
    },
    {
      "cell_type": "code",
      "source": [
        "# List of predefined questions\n",
        "predefined_questions = [\n",
        "    \"Which group in CAD has the highest % of women representation?\",\n",
        "    \"what is the applications service labor productivity ratio for DJVC for July 2018\",\n",
        "    \"Is there any under performing KPIs in ITSED organization across all periods?\",\n",
        "    \"Which Kpis are under performing for f&ad for october 2024\",\n",
        "    \"How about Test Phishing Email Failure?\",\n",
        "    \"is this kpi healthy?\",\n",
        "    \"What we discussed so far\",\n",
        "    \"Hi\",\n",
        "    \"How are you?\",\n",
        "    \"Which Kpis are under performing for ssd for june 2024\",\n",
        "    \"How about august 2024?\",\n",
        "    \"how many patents granted for CAD in 2024 without limit?\",\n",
        "    \"What is the total Number of Failed Responses to the Phishing Tests in September 2019\",\n",
        "    \"Which group in ITSED has the highest number of permanent female employees?\",\n",
        "    \"Which organization in ITSED has the highest % of female representation?\",\n",
        "    \"what is applications service labor productivity kpi would mean\",\n",
        "    \"Kpi formula for applications service labor productivity\",\n",
        "    \"what is permanent female employees would mean\",\n",
        "    \"what is the difference between female representation and permanent female employees kpi\",\n",
        "    \"what is the kpi formula for female representation and permanent female employees kpi\",\n",
        "    \"List the kpis present in cad\",\n",
        "    \"How many kpis are present in the data\",\n",
        "    \"what are the organizations present in the data\",\n",
        "    \"Which group in ITSED has the highest number of female employees?\",\n",
        "    \"Which group in ITSED has the highest % of female representation?\",\n",
        "    \"what is the percentage of top performer retention for the period feb 2018?\",\n",
        "    \"What is the Professional Certification % in CG in February 2019?\",\n",
        "    \"During which period CG has highest % Professional Certification in 2019?\",\n",
        "    \"What is the total Mean Time to Repair hours for ITI in October and May 2024\",\n",
        "    \"What is the Total Recorded Case Frequency rate for SCMD in December 2021\",\n",
        "    \"What is the total number of Traffic Violations across all the periods in 2024?\",\n",
        "    \"Which kpis needs attention in CAD for July 2024\",\n",
        "    \"what are the previous questions that I asked?\",\n",
        "    \"Which division in CAD has the highest % of Test Phishing Email Failure?\",\n",
        "    \"what is the top performing organization within CAD?\",\n",
        "    \"what is the focus area for Supply Chain On-Time Delivery\",\n",
        "    \"what is the category for Drilling Demand Forecasting Accuracy kpi\",\n",
        "    \"what are the kpis that is under Alignment to National Interest category\"\n",
        "]"
      ],
      "metadata": {
        "id": "pftjVuWBgteW"
      },
      "execution_count": null,
      "outputs": []
    },
    {
      "cell_type": "code",
      "source": [
        "import pandas as pd\n",
        "import time\n",
        "\n",
        "# Create a list to store question-answer pairs\n",
        "qa_list = []\n",
        "\n",
        "for question in predefined_questions:\n",
        "    start_time = time.time()  # Start time\n",
        "\n",
        "    matches = find_best_kpis(question)\n",
        "    top_matches = [f\"{kpi}: {score:.2f}\" for kpi, score in matches[:3]]  # Top 3 KPIs\n",
        "\n",
        "    end_time = time.time()  # End time\n",
        "    retrieval_time = round(end_time - start_time, 4)  # Compute time taken\n",
        "\n",
        "    answer = \", \".join(top_matches) if top_matches else \"No matching KPI found\"\n",
        "    qa_list.append({\"Question\": question, \"Top 3 Matching KPIs\": answer, \"Time Taken\": retrieval_time})\n",
        "\n",
        "\n",
        "# for question in predefined_questions:\n",
        "#     matches = find_best_kpis(question)\n",
        "#     top_matches = [f\"{kpi}: {score:.2f}\" for kpi, score in matches[:3]]  # Top 3 KPIs\n",
        "#     answer = \", \".join(top_matches) if top_matches else \"No matching KPI found\"\n",
        "#     qa_list.append({\"Question\": question, \"Top 3 Matching KPIs\": answer})\n",
        "\n",
        "\n",
        "# Convert to DataFrame\n",
        "df = pd.DataFrame(qa_list, columns=[\"Query\", \"KPI Retrieved\", \"Time Taken (seconds)\"])\n",
        "\n",
        "# Convert list to DataFrame\n",
        "df = pd.DataFrame(qa_list)\n",
        "\n",
        "# Save to Excel\n",
        "df.to_excel(\"KPI_Matching_final_four.xlsx\", index=False)\n",
        "\n",
        "print(\"Excel file 'KPI_Matching.xlsx' created successfully.\")"
      ],
      "metadata": {
        "colab": {
          "base_uri": "https://localhost:8080/"
        },
        "id": "biHU9M7Ng2Bb",
        "outputId": "c04eef57-3f6e-4465-e009-a290511fa021"
      },
      "execution_count": null,
      "outputs": [
        {
          "output_type": "stream",
          "name": "stdout",
          "text": [
            "cleaning woman grouping blackguard group representation women hound char agency chemical group delegacy high highest internal representation radical charwoman heel bounder dog woman mental representation cleaning lady cad adult female high-pitched\n",
            "religious service divine service proportion labor coating labour djvc military service service july practical application covering armed service ratio working class applications proletariat productiveness application productivity\n",
            "performing periods acting organisation period time period playing period of time system organization arrangement itsed kpis playacting\n",
            "performing october acting advertizement playing advertisement degree Fahrenheit fluorine ad atomic number 9 Oct advert advertizing f advertising playacting\n",
            "trial netmail email trial run nonstarter unsuccessful person test electronic mail tryout phishing loser failure e-mail\n",
            "kpi healthy\n",
            "discuss talk about discourse discussed\n",
            "hi hullo how-do-you-do howdy hello\n",
            "\n",
            "performing acting june playing playacting ssd\n",
            "Aug august\n",
            "award blackguard hound patent bound many terminal point limit boundary letters patent heel patents bounder dog terminus ad quem grant cad granted patent of invention allow\n",
            "trial Sep act reply aggregate trial run totality number tryout response go wrong miscarry neglect failed reaction sum figure answer responses september routine tests test total bit turn Sept phishing fail\n",
            "act grouping group number permanent wave perm permanent chemical group figure high highest radical routine lasting female person female employee bit turn itsed high-pitched employees\n",
            "arrangement agency delegacy organisation highest high internal representation female person mental representation female system organization representation itsed high-pitched\n",
            "religious service divine service intend mean labor coating kpi entail labour military service service imply mean value practical application covering armed service working class applications proletariat productiveness application productivity\n",
            "religious service divine service labor coating kpi labour military service service practical application expression covering armed service recipe working class applications proletariat formula productiveness application productivity chemical formula\n",
            "imply mean value intend permanent lasting female person entail female employee permanent wave perm employees mean\n",
            "agency deviation delegacy departure permanent internal representation difference kpi female person mental representation female divergence lasting employee permanent wave perm representation employees\n",
            "agency delegacy representation employees expression internal representation lasting kpi recipe female person female mental representation employee permanent wave perm formula permanent chemical formula\n",
            "present tilt exhibit demonstrate blackguard list present tense hound inclination listing lean kpis leaning demo heel bounder dog nowadays cad show\n",
            "present many exhibit data point information demonstrate datum nowadays data show present tense kpis demo\n",
            "present organisation exhibit data point information demonstrate datum system nowadays data organization organizations arrangement present tense show demo\n",
            "chemical group figure high highest act radical grouping routine female person female employee group bit number turn itsed high-pitched employees\n",
            "agency chemical group delegacy high highest internal representation radical grouping female person mental representation female group representation itsed high-pitched\n",
            "retentivity time period percentage upper side performer feb per centum period of time percent retentiveness geological period top side retention pct period performing artist upside holding top memory February keeping\n",
            "pro master professional corroboration certification cg professional person enfranchisement documentation Feb february\n",
            "high-pitched pro master period professional highest time period high certification corroboration cg period of time professional person enfranchisement documentation geological period\n",
            "intend mend fixing time aggregate repair totality entail hr mending Oct october clip sum imply mean value reparation fix 60 minutes hour total hours fourth dimension 2024 fixture clock time mean iti\n",
            "event december put down recorded oftenness aggregate totality place order relative frequency example frequency rate sum case rank pace Dec total record frequence range scmd instance charge per unit enter grade\n",
            "misdemeanor act time period aggregate infringement totality period of time number traffic infraction sum periods figure period routine total misdemeanour bit turn violation dealings violations\n",
            "need july attending demand care want needs tending heel bounder blackguard aid dog cad hound attention kpis\n",
            "ask questions asked interrogation enquire query previous inquiry question enquiry inquire\n",
            "trial netmail trial run unsuccessful person blackguard electronic mail part tryout hound cad division highest email section high loser nonstarter heel test bounder dog phishing variance high-pitched failure e-mail\n",
            "performing acting organisation hound upper side upside playing heel bounder blackguard system dog organization cad arrangement top top side playacting\n",
            "orbit concatenation time focus focal point provide centering arena domain furnish delivery country bringing sphere provision clip field supply chain region chemical chain manner of speaking focusing direction area render fourth dimension clock time speech Sir Ernst Boris Chain supplying focussing Ernst Boris Chain\n",
            "need category prognostication call for boring oil production kpi take requirement necessitate class accuracy drill ask forecasting drilling prediction demand require postulate involve truth family foretelling bore\n",
            "interest national sake category alignment interestingness subject alliance involvement class family alinement coalition kpis\n",
            "Excel file 'KPI_Matching.xlsx' created successfully.\n"
          ]
        }
      ]
    },
    {
      "cell_type": "code",
      "source": [
        "question = \"Which Kpis are under performing for f&ad for october 2024\"\n",
        "matches = find_best_kpis(question)\n",
        "\n",
        "# Display top 3 matching KPIs with their similarity scores\n",
        "print(\"Top Matching KPIs:\")\n",
        "for kpi, score in matches:\n",
        "    print(f\"{kpi}: {score}\")\n"
      ],
      "metadata": {
        "colab": {
          "base_uri": "https://localhost:8080/"
        },
        "id": "Qf7H9gg1hGNQ",
        "outputId": "0737d584-98f8-4e64-c780-07c9af1393c1"
      },
      "execution_count": null,
      "outputs": [
        {
          "output_type": "stream",
          "name": "stdout",
          "text": [
            "performing october acting advertizement playing advertisement degree Fahrenheit fluorine ad atomic number 9 Oct advert advertizing f advertising playacting\n",
            "Top Matching KPIs:\n"
          ]
        }
      ]
    },
    {
      "cell_type": "code",
      "source": [
        "question = \"How about Test Phishing Email Failure?\"\n",
        "matches = find_best_kpis(question)\n",
        "\n",
        "# Display top 3 matching KPIs with their similarity scores\n",
        "print(\"Top Matching KPIs:\")\n",
        "for kpi, score in matches:\n",
        "    print(f\"{kpi}: {score}\")\n"
      ],
      "metadata": {
        "colab": {
          "base_uri": "https://localhost:8080/"
        },
        "id": "PntuYddhhPKq",
        "outputId": "afaa8672-3e52-46ba-f355-00246f52c1c1"
      },
      "execution_count": null,
      "outputs": [
        {
          "output_type": "stream",
          "name": "stdout",
          "text": [
            "trial netmail email trial run nonstarter unsuccessful person test electronic mail tryout phishing loser failure e-mail\n",
            "Top Matching KPIs:\n",
            "Test Phishing Email Failure: 0.37390408381297774\n",
            "Test Phishing Email Failure (Repeated Violators): 0.28063079930280993\n",
            "Test Phishing Email Neutral: 0.2553051214599986\n",
            "Test Phishing Email Positive: 0.25943924771039867\n"
          ]
        }
      ]
    },
    {
      "cell_type": "code",
      "source": [
        "question = \"is this kpi healthy?\"\n",
        "matches = find_best_kpis(question)\n",
        "\n",
        "# Display top 3 matching KPIs with their similarity scores\n",
        "print(\"Top Matching KPIs:\")\n",
        "for kpi, score in matches:\n",
        "    print(f\"{kpi}: {score}\")"
      ],
      "metadata": {
        "colab": {
          "base_uri": "https://localhost:8080/"
        },
        "id": "MlPGhtzKhXcJ",
        "outputId": "8e37ecf3-964f-4faf-e065-940e1f9deef4"
      },
      "execution_count": null,
      "outputs": [
        {
          "output_type": "stream",
          "name": "stdout",
          "text": [
            "kpi healthy\n",
            "Top Matching KPIs:\n",
            "Phishing KPI (Positive): 0.40669974358029193\n",
            "reusable KPI Key from active Tile: 0.2638471653315122\n"
          ]
        }
      ]
    },
    {
      "cell_type": "code",
      "source": [
        "question = \"What we discussed so far\"\n",
        "matches = find_best_kpis(question)\n",
        "\n",
        "# Display top 3 matching KPIs with their similarity scores\n",
        "print(\"Top Matching KPIs:\")\n",
        "for kpi, score in matches:\n",
        "    print(f\"{kpi}: {score}\")\n"
      ],
      "metadata": {
        "colab": {
          "base_uri": "https://localhost:8080/"
        },
        "id": "x92jCwJ0hjFx",
        "outputId": "fbea7cae-4055-4c3d-9a44-23497995f70b"
      },
      "execution_count": null,
      "outputs": [
        {
          "output_type": "stream",
          "name": "stdout",
          "text": [
            "discuss talk about discourse discussed\n",
            "Top Matching KPIs:\n"
          ]
        }
      ]
    }
  ]
}