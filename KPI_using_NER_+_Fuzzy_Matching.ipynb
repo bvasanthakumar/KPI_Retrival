{
  "nbformat": 4,
  "nbformat_minor": 0,
  "metadata": {
    "colab": {
      "provenance": [],
      "collapsed_sections": [
        "awcQvhuaqjZ0",
        "oJ7076OEqpGU",
        "TqFx0chUqxKw",
        "TLGhZaOlq1qd",
        "eIEb-EqYq6Hd",
        "NGu7siQHrw_W",
        "0ynH0k9tsh9I"
      ]
    },
    "kernelspec": {
      "name": "python3",
      "display_name": "Python 3"
    },
    "language_info": {
      "name": "python"
    }
  },
  "cells": [
    {
      "cell_type": "markdown",
      "source": [
        "### STEP 1: Installing required libraries"
      ],
      "metadata": {
        "id": "awcQvhuaqjZ0"
      }
    },
    {
      "cell_type": "code",
      "execution_count": null,
      "metadata": {
        "colab": {
          "base_uri": "https://localhost:8080/"
        },
        "id": "nKn7UfDuhLWz",
        "outputId": "8d5cc6a1-2e5d-44bb-e5e8-984f6356fc26"
      },
      "outputs": [
        {
          "output_type": "stream",
          "name": "stdout",
          "text": [
            "Requirement already satisfied: spacy in /usr/local/lib/python3.11/dist-packages (3.7.5)\n",
            "Requirement already satisfied: rapidfuzz in /usr/local/lib/python3.11/dist-packages (3.12.1)\n",
            "Requirement already satisfied: pandas in /usr/local/lib/python3.11/dist-packages (2.2.2)\n",
            "Requirement already satisfied: openpyxl in /usr/local/lib/python3.11/dist-packages (3.1.5)\n",
            "Requirement already satisfied: spacy-legacy<3.1.0,>=3.0.11 in /usr/local/lib/python3.11/dist-packages (from spacy) (3.0.12)\n",
            "Requirement already satisfied: spacy-loggers<2.0.0,>=1.0.0 in /usr/local/lib/python3.11/dist-packages (from spacy) (1.0.5)\n",
            "Requirement already satisfied: murmurhash<1.1.0,>=0.28.0 in /usr/local/lib/python3.11/dist-packages (from spacy) (1.0.12)\n",
            "Requirement already satisfied: cymem<2.1.0,>=2.0.2 in /usr/local/lib/python3.11/dist-packages (from spacy) (2.0.11)\n",
            "Requirement already satisfied: preshed<3.1.0,>=3.0.2 in /usr/local/lib/python3.11/dist-packages (from spacy) (3.0.9)\n",
            "Requirement already satisfied: thinc<8.3.0,>=8.2.2 in /usr/local/lib/python3.11/dist-packages (from spacy) (8.2.5)\n",
            "Requirement already satisfied: wasabi<1.2.0,>=0.9.1 in /usr/local/lib/python3.11/dist-packages (from spacy) (1.1.3)\n",
            "Requirement already satisfied: srsly<3.0.0,>=2.4.3 in /usr/local/lib/python3.11/dist-packages (from spacy) (2.5.1)\n",
            "Requirement already satisfied: catalogue<2.1.0,>=2.0.6 in /usr/local/lib/python3.11/dist-packages (from spacy) (2.0.10)\n",
            "Requirement already satisfied: weasel<0.5.0,>=0.1.0 in /usr/local/lib/python3.11/dist-packages (from spacy) (0.4.1)\n",
            "Requirement already satisfied: typer<1.0.0,>=0.3.0 in /usr/local/lib/python3.11/dist-packages (from spacy) (0.15.1)\n",
            "Requirement already satisfied: tqdm<5.0.0,>=4.38.0 in /usr/local/lib/python3.11/dist-packages (from spacy) (4.67.1)\n",
            "Requirement already satisfied: requests<3.0.0,>=2.13.0 in /usr/local/lib/python3.11/dist-packages (from spacy) (2.32.3)\n",
            "Requirement already satisfied: pydantic!=1.8,!=1.8.1,<3.0.0,>=1.7.4 in /usr/local/lib/python3.11/dist-packages (from spacy) (2.10.6)\n",
            "Requirement already satisfied: jinja2 in /usr/local/lib/python3.11/dist-packages (from spacy) (3.1.5)\n",
            "Requirement already satisfied: setuptools in /usr/local/lib/python3.11/dist-packages (from spacy) (75.1.0)\n",
            "Requirement already satisfied: packaging>=20.0 in /usr/local/lib/python3.11/dist-packages (from spacy) (24.2)\n",
            "Requirement already satisfied: langcodes<4.0.0,>=3.2.0 in /usr/local/lib/python3.11/dist-packages (from spacy) (3.5.0)\n",
            "Requirement already satisfied: numpy>=1.19.0 in /usr/local/lib/python3.11/dist-packages (from spacy) (1.26.4)\n",
            "Requirement already satisfied: python-dateutil>=2.8.2 in /usr/local/lib/python3.11/dist-packages (from pandas) (2.8.2)\n",
            "Requirement already satisfied: pytz>=2020.1 in /usr/local/lib/python3.11/dist-packages (from pandas) (2025.1)\n",
            "Requirement already satisfied: tzdata>=2022.7 in /usr/local/lib/python3.11/dist-packages (from pandas) (2025.1)\n",
            "Requirement already satisfied: et-xmlfile in /usr/local/lib/python3.11/dist-packages (from openpyxl) (2.0.0)\n",
            "Requirement already satisfied: language-data>=1.2 in /usr/local/lib/python3.11/dist-packages (from langcodes<4.0.0,>=3.2.0->spacy) (1.3.0)\n",
            "Requirement already satisfied: annotated-types>=0.6.0 in /usr/local/lib/python3.11/dist-packages (from pydantic!=1.8,!=1.8.1,<3.0.0,>=1.7.4->spacy) (0.7.0)\n",
            "Requirement already satisfied: pydantic-core==2.27.2 in /usr/local/lib/python3.11/dist-packages (from pydantic!=1.8,!=1.8.1,<3.0.0,>=1.7.4->spacy) (2.27.2)\n",
            "Requirement already satisfied: typing-extensions>=4.12.2 in /usr/local/lib/python3.11/dist-packages (from pydantic!=1.8,!=1.8.1,<3.0.0,>=1.7.4->spacy) (4.12.2)\n",
            "Requirement already satisfied: six>=1.5 in /usr/local/lib/python3.11/dist-packages (from python-dateutil>=2.8.2->pandas) (1.17.0)\n",
            "Requirement already satisfied: charset-normalizer<4,>=2 in /usr/local/lib/python3.11/dist-packages (from requests<3.0.0,>=2.13.0->spacy) (3.4.1)\n",
            "Requirement already satisfied: idna<4,>=2.5 in /usr/local/lib/python3.11/dist-packages (from requests<3.0.0,>=2.13.0->spacy) (3.10)\n",
            "Requirement already satisfied: urllib3<3,>=1.21.1 in /usr/local/lib/python3.11/dist-packages (from requests<3.0.0,>=2.13.0->spacy) (2.3.0)\n",
            "Requirement already satisfied: certifi>=2017.4.17 in /usr/local/lib/python3.11/dist-packages (from requests<3.0.0,>=2.13.0->spacy) (2025.1.31)\n",
            "Requirement already satisfied: blis<0.8.0,>=0.7.8 in /usr/local/lib/python3.11/dist-packages (from thinc<8.3.0,>=8.2.2->spacy) (0.7.11)\n",
            "Requirement already satisfied: confection<1.0.0,>=0.0.1 in /usr/local/lib/python3.11/dist-packages (from thinc<8.3.0,>=8.2.2->spacy) (0.1.5)\n",
            "Requirement already satisfied: click>=8.0.0 in /usr/local/lib/python3.11/dist-packages (from typer<1.0.0,>=0.3.0->spacy) (8.1.8)\n",
            "Requirement already satisfied: shellingham>=1.3.0 in /usr/local/lib/python3.11/dist-packages (from typer<1.0.0,>=0.3.0->spacy) (1.5.4)\n",
            "Requirement already satisfied: rich>=10.11.0 in /usr/local/lib/python3.11/dist-packages (from typer<1.0.0,>=0.3.0->spacy) (13.9.4)\n",
            "Requirement already satisfied: cloudpathlib<1.0.0,>=0.7.0 in /usr/local/lib/python3.11/dist-packages (from weasel<0.5.0,>=0.1.0->spacy) (0.20.0)\n",
            "Requirement already satisfied: smart-open<8.0.0,>=5.2.1 in /usr/local/lib/python3.11/dist-packages (from weasel<0.5.0,>=0.1.0->spacy) (7.1.0)\n",
            "Requirement already satisfied: MarkupSafe>=2.0 in /usr/local/lib/python3.11/dist-packages (from jinja2->spacy) (3.0.2)\n",
            "Requirement already satisfied: marisa-trie>=1.1.0 in /usr/local/lib/python3.11/dist-packages (from language-data>=1.2->langcodes<4.0.0,>=3.2.0->spacy) (1.2.1)\n",
            "Requirement already satisfied: markdown-it-py>=2.2.0 in /usr/local/lib/python3.11/dist-packages (from rich>=10.11.0->typer<1.0.0,>=0.3.0->spacy) (3.0.0)\n",
            "Requirement already satisfied: pygments<3.0.0,>=2.13.0 in /usr/local/lib/python3.11/dist-packages (from rich>=10.11.0->typer<1.0.0,>=0.3.0->spacy) (2.18.0)\n",
            "Requirement already satisfied: wrapt in /usr/local/lib/python3.11/dist-packages (from smart-open<8.0.0,>=5.2.1->weasel<0.5.0,>=0.1.0->spacy) (1.17.2)\n",
            "Requirement already satisfied: mdurl~=0.1 in /usr/local/lib/python3.11/dist-packages (from markdown-it-py>=2.2.0->rich>=10.11.0->typer<1.0.0,>=0.3.0->spacy) (0.1.2)\n",
            "Collecting en-core-web-sm==3.7.1\n",
            "  Downloading https://github.com/explosion/spacy-models/releases/download/en_core_web_sm-3.7.1/en_core_web_sm-3.7.1-py3-none-any.whl (12.8 MB)\n",
            "\u001b[2K     \u001b[90m━━━━━━━━━━━━━━━━━━━━━━━━━━━━━━━━━━━━━━━━\u001b[0m \u001b[32m12.8/12.8 MB\u001b[0m \u001b[31m55.2 MB/s\u001b[0m eta \u001b[36m0:00:00\u001b[0m\n",
            "\u001b[?25hRequirement already satisfied: spacy<3.8.0,>=3.7.2 in /usr/local/lib/python3.11/dist-packages (from en-core-web-sm==3.7.1) (3.7.5)\n",
            "Requirement already satisfied: spacy-legacy<3.1.0,>=3.0.11 in /usr/local/lib/python3.11/dist-packages (from spacy<3.8.0,>=3.7.2->en-core-web-sm==3.7.1) (3.0.12)\n",
            "Requirement already satisfied: spacy-loggers<2.0.0,>=1.0.0 in /usr/local/lib/python3.11/dist-packages (from spacy<3.8.0,>=3.7.2->en-core-web-sm==3.7.1) (1.0.5)\n",
            "Requirement already satisfied: murmurhash<1.1.0,>=0.28.0 in /usr/local/lib/python3.11/dist-packages (from spacy<3.8.0,>=3.7.2->en-core-web-sm==3.7.1) (1.0.12)\n",
            "Requirement already satisfied: cymem<2.1.0,>=2.0.2 in /usr/local/lib/python3.11/dist-packages (from spacy<3.8.0,>=3.7.2->en-core-web-sm==3.7.1) (2.0.11)\n",
            "Requirement already satisfied: preshed<3.1.0,>=3.0.2 in /usr/local/lib/python3.11/dist-packages (from spacy<3.8.0,>=3.7.2->en-core-web-sm==3.7.1) (3.0.9)\n",
            "Requirement already satisfied: thinc<8.3.0,>=8.2.2 in /usr/local/lib/python3.11/dist-packages (from spacy<3.8.0,>=3.7.2->en-core-web-sm==3.7.1) (8.2.5)\n",
            "Requirement already satisfied: wasabi<1.2.0,>=0.9.1 in /usr/local/lib/python3.11/dist-packages (from spacy<3.8.0,>=3.7.2->en-core-web-sm==3.7.1) (1.1.3)\n",
            "Requirement already satisfied: srsly<3.0.0,>=2.4.3 in /usr/local/lib/python3.11/dist-packages (from spacy<3.8.0,>=3.7.2->en-core-web-sm==3.7.1) (2.5.1)\n",
            "Requirement already satisfied: catalogue<2.1.0,>=2.0.6 in /usr/local/lib/python3.11/dist-packages (from spacy<3.8.0,>=3.7.2->en-core-web-sm==3.7.1) (2.0.10)\n",
            "Requirement already satisfied: weasel<0.5.0,>=0.1.0 in /usr/local/lib/python3.11/dist-packages (from spacy<3.8.0,>=3.7.2->en-core-web-sm==3.7.1) (0.4.1)\n",
            "Requirement already satisfied: typer<1.0.0,>=0.3.0 in /usr/local/lib/python3.11/dist-packages (from spacy<3.8.0,>=3.7.2->en-core-web-sm==3.7.1) (0.15.1)\n",
            "Requirement already satisfied: tqdm<5.0.0,>=4.38.0 in /usr/local/lib/python3.11/dist-packages (from spacy<3.8.0,>=3.7.2->en-core-web-sm==3.7.1) (4.67.1)\n",
            "Requirement already satisfied: requests<3.0.0,>=2.13.0 in /usr/local/lib/python3.11/dist-packages (from spacy<3.8.0,>=3.7.2->en-core-web-sm==3.7.1) (2.32.3)\n",
            "Requirement already satisfied: pydantic!=1.8,!=1.8.1,<3.0.0,>=1.7.4 in /usr/local/lib/python3.11/dist-packages (from spacy<3.8.0,>=3.7.2->en-core-web-sm==3.7.1) (2.10.6)\n",
            "Requirement already satisfied: jinja2 in /usr/local/lib/python3.11/dist-packages (from spacy<3.8.0,>=3.7.2->en-core-web-sm==3.7.1) (3.1.5)\n",
            "Requirement already satisfied: setuptools in /usr/local/lib/python3.11/dist-packages (from spacy<3.8.0,>=3.7.2->en-core-web-sm==3.7.1) (75.1.0)\n",
            "Requirement already satisfied: packaging>=20.0 in /usr/local/lib/python3.11/dist-packages (from spacy<3.8.0,>=3.7.2->en-core-web-sm==3.7.1) (24.2)\n",
            "Requirement already satisfied: langcodes<4.0.0,>=3.2.0 in /usr/local/lib/python3.11/dist-packages (from spacy<3.8.0,>=3.7.2->en-core-web-sm==3.7.1) (3.5.0)\n",
            "Requirement already satisfied: numpy>=1.19.0 in /usr/local/lib/python3.11/dist-packages (from spacy<3.8.0,>=3.7.2->en-core-web-sm==3.7.1) (1.26.4)\n",
            "Requirement already satisfied: language-data>=1.2 in /usr/local/lib/python3.11/dist-packages (from langcodes<4.0.0,>=3.2.0->spacy<3.8.0,>=3.7.2->en-core-web-sm==3.7.1) (1.3.0)\n",
            "Requirement already satisfied: annotated-types>=0.6.0 in /usr/local/lib/python3.11/dist-packages (from pydantic!=1.8,!=1.8.1,<3.0.0,>=1.7.4->spacy<3.8.0,>=3.7.2->en-core-web-sm==3.7.1) (0.7.0)\n",
            "Requirement already satisfied: pydantic-core==2.27.2 in /usr/local/lib/python3.11/dist-packages (from pydantic!=1.8,!=1.8.1,<3.0.0,>=1.7.4->spacy<3.8.0,>=3.7.2->en-core-web-sm==3.7.1) (2.27.2)\n",
            "Requirement already satisfied: typing-extensions>=4.12.2 in /usr/local/lib/python3.11/dist-packages (from pydantic!=1.8,!=1.8.1,<3.0.0,>=1.7.4->spacy<3.8.0,>=3.7.2->en-core-web-sm==3.7.1) (4.12.2)\n",
            "Requirement already satisfied: charset-normalizer<4,>=2 in /usr/local/lib/python3.11/dist-packages (from requests<3.0.0,>=2.13.0->spacy<3.8.0,>=3.7.2->en-core-web-sm==3.7.1) (3.4.1)\n",
            "Requirement already satisfied: idna<4,>=2.5 in /usr/local/lib/python3.11/dist-packages (from requests<3.0.0,>=2.13.0->spacy<3.8.0,>=3.7.2->en-core-web-sm==3.7.1) (3.10)\n",
            "Requirement already satisfied: urllib3<3,>=1.21.1 in /usr/local/lib/python3.11/dist-packages (from requests<3.0.0,>=2.13.0->spacy<3.8.0,>=3.7.2->en-core-web-sm==3.7.1) (2.3.0)\n",
            "Requirement already satisfied: certifi>=2017.4.17 in /usr/local/lib/python3.11/dist-packages (from requests<3.0.0,>=2.13.0->spacy<3.8.0,>=3.7.2->en-core-web-sm==3.7.1) (2025.1.31)\n",
            "Requirement already satisfied: blis<0.8.0,>=0.7.8 in /usr/local/lib/python3.11/dist-packages (from thinc<8.3.0,>=8.2.2->spacy<3.8.0,>=3.7.2->en-core-web-sm==3.7.1) (0.7.11)\n",
            "Requirement already satisfied: confection<1.0.0,>=0.0.1 in /usr/local/lib/python3.11/dist-packages (from thinc<8.3.0,>=8.2.2->spacy<3.8.0,>=3.7.2->en-core-web-sm==3.7.1) (0.1.5)\n",
            "Requirement already satisfied: click>=8.0.0 in /usr/local/lib/python3.11/dist-packages (from typer<1.0.0,>=0.3.0->spacy<3.8.0,>=3.7.2->en-core-web-sm==3.7.1) (8.1.8)\n",
            "Requirement already satisfied: shellingham>=1.3.0 in /usr/local/lib/python3.11/dist-packages (from typer<1.0.0,>=0.3.0->spacy<3.8.0,>=3.7.2->en-core-web-sm==3.7.1) (1.5.4)\n",
            "Requirement already satisfied: rich>=10.11.0 in /usr/local/lib/python3.11/dist-packages (from typer<1.0.0,>=0.3.0->spacy<3.8.0,>=3.7.2->en-core-web-sm==3.7.1) (13.9.4)\n",
            "Requirement already satisfied: cloudpathlib<1.0.0,>=0.7.0 in /usr/local/lib/python3.11/dist-packages (from weasel<0.5.0,>=0.1.0->spacy<3.8.0,>=3.7.2->en-core-web-sm==3.7.1) (0.20.0)\n",
            "Requirement already satisfied: smart-open<8.0.0,>=5.2.1 in /usr/local/lib/python3.11/dist-packages (from weasel<0.5.0,>=0.1.0->spacy<3.8.0,>=3.7.2->en-core-web-sm==3.7.1) (7.1.0)\n",
            "Requirement already satisfied: MarkupSafe>=2.0 in /usr/local/lib/python3.11/dist-packages (from jinja2->spacy<3.8.0,>=3.7.2->en-core-web-sm==3.7.1) (3.0.2)\n",
            "Requirement already satisfied: marisa-trie>=1.1.0 in /usr/local/lib/python3.11/dist-packages (from language-data>=1.2->langcodes<4.0.0,>=3.2.0->spacy<3.8.0,>=3.7.2->en-core-web-sm==3.7.1) (1.2.1)\n",
            "Requirement already satisfied: markdown-it-py>=2.2.0 in /usr/local/lib/python3.11/dist-packages (from rich>=10.11.0->typer<1.0.0,>=0.3.0->spacy<3.8.0,>=3.7.2->en-core-web-sm==3.7.1) (3.0.0)\n",
            "Requirement already satisfied: pygments<3.0.0,>=2.13.0 in /usr/local/lib/python3.11/dist-packages (from rich>=10.11.0->typer<1.0.0,>=0.3.0->spacy<3.8.0,>=3.7.2->en-core-web-sm==3.7.1) (2.18.0)\n",
            "Requirement already satisfied: wrapt in /usr/local/lib/python3.11/dist-packages (from smart-open<8.0.0,>=5.2.1->weasel<0.5.0,>=0.1.0->spacy<3.8.0,>=3.7.2->en-core-web-sm==3.7.1) (1.17.2)\n",
            "Requirement already satisfied: mdurl~=0.1 in /usr/local/lib/python3.11/dist-packages (from markdown-it-py>=2.2.0->rich>=10.11.0->typer<1.0.0,>=0.3.0->spacy<3.8.0,>=3.7.2->en-core-web-sm==3.7.1) (0.1.2)\n",
            "\u001b[38;5;2m✔ Download and installation successful\u001b[0m\n",
            "You can now load the package via spacy.load('en_core_web_sm')\n",
            "\u001b[38;5;3m⚠ Restart to reload dependencies\u001b[0m\n",
            "If you are in a Jupyter or Colab notebook, you may need to restart Python in\n",
            "order to load all the package's dependencies. You can do this by selecting the\n",
            "'Restart kernel' or 'Restart runtime' option.\n"
          ]
        }
      ],
      "source": [
        "!pip install spacy rapidfuzz pandas openpyxl\n",
        "!python -m spacy download en_core_web_sm\n",
        "\n",
        "import spacy\n",
        "from rapidfuzz import process, fuzz\n",
        "import pandas as pd"
      ]
    },
    {
      "cell_type": "markdown",
      "source": [
        "###STEP 2: Load spaCy model"
      ],
      "metadata": {
        "id": "oJ7076OEqpGU"
      }
    },
    {
      "cell_type": "code",
      "source": [
        "nlp = spacy.load(\"en_core_web_sm\")"
      ],
      "metadata": {
        "colab": {
          "base_uri": "https://localhost:8080/"
        },
        "id": "5ZA7bG_UhQQt",
        "outputId": "d351778a-0fcb-472f-8633-199adbf2212b"
      },
      "execution_count": null,
      "outputs": [
        {
          "output_type": "stream",
          "name": "stderr",
          "text": [
            "/usr/local/lib/python3.11/dist-packages/spacy/util.py:1740: UserWarning: [W111] Jupyter notebook detected: if using `prefer_gpu()` or `require_gpu()`, include it in the same cell right before `spacy.load()` to ensure that the model is loaded on the correct device. More information: http://spacy.io/usage/v3#jupyter-notebook-gpu\n",
            "  warnings.warn(Warnings.W111)\n"
          ]
        }
      ]
    },
    {
      "cell_type": "markdown",
      "source": [
        "###STEP 3: Load KPI Dataset"
      ],
      "metadata": {
        "id": "TqFx0chUqxKw"
      }
    },
    {
      "cell_type": "code",
      "source": [
        "#Load KPI Dataset\n",
        "from google.colab import files\n",
        "uploaded = files.upload()"
      ],
      "metadata": {
        "colab": {
          "base_uri": "https://localhost:8080/",
          "height": 73
        },
        "id": "F3863KYhhdbZ",
        "outputId": "fee9604d-e941-4c8d-a8e0-7a2ed4cb1e93"
      },
      "execution_count": null,
      "outputs": [
        {
          "output_type": "display_data",
          "data": {
            "text/plain": [
              "<IPython.core.display.HTML object>"
            ],
            "text/html": [
              "\n",
              "     <input type=\"file\" id=\"files-1e547c85-c763-4fb2-a143-f1ff7972db0b\" name=\"files[]\" multiple disabled\n",
              "        style=\"border:none\" />\n",
              "     <output id=\"result-1e547c85-c763-4fb2-a143-f1ff7972db0b\">\n",
              "      Upload widget is only available when the cell has been executed in the\n",
              "      current browser session. Please rerun this cell to enable.\n",
              "      </output>\n",
              "      <script>// Copyright 2017 Google LLC\n",
              "//\n",
              "// Licensed under the Apache License, Version 2.0 (the \"License\");\n",
              "// you may not use this file except in compliance with the License.\n",
              "// You may obtain a copy of the License at\n",
              "//\n",
              "//      http://www.apache.org/licenses/LICENSE-2.0\n",
              "//\n",
              "// Unless required by applicable law or agreed to in writing, software\n",
              "// distributed under the License is distributed on an \"AS IS\" BASIS,\n",
              "// WITHOUT WARRANTIES OR CONDITIONS OF ANY KIND, either express or implied.\n",
              "// See the License for the specific language governing permissions and\n",
              "// limitations under the License.\n",
              "\n",
              "/**\n",
              " * @fileoverview Helpers for google.colab Python module.\n",
              " */\n",
              "(function(scope) {\n",
              "function span(text, styleAttributes = {}) {\n",
              "  const element = document.createElement('span');\n",
              "  element.textContent = text;\n",
              "  for (const key of Object.keys(styleAttributes)) {\n",
              "    element.style[key] = styleAttributes[key];\n",
              "  }\n",
              "  return element;\n",
              "}\n",
              "\n",
              "// Max number of bytes which will be uploaded at a time.\n",
              "const MAX_PAYLOAD_SIZE = 100 * 1024;\n",
              "\n",
              "function _uploadFiles(inputId, outputId) {\n",
              "  const steps = uploadFilesStep(inputId, outputId);\n",
              "  const outputElement = document.getElementById(outputId);\n",
              "  // Cache steps on the outputElement to make it available for the next call\n",
              "  // to uploadFilesContinue from Python.\n",
              "  outputElement.steps = steps;\n",
              "\n",
              "  return _uploadFilesContinue(outputId);\n",
              "}\n",
              "\n",
              "// This is roughly an async generator (not supported in the browser yet),\n",
              "// where there are multiple asynchronous steps and the Python side is going\n",
              "// to poll for completion of each step.\n",
              "// This uses a Promise to block the python side on completion of each step,\n",
              "// then passes the result of the previous step as the input to the next step.\n",
              "function _uploadFilesContinue(outputId) {\n",
              "  const outputElement = document.getElementById(outputId);\n",
              "  const steps = outputElement.steps;\n",
              "\n",
              "  const next = steps.next(outputElement.lastPromiseValue);\n",
              "  return Promise.resolve(next.value.promise).then((value) => {\n",
              "    // Cache the last promise value to make it available to the next\n",
              "    // step of the generator.\n",
              "    outputElement.lastPromiseValue = value;\n",
              "    return next.value.response;\n",
              "  });\n",
              "}\n",
              "\n",
              "/**\n",
              " * Generator function which is called between each async step of the upload\n",
              " * process.\n",
              " * @param {string} inputId Element ID of the input file picker element.\n",
              " * @param {string} outputId Element ID of the output display.\n",
              " * @return {!Iterable<!Object>} Iterable of next steps.\n",
              " */\n",
              "function* uploadFilesStep(inputId, outputId) {\n",
              "  const inputElement = document.getElementById(inputId);\n",
              "  inputElement.disabled = false;\n",
              "\n",
              "  const outputElement = document.getElementById(outputId);\n",
              "  outputElement.innerHTML = '';\n",
              "\n",
              "  const pickedPromise = new Promise((resolve) => {\n",
              "    inputElement.addEventListener('change', (e) => {\n",
              "      resolve(e.target.files);\n",
              "    });\n",
              "  });\n",
              "\n",
              "  const cancel = document.createElement('button');\n",
              "  inputElement.parentElement.appendChild(cancel);\n",
              "  cancel.textContent = 'Cancel upload';\n",
              "  const cancelPromise = new Promise((resolve) => {\n",
              "    cancel.onclick = () => {\n",
              "      resolve(null);\n",
              "    };\n",
              "  });\n",
              "\n",
              "  // Wait for the user to pick the files.\n",
              "  const files = yield {\n",
              "    promise: Promise.race([pickedPromise, cancelPromise]),\n",
              "    response: {\n",
              "      action: 'starting',\n",
              "    }\n",
              "  };\n",
              "\n",
              "  cancel.remove();\n",
              "\n",
              "  // Disable the input element since further picks are not allowed.\n",
              "  inputElement.disabled = true;\n",
              "\n",
              "  if (!files) {\n",
              "    return {\n",
              "      response: {\n",
              "        action: 'complete',\n",
              "      }\n",
              "    };\n",
              "  }\n",
              "\n",
              "  for (const file of files) {\n",
              "    const li = document.createElement('li');\n",
              "    li.append(span(file.name, {fontWeight: 'bold'}));\n",
              "    li.append(span(\n",
              "        `(${file.type || 'n/a'}) - ${file.size} bytes, ` +\n",
              "        `last modified: ${\n",
              "            file.lastModifiedDate ? file.lastModifiedDate.toLocaleDateString() :\n",
              "                                    'n/a'} - `));\n",
              "    const percent = span('0% done');\n",
              "    li.appendChild(percent);\n",
              "\n",
              "    outputElement.appendChild(li);\n",
              "\n",
              "    const fileDataPromise = new Promise((resolve) => {\n",
              "      const reader = new FileReader();\n",
              "      reader.onload = (e) => {\n",
              "        resolve(e.target.result);\n",
              "      };\n",
              "      reader.readAsArrayBuffer(file);\n",
              "    });\n",
              "    // Wait for the data to be ready.\n",
              "    let fileData = yield {\n",
              "      promise: fileDataPromise,\n",
              "      response: {\n",
              "        action: 'continue',\n",
              "      }\n",
              "    };\n",
              "\n",
              "    // Use a chunked sending to avoid message size limits. See b/62115660.\n",
              "    let position = 0;\n",
              "    do {\n",
              "      const length = Math.min(fileData.byteLength - position, MAX_PAYLOAD_SIZE);\n",
              "      const chunk = new Uint8Array(fileData, position, length);\n",
              "      position += length;\n",
              "\n",
              "      const base64 = btoa(String.fromCharCode.apply(null, chunk));\n",
              "      yield {\n",
              "        response: {\n",
              "          action: 'append',\n",
              "          file: file.name,\n",
              "          data: base64,\n",
              "        },\n",
              "      };\n",
              "\n",
              "      let percentDone = fileData.byteLength === 0 ?\n",
              "          100 :\n",
              "          Math.round((position / fileData.byteLength) * 100);\n",
              "      percent.textContent = `${percentDone}% done`;\n",
              "\n",
              "    } while (position < fileData.byteLength);\n",
              "  }\n",
              "\n",
              "  // All done.\n",
              "  yield {\n",
              "    response: {\n",
              "      action: 'complete',\n",
              "    }\n",
              "  };\n",
              "}\n",
              "\n",
              "scope.google = scope.google || {};\n",
              "scope.google.colab = scope.google.colab || {};\n",
              "scope.google.colab._files = {\n",
              "  _uploadFiles,\n",
              "  _uploadFilesContinue,\n",
              "};\n",
              "})(self);\n",
              "</script> "
            ]
          },
          "metadata": {}
        },
        {
          "output_type": "stream",
          "name": "stdout",
          "text": [
            "Saving test_data_modified_3.xlsx to test_data_modified_3 (1).xlsx\n"
          ]
        }
      ]
    },
    {
      "cell_type": "code",
      "source": [
        "import pandas as pd\n",
        "import re\n",
        "import nltk\n",
        "from nltk.corpus import wordnet\n",
        "from collections import defaultdict\n",
        "from difflib import SequenceMatcher\n",
        "from itertools import permutations\n",
        "\n",
        "# Download necessary NLTK resources\n",
        "nltk.download(\"wordnet\")\n",
        "nltk.download(\"averaged_perceptron_tagger\")\n",
        "nltk.download(\"omw-1.4\")\n",
        "nltk.download(\"punkt\")\n",
        "from nltk.tokenize import word_tokenize\n",
        "from nltk.stem import WordNetLemmatizer\n",
        "\n",
        "# Load KPI Dataset (assuming it's uploaded to Colab)\n",
        "from google.colab import files\n",
        "uploaded = files.upload()\n",
        "\n",
        "# Load the dataset\n",
        "file_path = \"test_data_modified_3.xlsx\"\n",
        "df = pd.read_excel(file_path, sheet_name=\"Sheet1\")\n",
        "\n",
        "# Extract unique KPI names\n",
        "kpi_list = df[\"KPI\"].dropna().unique().tolist()\n",
        "\n",
        "# Initialize Lemmatizer\n",
        "lemmatizer = WordNetLemmatizer()\n",
        "\n",
        "# Function to tokenize and clean text\n",
        "def tokenize(text):\n",
        "    text = text.lower()  # Convert to lowercase\n",
        "    text = re.sub(r\"[^a-zA-Z0-9\\s]\", \"\", text)  # Remove special characters\n",
        "    return [lemmatizer.lemmatize(word) for word in word_tokenize(text)]  # Lemmatize tokens\n",
        "\n",
        "# Function to get synonyms using WordNet\n",
        "def get_synonyms(word):\n",
        "    synonyms = set()\n",
        "    for syn in wordnet.synsets(word):\n",
        "        for lemma in syn.lemmas():\n",
        "            synonyms.add(lemma.name().replace(\"_\", \" \"))  # Replace underscores with spaces\n",
        "    return synonyms\n",
        "\n",
        "# Function to compute Jaccard similarity\n",
        "def jaccard_similarity(set1, set2):\n",
        "    intersection = len(set1 & set2)\n",
        "    union = len(set1 | set2)\n",
        "    return intersection / union if union != 0 else 0\n",
        "\n",
        "# Function to compute Levenshtein similarity\n",
        "def levenshtein_similarity(str1, str2):\n",
        "    return SequenceMatcher(None, str1, str2).ratio()\n",
        "\n",
        "# Function to find best matching KPI\n",
        "def find_best_kpi(query):\n",
        "    query_tokens = set(tokenize(query))\n",
        "\n",
        "    # Extract important words (nouns/adjectives) for better context matching\n",
        "    pos_tags = nltk.pos_tag(query_tokens)\n",
        "    important_words = {word for word, tag in pos_tags if tag in [\"NN\", \"NNS\", \"JJ\"]}  # Nouns & adjectives\n",
        "    expanded_query = query_tokens.copy()\n",
        "\n",
        "    # Expand query with synonyms\n",
        "    for word in important_words:\n",
        "        expanded_query.update(get_synonyms(word))\n",
        "\n",
        "    similarity_scores = []\n",
        "\n",
        "    for kpi in kpi_list:\n",
        "        kpi_tokens = set(tokenize(kpi))\n",
        "\n",
        "        # Compute Jaccard and Levenshtein similarities\n",
        "        jaccard_sim = jaccard_similarity(expanded_query, kpi_tokens)\n",
        "        levenshtein_sim = levenshtein_similarity(query, kpi)\n",
        "\n",
        "        # **Boost KPI relevance if it contains numeric patterns (like %)**\n",
        "        num_weight = 1.2 if \"%\" in kpi else 1.0\n",
        "\n",
        "        # **Increase weight for exact word matches**\n",
        "        exact_match_bonus = 0.3 if len(query_tokens & kpi_tokens) > 0 else 0\n",
        "\n",
        "        # Combine scores with weighted importance\n",
        "        total_score = (0.5 * jaccard_sim) + (0.4 * levenshtein_sim) + (exact_match_bonus)\n",
        "        total_score *= num_weight  # Apply weight adjustment\n",
        "\n",
        "        similarity_scores.append((kpi, total_score))\n",
        "\n",
        "    # Sort by highest similarity score\n",
        "    similarity_scores.sort(key=lambda x: x[1], reverse=True)\n",
        "\n",
        "    return similarity_scores[:5]  # Return top 5 matches\n",
        "\n",
        "# Example queries\n",
        "query = \"Which group\n"
      ],
      "metadata": {
        "id": "sw1InO3cZ7sl"
      },
      "execution_count": null,
      "outputs": []
    },
    {
      "cell_type": "markdown",
      "source": [
        "###STEP 4: Extract KPI List"
      ],
      "metadata": {
        "id": "TLGhZaOlq1qd"
      }
    },
    {
      "cell_type": "code",
      "source": [
        "#Extract KPI List\n",
        "df = pd.read_excel(\"test_data_modified_3.xlsx\")\n",
        "kpi_list = df[\"KPI\"].dropna().unique().tolist()"
      ],
      "metadata": {
        "id": "JNe31zLChkx1"
      },
      "execution_count": null,
      "outputs": []
    },
    {
      "cell_type": "code",
      "source": [
        "kpi_list"
      ],
      "metadata": {
        "colab": {
          "base_uri": "https://localhost:8080/"
        },
        "id": "2JwNiNAUiQQJ",
        "outputId": "4748c443-2bb6-40c2-aac4-3e8087addf37"
      },
      "execution_count": null,
      "outputs": [
        {
          "output_type": "execute_result",
          "data": {
            "text/plain": [
              "['Certified Employee in Current GC',\n",
              " 'Manpower Tracked for Certification- Competency',\n",
              " 'Loss Time Injuries',\n",
              " 'Loss Time Injuries (Contractor)',\n",
              " 'Off-Job Man Hours (Emp)',\n",
              " 'On-Job Man Hours (Contractor)',\n",
              " 'On-Job Man Hours (EMP + Cont)',\n",
              " 'On-Job Man Hours (Emp)',\n",
              " 'Positive Responses to the Phishing Tests',\n",
              " 'APNE/VCGNE',\n",
              " 'AV & Office Devices',\n",
              " 'App re-opened maint incidents',\n",
              " 'Application Cost/Per Hr. (In-House)',\n",
              " 'Applications Investment Capacity',\n",
              " 'Applications Maintain Capacity',\n",
              " 'Applications Run Capacity',\n",
              " 'Assets Net Book Value',\n",
              " 'Attrition',\n",
              " 'Average Company Workforce',\n",
              " 'BI-19 No. Overdue Projects (Past ERC)',\n",
              " 'BI-19 No. of Projects with ? 3 Months To ERC',\n",
              " 'Biz Travel',\n",
              " 'Business Sustainability - Below Target',\n",
              " 'Business Sustainability - Meeting Target',\n",
              " 'Business Sustainability - Yellow',\n",
              " 'CDPNE',\n",
              " 'CPH Positions - Total',\n",
              " 'CPH Positions Status - Acting',\n",
              " 'CPH Positions Status - Permanent',\n",
              " 'CPH Positions Status - Vacant',\n",
              " 'CRM Delivery – Number of Surveys Filled',\n",
              " 'CRM Delivery – Total Score of Satisfied',\n",
              " 'Capital Projects (BI19) - Approaching Deadline',\n",
              " 'Capital Projects (BI19) - Due',\n",
              " 'Capital Projects (BI19) - Overdue',\n",
              " 'Change Success Rate',\n",
              " 'Closed CRM',\n",
              " 'Closed DPSRs Started On Time',\n",
              " 'Closed DPSRs on Budget',\n",
              " 'Closed DPSRs on Time',\n",
              " 'Closed DPSRs on Time & Budget',\n",
              " 'Closed Incidents',\n",
              " 'Closed Maintenance Incidents',\n",
              " 'Closed Safety Observations',\n",
              " 'Communications',\n",
              " 'Competency Index',\n",
              " 'Compliant CRM',\n",
              " 'Compliant Incident',\n",
              " 'Computing',\n",
              " 'Conflict of Interest – Not Complied',\n",
              " 'Consultancy',\n",
              " 'Contracts',\n",
              " 'Controllable Cost',\n",
              " 'Controllable Cost ($)',\n",
              " 'Data Leakage Prevention (DLP)',\n",
              " 'Demand Fulfillment Capacity',\n",
              " 'Dev & Maint Hours',\n",
              " 'Development & Enhancements',\n",
              " 'Development Hours',\n",
              " 'Direct Controllable Cost',\n",
              " 'Direct Expenditures',\n",
              " 'E-Learning Security Essentials Completion',\n",
              " 'Education: Bachelor',\n",
              " 'Education: Masters',\n",
              " 'Education: Non-Degree',\n",
              " 'Emergency Change Rate',\n",
              " 'Emergency Changes',\n",
              " 'Emergency Transports vs. Normal',\n",
              " 'Employee Innovation Participation Rate',\n",
              " 'Employees Completed E-learning',\n",
              " 'Employees HeadCount',\n",
              " 'Fatalities (Off Job)',\n",
              " 'Female CPH',\n",
              " 'Female Representation',\n",
              " 'Food',\n",
              " 'Headcount with USB waiver',\n",
              " 'Health Safety Security Environment (HSSE) - Below Target',\n",
              " 'Health Safety Security Environment (HSSE) - Meeting Target',\n",
              " 'Health Safety Security Environment (HSSE) - Yellow',\n",
              " 'Hiring',\n",
              " 'IKTVA',\n",
              " 'IT Controllable Cost per User',\n",
              " 'IT Customer Satisfaction',\n",
              " 'Innovation Approval Rate',\n",
              " 'Innovation Average Review Time (Days)',\n",
              " 'Innovation Excellence Index',\n",
              " 'Innovation Implementation Rate',\n",
              " 'Innovation Realized Value',\n",
              " 'Innovation Realized Value ($)',\n",
              " 'Innovation Review Rate',\n",
              " 'KM Driven',\n",
              " 'KT112',\n",
              " 'KT113',\n",
              " 'LTI Incident Rate.',\n",
              " 'LTI Incident Rate',\n",
              " 'LTI Incident Rate (Contractor)',\n",
              " 'MPS - Number of YTD Requests',\n",
              " 'MVA',\n",
              " 'MVA Incident Rate',\n",
              " 'Maintenance Data Index ( OE 4.4 )',\n",
              " 'Maintenance Hours',\n",
              " 'Maintenance Strategy Index(OE 4.4)',\n",
              " 'Maintenance Tickets',\n",
              " 'Major Upgrades',\n",
              " 'Minor-to-Major Injury Ratio',\n",
              " 'Minor-to-Major Injury Ratio (Contractor)',\n",
              " 'Near Miss',\n",
              " 'Networking',\n",
              " 'Not Approved IDP',\n",
              " 'Not Submitted \\xa0IDP',\n",
              " 'Number of Emergency Transports (CHaRM)',\n",
              " 'Number of Emergency Transports (CRM)',\n",
              " 'Number of Failed Responses to the Phishing Tests',\n",
              " 'Number of Ideas Submitters',\n",
              " 'Number of Implemented ideas',\n",
              " 'Number of Loss Time Injuries',\n",
              " 'Number of MVA Incidents',\n",
              " 'Number of On-Job Injuries (EMP + Cont)',\n",
              " 'Number of On-Job Injuries (EMP)',\n",
              " 'Number of Phishing Test Recipients',\n",
              " 'Number of Recordable Injury/Illness (Contractor)',\n",
              " 'Number of Recordable Injury/Illness (EMP + Cont)',\n",
              " 'Number of Recordable Injury/Illness (Emp)',\n",
              " 'Number of Tier-1 Incidents',\n",
              " 'Number of Traffic Violations',\n",
              " 'Number of Traffic Warnings',\n",
              " 'Number of USB Waivers',\n",
              " 'OJI (Off Job Injuries)',\n",
              " 'OJI Incident Rate',\n",
              " 'OJI Incident Rate (EMP + Cont)',\n",
              " 'ON JOB MH (EMP+SMP)',\n",
              " 'Off Job Fatalities',\n",
              " 'On Budget DPSRs',\n",
              " 'On Job Fatalities',\n",
              " 'On Time & On Budget DPSRs',\n",
              " 'On Time DPSRs',\n",
              " 'Open Safety Recommendations (> 12 Mths) - Compliance Reviews',\n",
              " 'Open Safety Recommendations (> 12 Mths) - Insurance Survey',\n",
              " 'Open Safety Recommendations (> 12 Mths) - SAMIR',\n",
              " 'Open Safety Recommendations (ALL) - Compliance Reviews',\n",
              " 'Open Safety Recommendations (ALL) - Insurance Survey',\n",
              " 'Open Safety Recommendations (ALL) - SAMIR',\n",
              " 'Operation Management Hours',\n",
              " 'Operational - Below Target',\n",
              " 'Operational - Meeting Target',\n",
              " 'Operational - Yellow',\n",
              " 'Overall Permanent Employees',\n",
              " 'Overall Use Cases Summary',\n",
              " 'PDP Participants',\n",
              " 'Patents Filed',\n",
              " 'Patents Granted',\n",
              " 'Pending Purchase Orders',\n",
              " 'Pending Purchase Requisitions',\n",
              " 'People with Disability in Workforce',\n",
              " 'Phishing Emails Reported',\n",
              " 'Permanent CPH Employees',\n",
              " 'Permanent Female Employees',\n",
              " 'Phishing - Neutral',\n",
              " 'Phishing KPI (Positive)',\n",
              " 'Process Safety Event Tier-1',\n",
              " 'Professional Certification',\n",
              " 'RDP In',\n",
              " 'RDP Out',\n",
              " 'Re-opened Maintenance Incidents',\n",
              " 'Remedy Support Customer Satisfaction ()',\n",
              " 'Remedy Support – Number of Surveys Filled',\n",
              " 'Remedy Support – Total Score of Satisfied',\n",
              " 'Removable Media Restriction Exceptions Waived',\n",
              " 'Rollout & Configuration',\n",
              " 'SC11-17 employees',\n",
              " 'SC11-17 employees possessing a certification',\n",
              " 'SLA Compliance',\n",
              " 'SMPs',\n",
              " 'Safety Observations',\n",
              " 'Saudi Service Contractors',\n",
              " 'Service Contractor Saudization',\n",
              " 'Service Delivery Customer Satisfaction ()',\n",
              " 'Service Support Customer Satisfaction ()',\n",
              " 'Started On Time DPSRs',\n",
              " 'Successfully Implemented Changes',\n",
              " 'Test Phishing Email Failure',\n",
              " 'Test Phishing Email Failure (Repeated Violators)',\n",
              " 'Test Phishing Email Neutral',\n",
              " 'Test Phishing Email Positive',\n",
              " 'Total Approved Changes',\n",
              " 'Total Attrition',\n",
              " 'Total Capacity Hours',\n",
              " 'Total Closed DPSRs',\n",
              " 'Total Major Injuries',\n",
              " 'Total Major Injuries (Contractor)',\n",
              " 'Total Minor Injuries (Contractor)',\n",
              " 'Total No. of Employees (Regular + SMPs)',\n",
              " 'Total Number of Transports (CHaRM)',\n",
              " 'Total Number of Transports (CRM)',\n",
              " 'Total Recorded Case Frequency',\n",
              " 'Total Recorded Case Frequency (Contractor)',\n",
              " 'Total Recorded Case Frequency.',\n",
              " 'Total Service Contractors',\n",
              " 'Total Tracked Employees',\n",
              " 'Traffic Violations',\n",
              " 'Traffic Violations – AVL',\n",
              " 'Traffic Violations – Contractors',\n",
              " 'Traffic Violations – SA',\n",
              " 'Traffic Violations – Speeding',\n",
              " 'Traffic Warnings',\n",
              " 'Training',\n",
              " 'Transfer In',\n",
              " 'Transfer Out',\n",
              " 'Unauthorized Jobs',\n",
              " 'Unplanned DPSRs',\n",
              " 'Upkeep General Support',\n",
              " 'Upkeep Security & Quality',\n",
              " 'Value Creation - Below Target',\n",
              " 'Value Creation - Meeting Target',\n",
              " 'Value Creation - Yellow',\n",
              " 'Visitors Requests',\n",
              " 'Workforce',\n",
              " 'Workforce Average Age',\n",
              " 'Workforce Variance',\n",
              " 'Workforce w/o SMPs',\n",
              " 'reusable KPI Key from active Tile',\n",
              " 'Total Minor Injuries',\n",
              " \"Active Applications' Users over a 9 days\",\n",
              " 'Headcount Tracked for USB Waiver',\n",
              " 'Non-SAP Applications Utilization',\n",
              " 'Permanent PwD Employees',\n",
              " \"Total Applications' authorized users\",\n",
              " 'Miscellaneous',\n",
              " 'Permanent CPH Female Employees',\n",
              " 'Education: PHDs',\n",
              " 'of Risk Administrators who completed the ERM classroom tra',\n",
              " 'of active risks with high severity and ongoing treatments(',\n",
              " 'Citizen Development Use Cases',\n",
              " 'Communication Completeness (9.1)',\n",
              " 'Flagship Use Cases',\n",
              " 'Foundry Use Cases',\n",
              " 'Strategic Initiative Implementation(1.1)',\n",
              " '224 Releases',\n",
              " '224 Use Cases',\n",
              " '224-226 BP Releases',\n",
              " 'Actual KA ()',\n",
              " 'Actual KE Hours ()',\n",
              " 'Actual KMI Hours',\n",
              " 'Avg. Duration of Execution',\n",
              " 'Avg. Duration of Ideation',\n",
              " 'Avg. Duration of Use Cases Delivery',\n",
              " 'Budget Management (OES 7.1)',\n",
              " 'CAPI Overall Score (OES 7.1)',\n",
              " 'Capture Lessons Learned, Best Practices, and other knowledge',\n",
              " 'Capture lesson learned (1.2)',\n",
              " 'Capture lessons learned (12.3)',\n",
              " 'Capture lessons learned (2.1)',\n",
              " 'Capture lessons learned (5.1)',\n",
              " 'Capture lessons learned (9.2)',\n",
              " 'Certified ISA Compliance Index',\n",
              " 'Completed Releases',\n",
              " 'Current Quarter Releases in Execution',\n",
              " 'Deviations Avoidance',\n",
              " 'ERM Trained Staff',\n",
              " 'HR Effectiveness',\n",
              " 'Handover from Ideation to Execution',\n",
              " 'IKTVA-ized Spend',\n",
              " 'Ideation Efficiency Index',\n",
              " 'Ideation Success Rate',\n",
              " 'Identify Lesson Learned (4.4)',\n",
              " 'Implemented KAs with Benefits ()',\n",
              " 'Invoice Processing Time (OES 7.1)',\n",
              " 'Knowledge Assets Generation',\n",
              " 'Knowledge Assets Reuse',\n",
              " 'Knowledge Management Index',\n",
              " 'Knowledge Management Index (KMI) (OE 12.2)',\n",
              " 'Knowledge Sharing Events',\n",
              " 'LFC Bid Slate Health (OE 7.1)',\n",
              " 'LFC Procurement Time (OE 7.1)',\n",
              " 'MFC & SFC Processing Time (OES 7.1)',\n",
              " 'MFC&SFC Single Source Value (OES 7.1)',\n",
              " 'No. of BP Use Cases Under Execution',\n",
              " 'No. of BP Use Cases in Transition from Ideation to Execution',\n",
              " 'No. of Backlog Use Cases',\n",
              " 'No. of Completed BP Use Cases',\n",
              " 'No. of Completed Use Cases',\n",
              " 'No. of Ideated Use Cases',\n",
              " 'No. of Ongoing BP Use Cases (DT Achieved)',\n",
              " 'No. of Ongoing BP Use Cases Exceeding Target Delivery',\n",
              " 'No. of Ongoing Use Cases',\n",
              " 'No. of Ongoing Use Cases Exceeding Target Delivery',\n",
              " 'No. of Outsourced Use Cases',\n",
              " 'No. of Use Cases Parked due to Funding',\n",
              " 'No. of Use Cases Under Execution',\n",
              " 'No. of Use Cases Under Ideation',\n",
              " 'No. of Use Cases in Transition from Ideation to Execution',\n",
              " 'Number of Active Risk with Identified Business Objectives (1',\n",
              " 'Number of Active Risk with Identified Impacted Business Proc',\n",
              " 'Number of Active Risk with Identified Individual Controls(11',\n",
              " 'Number of Active Risk with Identified Treatment Options (11.',\n",
              " 'Number of Active Risk with Identified Worse Case Scenario(11',\n",
              " 'Number of Active Risk with Overall Effectiveness(11.1)',\n",
              " 'Number of Generated Knowledge Assets(1.2)',\n",
              " 'Number of Generated Knowledge Assets(11.1)',\n",
              " 'Number of Generated Knowledge Assets(11.3)',\n",
              " 'Number of Generated Knowledge Assets(12.1)',\n",
              " 'Number of Generated Knowledge Assets(12.2)',\n",
              " 'Number of Generated Knowledge Assets(2.1)',\n",
              " 'Number of Generated Knowledge Assets(5.1)',\n",
              " 'Number of Generated Knowledge Assets(7.1)',\n",
              " 'Number of Generated Knowledge Assets(9.1)',\n",
              " 'Number of Generated Knowledge Assets(9.2)',\n",
              " 'Number of Generated Lesson Learn Generation(1.1)',\n",
              " 'Number of Generated Lesson Learn Generation(1.2)',\n",
              " 'Number of Generated Lesson Learn Generation(11.1)',\n",
              " 'Number of Generated Lesson Learn Generation(12.1)',\n",
              " 'Number of Generated Lesson Learn Generation(12.2)',\n",
              " 'Number of Generated Lesson Learn Generation(12.3)',\n",
              " 'Number of Generated Lesson Learn Generation(2.1)',\n",
              " 'Number of Generated Lesson Learn Generation(4.4)',\n",
              " 'Number of Generated Lesson Learn Generation(5.1)',\n",
              " 'Number of Generated Lesson Learn Generation(9.1)',\n",
              " 'Number of Generated Lesson Learn Generation(9.2)',\n",
              " 'Number of Risk with Identified Causes (11.1)',\n",
              " 'Number of Risk with Identified Velocity (11.1)',\n",
              " 'ON JOB MH (CON)',\n",
              " 'Operational Excellence Index',\n",
              " 'Organization Supported by ISA',\n",
              " 'Organization with Certified ISA',\n",
              " 'Outsourced Releases',\n",
              " 'Overdue Penetration Test Findings',\n",
              " 'Overdue Treatment Tasks (11.1)',\n",
              " 'Patch level Compliance',\n",
              " 'Patched SAP Systems',\n",
              " 'Percentage of Canceled Actions (OES 7.1)',\n",
              " 'Releases Exceeding Target Delivery',\n",
              " 'Releases Parked due to Funding',\n",
              " 'Releases in Execution',\n",
              " 'Review previous Lessons Learned (7.1)',\n",
              " 'Risk Administrator Training (11.1)',\n",
              " 'Risk Business Objectives Registry (11.1)',\n",
              " 'Risk Causes Registry (11.1)',\n",
              " 'Risk Impacted Business Process Registry (11.1)',\n",
              " 'Risk Individual Controls Registry (11.1)',\n",
              " 'Risk Individual Effectiveness Registry (11.1)',\n",
              " 'Risk Mitigation Ratio (11.1)',\n",
              " 'Risk Overall Effectiveness Registry (11.1)',\n",
              " 'Risk Treatment Options Registry (11.1)',\n",
              " 'Risk Treatment Plan Registry (11.1)',\n",
              " 'Risk Treatment Strategy Registry (11.1)',\n",
              " 'Risk Velocity Registry (11.1)',\n",
              " 'Risk Worse Case Scenario Registry (11.1)',\n",
              " 'Risks Updated Active Treatment Plans',\n",
              " 'SAP Applications Utilization',\n",
              " 'SAP Systems',\n",
              " 'Scalability Index (DT Archived)',\n",
              " 'Schedule Compliance Index',\n",
              " 'Schedule Compliance Index.',\n",
              " 'Services Utilization',\n",
              " 'Share best practices (12.1)',\n",
              " 'Strategic Initiatives Implementation Actual Progress(1.1)',\n",
              " 'Strategic Initiatives Implementation Planned Progress(1.1)',\n",
              " 'Supplier Performance (OES 7.1)',\n",
              " 'Target KA ()',\n",
              " 'Target KE Hours ()',\n",
              " 'Target KMI Hours',\n",
              " 'Target Mapped KAs ()',\n",
              " 'Top Performer Retention',\n",
              " 'Total of Risk Administrators (11.1)',\n",
              " 'Total of high severity risks (11.1)',\n",
              " 'Total of treatment tasks',\n",
              " 'Total Number of Active Risk (11.1)',\n",
              " 'Total SAP Systems',\n",
              " 'Total Spend',\n",
              " 'Total Sponsored CDPNE',\n",
              " 'YTD Active Employees with Average PMP Rating of E+ & S']"
            ]
          },
          "metadata": {},
          "execution_count": 74
        }
      ]
    },
    {
      "cell_type": "markdown",
      "source": [
        "###STEP 5: Extract Potential KPI Entities:\n",
        "  <ol>1. Remove Noise words</ol>\n",
        "  <ol>2. Extract entities that are relevant to the query</ol>\n",
        "  <ol>3. Extract entities using bigrams and trigrams for better context understanding</ol>\n",
        "  <ol>4. Combine KPI entities extracted earlier</ol>\n",
        "\n"
      ],
      "metadata": {
        "id": "eIEb-EqYq6Hd"
      }
    },
    {
      "cell_type": "code",
      "source": [
        "def extract_kpi_entities(query):\n",
        "    doc = nlp(query)\n",
        "\n",
        "    # Exclude common words that create noise\n",
        "    exclude_words = {\"plan\", \"beginning\", \"cost\", \"total\", \"overall\"}\n",
        "\n",
        "    words = [token.text for token in doc if token.pos_ in [\"NOUN\", \"PROPN\", \"ADJ\",\"ORG\",\"MONEY\",\"PERCENT\",\"QUANTITY\"] and token.text.lower() not in exclude_words]\n",
        "    bigrams = [\" \".join(words[i:i+2]) for i in range(len(words)-1)]\n",
        "    trigrams = [\" \".join(words[i:i+3]) for i in range(len(words)-2)]\n",
        "\n",
        "    extracted_entities = words + bigrams + trigrams\n",
        "    print(f\"Extracted Entities (Final Version): {extracted_entities}\")\n",
        "\n",
        "    return extracted_entities if extracted_entities else [query]"
      ],
      "metadata": {
        "id": "K2RV3bW7iXu_"
      },
      "execution_count": null,
      "outputs": []
    },
    {
      "cell_type": "markdown",
      "source": [
        "###STEP 6: Extract Top Matching KPIs\n",
        "<ol>1. Ignore generic words unless part of a phrase </ol>\n",
        "<ol>2. Adjust threshold for shorter terms </ol>\n",
        "<ol>3. Apply fuzzy matching with adjusted threshold </ol>\n",
        "<ol>4. Exact substring fallback for acronyms and dates</ol>\n",
        "<ol>5. Handle \"Number of X\" cases (ensure relevant filtering)</ol>\n",
        "<ol>6. Prioritize longer matches</ol>"
      ],
      "metadata": {
        "id": "NGu7siQHrw_W"
      }
    },
    {
      "cell_type": "code",
      "source": [
        "def get_top_matching_kpis(query, top_n=3):\n",
        "    extracted_entities = extract_kpi_entities(query)\n",
        "    matched_kpis = []\n",
        "\n",
        "    for entity in extracted_entities:\n",
        "        if entity.lower() in {\"group\", \"highest\", \"number\", \"plan\", \"cost\", \"total\"}:\n",
        "            continue\n",
        "\n",
        "        # Lowered thresholds\n",
        "        threshold = 65 if len(entity) <= 4 else 75\n",
        "\n",
        "        best_matches = process.extract(entity, kpi_list, scorer=fuzz.token_set_ratio, limit=top_n)\n",
        "\n",
        "        # Debug print to check potential matches before filtering\n",
        "        print(f\"Potential Matches for '{entity}': {best_matches}\")\n",
        "\n",
        "        filtered_matches = [match[0] for match in best_matches if match[1] >= threshold]\n",
        "\n",
        "        if not filtered_matches:\n",
        "            filtered_matches = [kpi for kpi in kpi_list if entity.lower() in kpi.lower()]\n",
        "\n",
        "        if \"number\" in entity.lower():\n",
        "            filtered_matches = [kpi for kpi in filtered_matches if any(word in kpi.lower() for word in extracted_entities)]\n",
        "\n",
        "        print(f\"Filtered Matches for '{entity}': {filtered_matches}\")\n",
        "        matched_kpis.extend(filtered_matches)\n",
        "\n",
        "    matched_kpis = sorted(set(matched_kpis), key=len, reverse=True)\n",
        "    return matched_kpis"
      ],
      "metadata": {
        "id": "Ldvn56htkBlm"
      },
      "execution_count": null,
      "outputs": []
    },
    {
      "cell_type": "markdown",
      "source": [
        "###STEP 7: Use Relevant Queries to extract KPIs"
      ],
      "metadata": {
        "id": "0ynH0k9tsh9I"
      }
    },
    {
      "cell_type": "code",
      "source": [
        "# Test query\n",
        "query = \"Which group in CAD has the highest % of female representation?\"\n",
        "print(get_top_matching_kpis(query))\n"
      ],
      "metadata": {
        "colab": {
          "base_uri": "https://localhost:8080/"
        },
        "id": "eE0rZtkNk-km",
        "outputId": "6e256270-cdc2-4b87-d307-fcf31be26afa"
      },
      "execution_count": null,
      "outputs": [
        {
          "output_type": "stream",
          "name": "stdout",
          "text": [
            "Extracted Entities (Final Version): ['group', 'CAD', 'highest', '%', 'female', 'representation', 'group CAD', 'CAD highest', 'highest %', '% female', 'female representation', 'group CAD highest', 'CAD highest %', 'highest % female', '% female representation']\n",
            "Potential Matches for 'CAD': [('CDPNE', 50.0, 25), ('MVA', 33.33333333333333, 97), ('IKTVA', 25.0, 80)]\n",
            "Filtered Matches for 'CAD': []\n",
            "Potential Matches for '%': [('Certified Employee in Current GC', 0.0, 0), ('Manpower Tracked for Certification- Competency', 0.0, 1), ('Loss Time Injuries', 0.0, 2)]\n",
            "Filtered Matches for '%': []\n",
            "Potential Matches for 'female': [('Female CPH', 62.5, 72), ('Female Representation', 37.03703703703704, 73), ('Total Spend', 35.294117647058826, 368)]\n",
            "Filtered Matches for 'female': ['Female CPH', 'Female Representation', 'Permanent Female Employees', 'Permanent CPH Female Employees']\n",
            "Potential Matches for 'representation': [('Female Representation', 74.28571428571428, 73), ('Services Utilization', 58.8235294117647, 353), ('Top Performer Retention', 54.054054054054056, 362)]\n",
            "Filtered Matches for 'representation': ['Female Representation']\n",
            "Potential Matches for 'group CAD': [('Compliant CRM', 36.36363636363637, 46), ('Attrition', 33.33333333333333, 17), ('Computing', 33.33333333333333, 48)]\n",
            "Filtered Matches for 'group CAD': []\n",
            "Potential Matches for 'CAD highest': [('Target KA ()', 43.47826086956522, 358), ('Total Approved Changes', 42.42424242424242, 184), ('Closed Incidents', 37.03703703703704, 41)]\n",
            "Filtered Matches for 'CAD highest': []\n",
            "Potential Matches for 'highest %': [('Test Phishing Email Failure', 38.888888888888886, 180), ('Test Phishing Email Neutral', 38.888888888888886, 182), ('Total Approved Changes', 38.70967741935484, 184)]\n",
            "Filtered Matches for 'highest %': []\n",
            "Potential Matches for '% female': [('Female CPH', 66.66666666666666, 72), ('SC11-17 employees', 40.0, 169), ('224 Releases', 40.0, 237)]\n",
            "Filtered Matches for '% female': []\n",
            "Potential Matches for 'female representation': [('Female Representation', 90.47619047619048, 73), ('Top Performer Retention', 50.0, 362), ('Operational Excellence Index', 48.97959183673469, 321)]\n",
            "Filtered Matches for 'female representation': ['Female Representation']\n",
            "Potential Matches for 'group CAD highest': [('Total Approved Changes', 46.15384615384615, 184), ('Target KA ()', 41.37931034482759, 358), ('Dev & Maint Hours', 41.1764705882353, 56)]\n",
            "Filtered Matches for 'group CAD highest': []\n",
            "Potential Matches for 'CAD highest %': [('Target KA ()', 48.0, 358), ('Test Phishing Email Failure', 40.0, 180), ('Test Phishing Email Neutral', 40.0, 182)]\n",
            "Filtered Matches for 'CAD highest %': []\n",
            "Potential Matches for 'highest % female': [('Test Phishing Email Failure', 51.16279069767442, 180), ('Test Phishing Email Neutral', 51.16279069767442, 182), ('Female Representation', 48.648648648648646, 73)]\n",
            "Filtered Matches for 'highest % female': []\n",
            "Potential Matches for '% female representation': [('Female Representation', 86.36363636363636, 73), ('Data Leakage Prevention (DLP)', 50.0, 54), ('Operation Management Hours', 48.97959183673469, 142)]\n",
            "Filtered Matches for '% female representation': ['Female Representation']\n",
            "['Permanent CPH Female Employees', 'Permanent Female Employees', 'Female Representation', 'Female CPH']\n"
          ]
        }
      ]
    },
    {
      "cell_type": "code",
      "source": [
        "get_top_matching_kpis(\"How many patents were granted for SCMD in April 2024?\")"
      ],
      "metadata": {
        "colab": {
          "base_uri": "https://localhost:8080/"
        },
        "id": "4cZy5RavlBgV",
        "outputId": "8ce78aaf-338c-439d-f142-73df44958690"
      },
      "execution_count": null,
      "outputs": [
        {
          "output_type": "stream",
          "name": "stdout",
          "text": [
            "Extracted Entities (Final Version): ['many', 'patents', 'SCMD', 'April', 'many patents', 'patents SCMD', 'SCMD April', 'many patents SCMD', 'patents SCMD April']\n",
            "Potential Matches for 'many': [('Consultancy', 40.0, 50), ('Compliant CRM', 35.294117647058826, 46), ('Communications', 33.33333333333333, 44)]\n",
            "Filtered Matches for 'many': []\n",
            "Potential Matches for 'patents': [('Patents Filed', 60.0, 149), ('Patents Granted', 54.54545454545455, 150), ('Compliant Incident', 48.0, 47)]\n",
            "Filtered Matches for 'patents': ['Patents Filed', 'Patents Granted']\n",
            "Potential Matches for 'SCMD': [('SMPs', 50.0, 172), ('CDPNE', 44.44444444444444, 25), ('Closed CRM', 28.57142857142857, 36)]\n",
            "Filtered Matches for 'SCMD': []\n",
            "Potential Matches for 'April': [('Attrition', 42.857142857142854, 17), ('Total Attrition', 40.0, 185), ('Hiring', 36.36363636363637, 79)]\n",
            "Filtered Matches for 'April': []\n",
            "Potential Matches for 'many patents': [('Patents Granted', 66.66666666666666, 150), ('Patents Filed', 56.0, 149), ('Compliant Incident', 46.666666666666664, 47)]\n",
            "Filtered Matches for 'many patents': []\n",
            "Potential Matches for 'patents SCMD': [('Compliant CRM', 56.0, 46), ('Patents Filed', 56.0, 149), ('Patents Granted', 51.851851851851855, 150)]\n",
            "Filtered Matches for 'patents SCMD': []\n",
            "Potential Matches for 'SCMD April': [('KM Driven', 42.10526315789474, 90), ('Not Approved IDP', 38.46153846153846, 108), ('Operational - Yellow', 33.33333333333333, 145)]\n",
            "Filtered Matches for 'SCMD April': []\n",
            "Potential Matches for 'many patents SCMD': [('Patents Granted', 56.25, 150), ('Compliant CRM', 53.333333333333336, 46), ('PDP Participants', 48.484848484848484, 148)]\n",
            "Filtered Matches for 'many patents SCMD': []\n",
            "Potential Matches for 'patents SCMD April': [('Patents Filed', 58.064516129032256, 149), ('Patents Granted', 48.484848484848484, 150), ('Compliant CRM', 45.16129032258065, 46)]\n",
            "Filtered Matches for 'patents SCMD April': []\n"
          ]
        },
        {
          "output_type": "execute_result",
          "data": {
            "text/plain": [
              "['Patents Granted', 'Patents Filed']"
            ]
          },
          "metadata": {},
          "execution_count": 134
        }
      ]
    },
    {
      "cell_type": "code",
      "source": [
        "get_top_matching_kpis(\"What was CAD Controllable Cost plan in the beginning of 2024?\")"
      ],
      "metadata": {
        "colab": {
          "base_uri": "https://localhost:8080/"
        },
        "id": "TBVa_31nmKgR",
        "outputId": "48fa2ccb-027a-4980-e2af-97b703105904"
      },
      "execution_count": null,
      "outputs": [
        {
          "output_type": "stream",
          "name": "stdout",
          "text": [
            "Extracted Entities (Final Version): ['CAD', 'Controllable', 'CAD Controllable']\n",
            "Potential Matches for 'CAD': [('CDPNE', 50.0, 25), ('MVA', 33.33333333333333, 97), ('IKTVA', 25.0, 80)]\n",
            "Filtered Matches for 'CAD': []\n",
            "Potential Matches for 'Controllable': [('Controllable Cost', 100.0, 52), ('Controllable Cost ($)', 100.0, 53), ('Direct Controllable Cost', 100.0, 59)]\n",
            "Filtered Matches for 'Controllable': ['Controllable Cost', 'Controllable Cost ($)', 'Direct Controllable Cost']\n",
            "Potential Matches for 'CAD Controllable': [('Controllable Cost', 85.71428571428571, 52), ('Controllable Cost ($)', 85.71428571428571, 53), ('Direct Controllable Cost', 85.71428571428571, 59)]\n",
            "Filtered Matches for 'CAD Controllable': ['Controllable Cost', 'Controllable Cost ($)', 'Direct Controllable Cost']\n"
          ]
        },
        {
          "output_type": "execute_result",
          "data": {
            "text/plain": [
              "['Direct Controllable Cost', 'Controllable Cost ($)', 'Controllable Cost']"
            ]
          },
          "metadata": {},
          "execution_count": 135
        }
      ]
    },
    {
      "cell_type": "code",
      "source": [
        "get_top_matching_kpis(\"What is the Professional Certification % in F&AD in July 2024?\")"
      ],
      "metadata": {
        "colab": {
          "base_uri": "https://localhost:8080/"
        },
        "id": "gH44pcxTm0Bx",
        "outputId": "27e003ba-5e0d-4637-ecb2-d7994c7123f1"
      },
      "execution_count": null,
      "outputs": [
        {
          "output_type": "stream",
          "name": "stdout",
          "text": [
            "Extracted Entities (Final Version): ['Professional', 'Certification', '%', 'F&AD', 'July', 'Professional Certification', 'Certification %', '% F&AD', 'F&AD July', 'Professional Certification %', 'Certification % F&AD', '% F&AD July']\n",
            "Potential Matches for 'Professional': [('Professional Certification', 100.0, 160), ('CPH Positions - Total', 48.484848484848484, 26), ('Total Attrition', 44.44444444444444, 185)]\n",
            "Filtered Matches for 'Professional': ['Professional Certification']\n",
            "Potential Matches for 'Certification': [('Professional Certification', 100.0, 160), ('Services Utilization', 60.60606060606061, 353), ('IT Customer Satisfaction', 59.45945945945946, 82)]\n",
            "Filtered Matches for 'Certification': ['Professional Certification']\n",
            "Potential Matches for '%': [('Certified Employee in Current GC', 0.0, 0), ('Manpower Tracked for Certification- Competency', 0.0, 1), ('Loss Time Injuries', 0.0, 2)]\n",
            "Filtered Matches for '%': []\n",
            "Potential Matches for 'F&AD': [('MVA', 28.57142857142857, 97), ('AV & Office Devices', 26.086956521739125, 10), ('Food', 25.0, 74)]\n",
            "Filtered Matches for 'F&AD': []\n",
            "Potential Matches for 'July': [('Consultancy', 40.0, 50), ('Actual KA ()', 25.0, 240), ('Upkeep Security & Quality', 20.689655172413794, 211)]\n",
            "Filtered Matches for 'July': []\n",
            "Potential Matches for 'Professional Certification': [('Professional Certification', 100.0, 160), ('SC11-17 employees possessing a certification', 57.142857142857146, 170), ('Releases in Execution', 51.06382978723404, 332)]\n",
            "Filtered Matches for 'Professional Certification': ['Professional Certification']\n",
            "Potential Matches for 'Certification %': [('Professional Certification', 92.85714285714286, 160), ('Services Utilization', 57.142857142857146, 353), ('IT Customer Satisfaction', 56.41025641025641, 82)]\n",
            "Filtered Matches for 'Certification %': ['Professional Certification']\n",
            "Potential Matches for '% F&AD': [('RDP In', 33.33333333333333, 161), ('RDP Out', 30.769230769230774, 162), ('Female CPH', 25.0, 72)]\n",
            "Filtered Matches for '% F&AD': []\n",
            "Potential Matches for 'F&AD July': [('Dev & Maint Hours', 30.769230769230774, 56), ('Consultancy', 30.0, 50), ('SAP Systems', 30.0, 349)]\n",
            "Filtered Matches for 'F&AD July': []\n",
            "Potential Matches for 'Professional Certification %': [('Professional Certification', 100.0, 160), ('SC11-17 employees possessing a certification', 55.55555555555556, 170), ('Releases in Execution', 48.97959183673469, 332)]\n",
            "Filtered Matches for 'Professional Certification %': ['Professional Certification']\n",
            "Potential Matches for 'Certification % F&AD': [('Professional Certification', 78.78787878787878, 160), ('Traffic Violations – SA', 51.16279069767442, 202), ('Organization with Certified ISA', 50.98039215686274, 323)]\n",
            "Filtered Matches for 'Certification % F&AD': ['Professional Certification']\n",
            "Potential Matches for '% F&AD July': [('Actual KA ()', 34.78260869565217, 240), ('Dev & Maint Hours', 28.57142857142857, 56), ('Female CPH', 28.57142857142857, 72)]\n",
            "Filtered Matches for '% F&AD July': []\n"
          ]
        },
        {
          "output_type": "execute_result",
          "data": {
            "text/plain": [
              "['Professional Certification']"
            ]
          },
          "metadata": {},
          "execution_count": 136
        }
      ]
    },
    {
      "cell_type": "code",
      "source": [
        "get_top_matching_kpis(\"Which group in CAD has the highest number of female employees?\")"
      ],
      "metadata": {
        "colab": {
          "base_uri": "https://localhost:8080/"
        },
        "id": "Q6KX-CTono50",
        "outputId": "aeaec517-243a-494c-d130-7725850b7ed4"
      },
      "execution_count": null,
      "outputs": [
        {
          "output_type": "stream",
          "name": "stdout",
          "text": [
            "Extracted Entities (Final Version): ['group', 'CAD', 'highest', 'number', 'female', 'employees', 'group CAD', 'CAD highest', 'highest number', 'number female', 'female employees', 'group CAD highest', 'CAD highest number', 'highest number female', 'number female employees']\n",
            "Potential Matches for 'CAD': [('CDPNE', 50.0, 25), ('MVA', 33.33333333333333, 97), ('IKTVA', 25.0, 80)]\n",
            "Filtered Matches for 'CAD': []\n",
            "Potential Matches for 'female': [('Female CPH', 62.5, 72), ('Female Representation', 37.03703703703704, 73), ('Total Spend', 35.294117647058826, 368)]\n",
            "Filtered Matches for 'female': ['Female CPH', 'Female Representation', 'Permanent Female Employees', 'Permanent CPH Female Employees']\n",
            "Potential Matches for 'employees': [('SC11-17 employees', 100.0, 169), ('SC11-17 employees possessing a certification', 100.0, 170), ('Employees HeadCount', 57.142857142857146, 70)]\n",
            "Filtered Matches for 'employees': ['SC11-17 employees', 'SC11-17 employees possessing a certification']\n",
            "Potential Matches for 'group CAD': [('Compliant CRM', 36.36363636363637, 46), ('Attrition', 33.33333333333333, 17), ('Computing', 33.33333333333333, 48)]\n",
            "Filtered Matches for 'group CAD': []\n",
            "Potential Matches for 'CAD highest': [('Target KA ()', 43.47826086956522, 358), ('Total Approved Changes', 42.42424242424242, 184), ('Closed Incidents', 37.03703703703704, 41)]\n",
            "Filtered Matches for 'CAD highest': []\n",
            "Potential Matches for 'highest number': [('Emergency Changes', 51.61290322580645, 66), ('Number of MVA Incidents', 48.648648648648646, 116), ('Number of Tier-1 Incidents', 45.0, 123)]\n",
            "Filtered Matches for 'highest number': []\n",
            "Potential Matches for 'number female': [('Female Representation', 47.05882352941177, 73), ('Number of Implemented ideas', 45.0, 114), ('Female CPH', 43.47826086956522, 72)]\n",
            "Filtered Matches for 'number female': []\n",
            "Potential Matches for 'female employees': [('SC11-17 employees', 72.0, 169), ('SC11-17 employees possessing a certification', 72.0, 170), ('Permanent CPH Employees', 66.66666666666666, 155)]\n",
            "Filtered Matches for 'female employees': ['Permanent Female Employees', 'Permanent CPH Female Employees']\n",
            "Potential Matches for 'group CAD highest': [('Total Approved Changes', 46.15384615384615, 184), ('Target KA ()', 41.37931034482759, 358), ('Dev & Maint Hours', 41.1764705882353, 56)]\n",
            "Filtered Matches for 'group CAD highest': []\n",
            "Potential Matches for 'CAD highest number': [('Emergency Changes', 51.42857142857143, 66), ('Number of MVA Incidents', 43.90243902439025, 116), ('Change Success Rate', 43.24324324324324, 35)]\n",
            "Filtered Matches for 'CAD highest number': []\n",
            "Potential Matches for 'highest number female': [('Female Representation', 47.61904761904762, 73), ('Number of Implemented ideas', 45.833333333333336, 114), ('Test Phishing Email Failure', 45.833333333333336, 180)]\n",
            "Filtered Matches for 'highest number female': []\n",
            "Potential Matches for 'number female employees': [('Permanent Female Employees', 69.38775510204081, 156), ('SC11-17 employees', 69.23076923076923, 169), ('Permanent CPH Female Employees', 64.15094339622641, 228)]\n",
            "Filtered Matches for 'number female employees': []\n"
          ]
        },
        {
          "output_type": "execute_result",
          "data": {
            "text/plain": [
              "['SC11-17 employees possessing a certification',\n",
              " 'Permanent CPH Female Employees',\n",
              " 'Permanent Female Employees',\n",
              " 'Female Representation',\n",
              " 'SC11-17 employees',\n",
              " 'Female CPH']"
            ]
          },
          "metadata": {},
          "execution_count": 137
        }
      ]
    },
    {
      "cell_type": "code",
      "source": [
        "get_top_matching_kpis(\"Which division in CAD has the highest % of Test Phishing Email Failure?\")"
      ],
      "metadata": {
        "colab": {
          "base_uri": "https://localhost:8080/"
        },
        "id": "WJbi20CSofyq",
        "outputId": "5c8f22fb-67da-4aa5-ce72-9bf3ff91e228"
      },
      "execution_count": null,
      "outputs": [
        {
          "output_type": "stream",
          "name": "stdout",
          "text": [
            "Extracted Entities (Final Version): ['division', 'CAD', 'highest', '%', 'Test', 'Phishing', 'Email', 'Failure', 'division CAD', 'CAD highest', 'highest %', '% Test', 'Test Phishing', 'Phishing Email', 'Email Failure', 'division CAD highest', 'CAD highest %', 'highest % Test', '% Test Phishing', 'Test Phishing Email', 'Phishing Email Failure']\n",
            "Potential Matches for 'division': [('Attrition', 47.05882352941177, 17), ('Hiring', 42.857142857142854, 79), ('Deviations Avoidance', 42.857142857142854, 257)]\n",
            "Filtered Matches for 'division': []\n",
            "Potential Matches for 'CAD': [('CDPNE', 50.0, 25), ('MVA', 33.33333333333333, 97), ('IKTVA', 25.0, 80)]\n",
            "Filtered Matches for 'CAD': []\n",
            "Potential Matches for '%': [('Certified Employee in Current GC', 0.0, 0), ('Manpower Tracked for Certification- Competency', 0.0, 1), ('Loss Time Injuries', 0.0, 2)]\n",
            "Filtered Matches for '%': []\n",
            "Potential Matches for 'Test': [('Number of Phishing Test Recipients', 100.0, 119), ('Test Phishing Email Failure', 100.0, 180), ('Test Phishing Email Failure (Repeated Violators)', 100.0, 181)]\n",
            "Filtered Matches for 'Test': ['Number of Phishing Test Recipients', 'Test Phishing Email Failure', 'Test Phishing Email Failure (Repeated Violators)']\n",
            "Potential Matches for 'Phishing': [('Positive Responses to the Phishing Tests', 100.0, 8), ('Number of Failed Responses to the Phishing Tests', 100.0, 112), ('Number of Phishing Test Recipients', 100.0, 119)]\n",
            "Filtered Matches for 'Phishing': ['Positive Responses to the Phishing Tests', 'Number of Failed Responses to the Phishing Tests', 'Number of Phishing Test Recipients']\n",
            "Potential Matches for 'Email': [('Test Phishing Email Failure', 100.0, 180), ('Test Phishing Email Failure (Repeated Violators)', 100.0, 181), ('Test Phishing Email Neutral', 100.0, 182)]\n",
            "Filtered Matches for 'Email': ['Test Phishing Email Failure', 'Test Phishing Email Failure (Repeated Violators)', 'Test Phishing Email Neutral']\n",
            "Potential Matches for 'Failure': [('Test Phishing Email Failure', 100.0, 180), ('Test Phishing Email Failure (Repeated Violators)', 100.0, 181), ('Female CPH', 47.05882352941177, 72)]\n",
            "Filtered Matches for 'Failure': ['Test Phishing Email Failure', 'Test Phishing Email Failure (Repeated Violators)']\n",
            "Potential Matches for 'division CAD': [('Attrition', 47.61904761904762, 17), ('Deviations Avoidance', 43.75, 257), ('Traffic Violations – SA', 40.0, 202)]\n",
            "Filtered Matches for 'division CAD': []\n",
            "Potential Matches for 'CAD highest': [('Target KA ()', 43.47826086956522, 358), ('Total Approved Changes', 42.42424242424242, 184), ('Closed Incidents', 37.03703703703704, 41)]\n",
            "Filtered Matches for 'CAD highest': []\n",
            "Potential Matches for 'highest %': [('Test Phishing Email Failure', 38.888888888888886, 180), ('Test Phishing Email Neutral', 38.888888888888886, 182), ('Total Approved Changes', 38.70967741935484, 184)]\n",
            "Filtered Matches for 'highest %': []\n",
            "Potential Matches for '% Test': [('Number of Phishing Test Recipients', 80.0, 119), ('Test Phishing Email Failure', 80.0, 180), ('Test Phishing Email Failure (Repeated Violators)', 80.0, 181)]\n",
            "Filtered Matches for '% Test': ['Number of Phishing Test Recipients', 'Test Phishing Email Failure', 'Test Phishing Email Failure (Repeated Violators)']\n",
            "Potential Matches for 'Test Phishing': [('Number of Phishing Test Recipients', 100.0, 119), ('Test Phishing Email Failure', 100.0, 180), ('Test Phishing Email Failure (Repeated Violators)', 100.0, 181)]\n",
            "Filtered Matches for 'Test Phishing': ['Number of Phishing Test Recipients', 'Test Phishing Email Failure', 'Test Phishing Email Failure (Repeated Violators)']\n",
            "Potential Matches for 'Phishing Email': [('Test Phishing Email Failure', 100.0, 180), ('Test Phishing Email Failure (Repeated Violators)', 100.0, 181), ('Test Phishing Email Neutral', 100.0, 182)]\n",
            "Filtered Matches for 'Phishing Email': ['Test Phishing Email Failure', 'Test Phishing Email Failure (Repeated Violators)', 'Test Phishing Email Neutral']\n",
            "Potential Matches for 'Email Failure': [('Test Phishing Email Failure', 100.0, 180), ('Test Phishing Email Failure (Repeated Violators)', 100.0, 181), ('Test Phishing Email Neutral', 55.55555555555556, 182)]\n",
            "Filtered Matches for 'Email Failure': ['Test Phishing Email Failure', 'Test Phishing Email Failure (Repeated Violators)']\n",
            "Potential Matches for 'division CAD highest': [('Test Phishing Email Failure', 42.5531914893617, 180), ('Test Phishing Email Positive', 41.666666666666664, 183), ('AV & Office Devices', 41.02564102564103, 10)]\n",
            "Filtered Matches for 'division CAD highest': []\n",
            "Potential Matches for 'CAD highest %': [('Target KA ()', 48.0, 358), ('Test Phishing Email Failure', 40.0, 180), ('Test Phishing Email Neutral', 40.0, 182)]\n",
            "Filtered Matches for 'CAD highest %': []\n",
            "Potential Matches for 'highest % Test': [('Test Phishing Email Positive', 52.38095238095238, 183), ('Number of Phishing Test Recipients', 45.833333333333336, 119), ('Visitors Requests', 45.16129032258065, 215)]\n",
            "Filtered Matches for 'highest % Test': []\n",
            "Potential Matches for '% Test Phishing': [('Number of Phishing Test Recipients', 92.85714285714286, 119), ('Test Phishing Email Failure', 92.85714285714286, 180), ('Test Phishing Email Failure (Repeated Violators)', 92.85714285714286, 181)]\n",
            "Filtered Matches for '% Test Phishing': ['Number of Phishing Test Recipients', 'Test Phishing Email Failure', 'Test Phishing Email Failure (Repeated Violators)']\n",
            "Potential Matches for 'Test Phishing Email': [('Test Phishing Email Failure', 100.0, 180), ('Test Phishing Email Failure (Repeated Violators)', 100.0, 181), ('Test Phishing Email Neutral', 100.0, 182)]\n",
            "Filtered Matches for 'Test Phishing Email': ['Test Phishing Email Failure', 'Test Phishing Email Failure (Repeated Violators)', 'Test Phishing Email Neutral']\n",
            "Potential Matches for 'Phishing Email Failure': [('Test Phishing Email Failure', 100.0, 180), ('Test Phishing Email Failure (Repeated Violators)', 100.0, 181), ('Test Phishing Email Neutral', 77.77777777777777, 182)]\n",
            "Filtered Matches for 'Phishing Email Failure': ['Test Phishing Email Failure', 'Test Phishing Email Failure (Repeated Violators)', 'Test Phishing Email Neutral']\n"
          ]
        },
        {
          "output_type": "execute_result",
          "data": {
            "text/plain": [
              "['Test Phishing Email Failure (Repeated Violators)',\n",
              " 'Number of Failed Responses to the Phishing Tests',\n",
              " 'Positive Responses to the Phishing Tests',\n",
              " 'Number of Phishing Test Recipients',\n",
              " 'Test Phishing Email Failure',\n",
              " 'Test Phishing Email Neutral']"
            ]
          },
          "metadata": {},
          "execution_count": 128
        }
      ]
    },
    {
      "cell_type": "code",
      "source": [
        "get_top_matching_kpis(\"Which KPIs are underperforming for SSD in August 2024?\")"
      ],
      "metadata": {
        "colab": {
          "base_uri": "https://localhost:8080/"
        },
        "id": "tP_oOfYT6rZu",
        "outputId": "b87e145b-c8de-4314-daa8-a476fc59627b"
      },
      "execution_count": null,
      "outputs": [
        {
          "output_type": "stream",
          "name": "stdout",
          "text": [
            "Extracted Entities (Final Version): ['KPIs', 'SSD', 'August', 'KPIs SSD', 'SSD August', 'KPIs SSD August']\n",
            "Potential Matches for 'KPIs': [('SMPs', 50.0, 172), ('Phishing KPI (Positive)', 29.629629629629633, 158), ('Transfer In', 26.66666666666667, 206)]\n",
            "Filtered Matches for 'KPIs': []\n",
            "Potential Matches for 'SSD': [('SMPs', 28.57142857142857, 172), ('SAP Systems', 28.57142857142857, 349), ('CDPNE', 25.0, 25)]\n",
            "Filtered Matches for 'SSD': []\n",
            "Potential Matches for 'August': [('Actual KMI Hours', 36.36363636363637, 242), ('SAP Systems', 35.294117647058826, 349), ('Actual KE Hours ()', 33.33333333333333, 241)]\n",
            "Filtered Matches for 'August': []\n",
            "Potential Matches for 'KPIs SSD': [('RDP In', 42.857142857142854, 161), ('SMPs', 33.33333333333333, 172), ('SAP Systems', 31.578947368421055, 349)]\n",
            "Filtered Matches for 'KPIs SSD': []\n",
            "Potential Matches for 'SSD August': [('RDP Out', 47.05882352941177, 162), ('On Budget DPSRs', 40.0, 132), ('Actual KMI Hours', 38.46153846153846, 242)]\n",
            "Filtered Matches for 'SSD August': []\n",
            "Potential Matches for 'KPIs SSD August': [('On Budget DPSRs', 46.666666666666664, 132), ('Actual KMI Hours', 45.16129032258065, 242), ('Target KMI Hours', 38.70967741935484, 360)]\n",
            "Filtered Matches for 'KPIs SSD August': []\n"
          ]
        },
        {
          "output_type": "execute_result",
          "data": {
            "text/plain": [
              "[]"
            ]
          },
          "metadata": {},
          "execution_count": 129
        }
      ]
    },
    {
      "cell_type": "code",
      "source": [
        "get_top_matching_kpis(\"How many patents were granted for SCMD in April 2024?\")"
      ],
      "metadata": {
        "colab": {
          "base_uri": "https://localhost:8080/"
        },
        "id": "CIvpAQmg6vL3",
        "outputId": "0352860a-c264-4329-8996-b95ca0d2eced"
      },
      "execution_count": null,
      "outputs": [
        {
          "output_type": "stream",
          "name": "stdout",
          "text": [
            "Extracted Entities (Final Version): ['many', 'patents', 'SCMD', 'April', 'many patents', 'patents SCMD', 'SCMD April', 'many patents SCMD', 'patents SCMD April']\n",
            "Filtered Matches for 'many': []\n",
            "Filtered Matches for 'patents': ['Patents Filed', 'Patents Granted']\n",
            "Filtered Matches for 'SCMD': []\n",
            "Filtered Matches for 'April': []\n",
            "Filtered Matches for 'many patents': []\n",
            "Filtered Matches for 'patents SCMD': []\n",
            "Filtered Matches for 'SCMD April': []\n",
            "Filtered Matches for 'many patents SCMD': []\n",
            "Filtered Matches for 'patents SCMD April': []\n"
          ]
        },
        {
          "output_type": "execute_result",
          "data": {
            "text/plain": [
              "['Patents Granted', 'Patents Filed']"
            ]
          },
          "metadata": {},
          "execution_count": 120
        }
      ]
    },
    {
      "cell_type": "code",
      "source": [
        "get_top_matching_kpis(\"What was CAD Controllable Cost plan in the beginning of 2024?\")"
      ],
      "metadata": {
        "colab": {
          "base_uri": "https://localhost:8080/"
        },
        "id": "HnDZWRkt61-t",
        "outputId": "5d95dd9c-f018-4599-a759-16af0a10b3a1"
      },
      "execution_count": null,
      "outputs": [
        {
          "output_type": "stream",
          "name": "stdout",
          "text": [
            "Extracted Entities (Final Version): ['CAD', 'Controllable', 'CAD Controllable']\n",
            "Filtered Matches for 'CAD': []\n",
            "Filtered Matches for 'Controllable': ['Controllable Cost', 'Controllable Cost ($)', 'Direct Controllable Cost']\n",
            "Filtered Matches for 'CAD Controllable': ['Controllable Cost', 'Controllable Cost ($)', 'Direct Controllable Cost']\n"
          ]
        },
        {
          "output_type": "execute_result",
          "data": {
            "text/plain": [
              "['Direct Controllable Cost', 'Controllable Cost ($)', 'Controllable Cost']"
            ]
          },
          "metadata": {},
          "execution_count": 121
        }
      ]
    },
    {
      "cell_type": "code",
      "source": [
        "get_top_matching_kpis(\"What is the Professional Certification % in F&AD in July 2024?\")"
      ],
      "metadata": {
        "colab": {
          "base_uri": "https://localhost:8080/"
        },
        "id": "OZCdZLMP69BN",
        "outputId": "bc9a0e4b-54c9-4ba9-8f08-a430a9cb3967"
      },
      "execution_count": null,
      "outputs": [
        {
          "output_type": "stream",
          "name": "stdout",
          "text": [
            "Extracted Entities (Final Version): ['Professional', 'Certification', '%', 'F&AD', 'July', 'Professional Certification', 'Certification %', '% F&AD', 'F&AD July', 'Professional Certification %', 'Certification % F&AD', '% F&AD July']\n",
            "Filtered Matches for 'Professional': ['Professional Certification']\n",
            "Filtered Matches for 'Certification': ['Professional Certification']\n",
            "Filtered Matches for '%': []\n",
            "Filtered Matches for 'F&AD': []\n",
            "Filtered Matches for 'July': []\n",
            "Filtered Matches for 'Professional Certification': ['Professional Certification']\n",
            "Filtered Matches for 'Certification %': ['Professional Certification']\n",
            "Filtered Matches for '% F&AD': []\n",
            "Filtered Matches for 'F&AD July': []\n",
            "Filtered Matches for 'Professional Certification %': ['Professional Certification']\n",
            "Filtered Matches for 'Certification % F&AD': []\n",
            "Filtered Matches for '% F&AD July': []\n"
          ]
        },
        {
          "output_type": "execute_result",
          "data": {
            "text/plain": [
              "['Professional Certification']"
            ]
          },
          "metadata": {},
          "execution_count": 86
        }
      ]
    },
    {
      "cell_type": "code",
      "source": [
        "get_top_matching_kpis(\"Which group in CAD has the highest % of female representation?\")"
      ],
      "metadata": {
        "colab": {
          "base_uri": "https://localhost:8080/"
        },
        "id": "uIDntQYu7AMI",
        "outputId": "a698edec-620e-43f2-cbbe-6bed72c209ca"
      },
      "execution_count": null,
      "outputs": [
        {
          "output_type": "stream",
          "name": "stdout",
          "text": [
            "Extracted Entities (Final Version): ['group', 'CAD', 'highest', '%', 'female', 'representation', 'group CAD', 'CAD highest', 'highest %', '% female', 'female representation', 'group CAD highest', 'CAD highest %', 'highest % female', '% female representation']\n",
            "Filtered Matches for 'CAD': []\n",
            "Filtered Matches for '%': []\n",
            "Filtered Matches for 'female': ['Female CPH', 'Female Representation', 'Permanent Female Employees', 'Permanent CPH Female Employees']\n",
            "Filtered Matches for 'representation': ['Female Representation']\n",
            "Filtered Matches for 'group CAD': []\n",
            "Filtered Matches for 'CAD highest': []\n",
            "Filtered Matches for 'highest %': []\n",
            "Filtered Matches for '% female': []\n",
            "Filtered Matches for 'female representation': ['Female Representation']\n",
            "Filtered Matches for 'group CAD highest': []\n",
            "Filtered Matches for 'CAD highest %': []\n",
            "Filtered Matches for 'highest % female': []\n",
            "Filtered Matches for '% female representation': ['Female Representation']\n"
          ]
        },
        {
          "output_type": "execute_result",
          "data": {
            "text/plain": [
              "['Permanent CPH Female Employees',\n",
              " 'Permanent Female Employees',\n",
              " 'Female Representation',\n",
              " 'Female CPH']"
            ]
          },
          "metadata": {},
          "execution_count": 87
        }
      ]
    },
    {
      "cell_type": "code",
      "source": [
        "get_top_matching_kpis(\"Which division in CAD has the highest % of Test Phishing Email Failure?\")"
      ],
      "metadata": {
        "colab": {
          "base_uri": "https://localhost:8080/"
        },
        "id": "LR-vSzfx7APj",
        "outputId": "b369ca2f-6320-4aaf-835e-dcd8362a3ab4"
      },
      "execution_count": null,
      "outputs": [
        {
          "output_type": "stream",
          "name": "stdout",
          "text": [
            "Extracted Entities (Final Version): ['division', 'CAD', 'highest', '%', 'Test', 'Phishing', 'Email', 'Failure', 'division CAD', 'CAD highest', 'highest %', '% Test', 'Test Phishing', 'Phishing Email', 'Email Failure', 'division CAD highest', 'CAD highest %', 'highest % Test', '% Test Phishing', 'Test Phishing Email', 'Phishing Email Failure']\n",
            "Filtered Matches for 'division': []\n",
            "Filtered Matches for 'CAD': []\n",
            "Filtered Matches for '%': []\n",
            "Filtered Matches for 'Test': ['Number of Phishing Test Recipients', 'Test Phishing Email Failure', 'Test Phishing Email Failure (Repeated Violators)']\n",
            "Filtered Matches for 'Phishing': ['Positive Responses to the Phishing Tests', 'Number of Failed Responses to the Phishing Tests', 'Number of Phishing Test Recipients']\n",
            "Filtered Matches for 'Email': ['Test Phishing Email Failure', 'Test Phishing Email Failure (Repeated Violators)', 'Test Phishing Email Neutral']\n",
            "Filtered Matches for 'Failure': ['Test Phishing Email Failure', 'Test Phishing Email Failure (Repeated Violators)']\n",
            "Filtered Matches for 'division CAD': []\n",
            "Filtered Matches for 'CAD highest': []\n",
            "Filtered Matches for 'highest %': []\n",
            "Filtered Matches for '% Test': []\n",
            "Filtered Matches for 'Test Phishing': ['Number of Phishing Test Recipients', 'Test Phishing Email Failure', 'Test Phishing Email Failure (Repeated Violators)']\n",
            "Filtered Matches for 'Phishing Email': ['Test Phishing Email Failure', 'Test Phishing Email Failure (Repeated Violators)', 'Test Phishing Email Neutral']\n",
            "Filtered Matches for 'Email Failure': ['Test Phishing Email Failure', 'Test Phishing Email Failure (Repeated Violators)']\n",
            "Filtered Matches for 'division CAD highest': []\n",
            "Filtered Matches for 'CAD highest %': []\n",
            "Filtered Matches for 'highest % Test': []\n",
            "Filtered Matches for '% Test Phishing': ['Number of Phishing Test Recipients', 'Test Phishing Email Failure', 'Test Phishing Email Failure (Repeated Violators)']\n",
            "Filtered Matches for 'Test Phishing Email': ['Test Phishing Email Failure', 'Test Phishing Email Failure (Repeated Violators)', 'Test Phishing Email Neutral']\n",
            "Filtered Matches for 'Phishing Email Failure': ['Test Phishing Email Failure', 'Test Phishing Email Failure (Repeated Violators)']\n"
          ]
        },
        {
          "output_type": "execute_result",
          "data": {
            "text/plain": [
              "['Test Phishing Email Failure (Repeated Violators)',\n",
              " 'Number of Failed Responses to the Phishing Tests',\n",
              " 'Positive Responses to the Phishing Tests',\n",
              " 'Number of Phishing Test Recipients',\n",
              " 'Test Phishing Email Failure',\n",
              " 'Test Phishing Email Neutral']"
            ]
          },
          "metadata": {},
          "execution_count": 88
        }
      ]
    }
  ]
}