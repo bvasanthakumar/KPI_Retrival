{
  "nbformat": 4,
  "nbformat_minor": 0,
  "metadata": {
    "colab": {
      "provenance": [],
      "gpuType": "T4"
    },
    "kernelspec": {
      "name": "python3",
      "display_name": "Python 3"
    },
    "language_info": {
      "name": "python"
    },
    "accelerator": "GPU"
  },
  "cells": [
    {
      "cell_type": "markdown",
      "source": [
        "##Importing Necessary NLP Libraries"
      ],
      "metadata": {
        "id": "WewobiPXgXlF"
      }
    },
    {
      "cell_type": "code",
      "execution_count": 1,
      "metadata": {
        "id": "C-vaLrLvbpvE"
      },
      "outputs": [],
      "source": [
        "import pandas as pd\n",
        "import re\n",
        "import nltk\n",
        "from nltk.corpus import wordnet\n",
        "from collections import defaultdict\n",
        "from difflib import SequenceMatcher\n",
        "from itertools import permutations"
      ]
    },
    {
      "cell_type": "markdown",
      "source": [
        "##Loading Dataset"
      ],
      "metadata": {
        "id": "zcEkwypugcnq"
      }
    },
    {
      "cell_type": "code",
      "source": [
        "#Load KPI Dataset\n",
        "from google.colab import files\n",
        "uploaded = files.upload()"
      ],
      "metadata": {
        "colab": {
          "base_uri": "https://localhost:8080/",
          "height": 73
        },
        "id": "4nnlA-4XbzR-",
        "outputId": "2441b518-e1bc-4a93-86b7-c8ab70f24623"
      },
      "execution_count": 2,
      "outputs": [
        {
          "output_type": "display_data",
          "data": {
            "text/plain": [
              "<IPython.core.display.HTML object>"
            ],
            "text/html": [
              "\n",
              "     <input type=\"file\" id=\"files-095e2fdb-cee0-49af-94d1-81310affb6e7\" name=\"files[]\" multiple disabled\n",
              "        style=\"border:none\" />\n",
              "     <output id=\"result-095e2fdb-cee0-49af-94d1-81310affb6e7\">\n",
              "      Upload widget is only available when the cell has been executed in the\n",
              "      current browser session. Please rerun this cell to enable.\n",
              "      </output>\n",
              "      <script>// Copyright 2017 Google LLC\n",
              "//\n",
              "// Licensed under the Apache License, Version 2.0 (the \"License\");\n",
              "// you may not use this file except in compliance with the License.\n",
              "// You may obtain a copy of the License at\n",
              "//\n",
              "//      http://www.apache.org/licenses/LICENSE-2.0\n",
              "//\n",
              "// Unless required by applicable law or agreed to in writing, software\n",
              "// distributed under the License is distributed on an \"AS IS\" BASIS,\n",
              "// WITHOUT WARRANTIES OR CONDITIONS OF ANY KIND, either express or implied.\n",
              "// See the License for the specific language governing permissions and\n",
              "// limitations under the License.\n",
              "\n",
              "/**\n",
              " * @fileoverview Helpers for google.colab Python module.\n",
              " */\n",
              "(function(scope) {\n",
              "function span(text, styleAttributes = {}) {\n",
              "  const element = document.createElement('span');\n",
              "  element.textContent = text;\n",
              "  for (const key of Object.keys(styleAttributes)) {\n",
              "    element.style[key] = styleAttributes[key];\n",
              "  }\n",
              "  return element;\n",
              "}\n",
              "\n",
              "// Max number of bytes which will be uploaded at a time.\n",
              "const MAX_PAYLOAD_SIZE = 100 * 1024;\n",
              "\n",
              "function _uploadFiles(inputId, outputId) {\n",
              "  const steps = uploadFilesStep(inputId, outputId);\n",
              "  const outputElement = document.getElementById(outputId);\n",
              "  // Cache steps on the outputElement to make it available for the next call\n",
              "  // to uploadFilesContinue from Python.\n",
              "  outputElement.steps = steps;\n",
              "\n",
              "  return _uploadFilesContinue(outputId);\n",
              "}\n",
              "\n",
              "// This is roughly an async generator (not supported in the browser yet),\n",
              "// where there are multiple asynchronous steps and the Python side is going\n",
              "// to poll for completion of each step.\n",
              "// This uses a Promise to block the python side on completion of each step,\n",
              "// then passes the result of the previous step as the input to the next step.\n",
              "function _uploadFilesContinue(outputId) {\n",
              "  const outputElement = document.getElementById(outputId);\n",
              "  const steps = outputElement.steps;\n",
              "\n",
              "  const next = steps.next(outputElement.lastPromiseValue);\n",
              "  return Promise.resolve(next.value.promise).then((value) => {\n",
              "    // Cache the last promise value to make it available to the next\n",
              "    // step of the generator.\n",
              "    outputElement.lastPromiseValue = value;\n",
              "    return next.value.response;\n",
              "  });\n",
              "}\n",
              "\n",
              "/**\n",
              " * Generator function which is called between each async step of the upload\n",
              " * process.\n",
              " * @param {string} inputId Element ID of the input file picker element.\n",
              " * @param {string} outputId Element ID of the output display.\n",
              " * @return {!Iterable<!Object>} Iterable of next steps.\n",
              " */\n",
              "function* uploadFilesStep(inputId, outputId) {\n",
              "  const inputElement = document.getElementById(inputId);\n",
              "  inputElement.disabled = false;\n",
              "\n",
              "  const outputElement = document.getElementById(outputId);\n",
              "  outputElement.innerHTML = '';\n",
              "\n",
              "  const pickedPromise = new Promise((resolve) => {\n",
              "    inputElement.addEventListener('change', (e) => {\n",
              "      resolve(e.target.files);\n",
              "    });\n",
              "  });\n",
              "\n",
              "  const cancel = document.createElement('button');\n",
              "  inputElement.parentElement.appendChild(cancel);\n",
              "  cancel.textContent = 'Cancel upload';\n",
              "  const cancelPromise = new Promise((resolve) => {\n",
              "    cancel.onclick = () => {\n",
              "      resolve(null);\n",
              "    };\n",
              "  });\n",
              "\n",
              "  // Wait for the user to pick the files.\n",
              "  const files = yield {\n",
              "    promise: Promise.race([pickedPromise, cancelPromise]),\n",
              "    response: {\n",
              "      action: 'starting',\n",
              "    }\n",
              "  };\n",
              "\n",
              "  cancel.remove();\n",
              "\n",
              "  // Disable the input element since further picks are not allowed.\n",
              "  inputElement.disabled = true;\n",
              "\n",
              "  if (!files) {\n",
              "    return {\n",
              "      response: {\n",
              "        action: 'complete',\n",
              "      }\n",
              "    };\n",
              "  }\n",
              "\n",
              "  for (const file of files) {\n",
              "    const li = document.createElement('li');\n",
              "    li.append(span(file.name, {fontWeight: 'bold'}));\n",
              "    li.append(span(\n",
              "        `(${file.type || 'n/a'}) - ${file.size} bytes, ` +\n",
              "        `last modified: ${\n",
              "            file.lastModifiedDate ? file.lastModifiedDate.toLocaleDateString() :\n",
              "                                    'n/a'} - `));\n",
              "    const percent = span('0% done');\n",
              "    li.appendChild(percent);\n",
              "\n",
              "    outputElement.appendChild(li);\n",
              "\n",
              "    const fileDataPromise = new Promise((resolve) => {\n",
              "      const reader = new FileReader();\n",
              "      reader.onload = (e) => {\n",
              "        resolve(e.target.result);\n",
              "      };\n",
              "      reader.readAsArrayBuffer(file);\n",
              "    });\n",
              "    // Wait for the data to be ready.\n",
              "    let fileData = yield {\n",
              "      promise: fileDataPromise,\n",
              "      response: {\n",
              "        action: 'continue',\n",
              "      }\n",
              "    };\n",
              "\n",
              "    // Use a chunked sending to avoid message size limits. See b/62115660.\n",
              "    let position = 0;\n",
              "    do {\n",
              "      const length = Math.min(fileData.byteLength - position, MAX_PAYLOAD_SIZE);\n",
              "      const chunk = new Uint8Array(fileData, position, length);\n",
              "      position += length;\n",
              "\n",
              "      const base64 = btoa(String.fromCharCode.apply(null, chunk));\n",
              "      yield {\n",
              "        response: {\n",
              "          action: 'append',\n",
              "          file: file.name,\n",
              "          data: base64,\n",
              "        },\n",
              "      };\n",
              "\n",
              "      let percentDone = fileData.byteLength === 0 ?\n",
              "          100 :\n",
              "          Math.round((position / fileData.byteLength) * 100);\n",
              "      percent.textContent = `${percentDone}% done`;\n",
              "\n",
              "    } while (position < fileData.byteLength);\n",
              "  }\n",
              "\n",
              "  // All done.\n",
              "  yield {\n",
              "    response: {\n",
              "      action: 'complete',\n",
              "    }\n",
              "  };\n",
              "}\n",
              "\n",
              "scope.google = scope.google || {};\n",
              "scope.google.colab = scope.google.colab || {};\n",
              "scope.google.colab._files = {\n",
              "  _uploadFiles,\n",
              "  _uploadFilesContinue,\n",
              "};\n",
              "})(self);\n",
              "</script> "
            ]
          },
          "metadata": {}
        },
        {
          "output_type": "stream",
          "name": "stdout",
          "text": [
            "Saving test_data_modified_3.xlsx to test_data_modified_3.xlsx\n"
          ]
        }
      ]
    },
    {
      "cell_type": "code",
      "source": [
        "# Load the dataset\n",
        "file_path = \"test_data_modified_3.xlsx\"\n",
        "df = pd.read_excel(file_path, sheet_name=\"Sheet1\")"
      ],
      "metadata": {
        "id": "P81ELPbsb1EF"
      },
      "execution_count": 3,
      "outputs": []
    },
    {
      "cell_type": "markdown",
      "source": [
        "##Extracting unique KPIs from the dataset"
      ],
      "metadata": {
        "id": "TuASKND5glEY"
      }
    },
    {
      "cell_type": "code",
      "source": [
        "# Extract unique KPI names, KPI List names and Focus Area Names\n",
        "kpi_list = df[\"KPI\"].dropna().unique().tolist()\n",
        "\n",
        "list_of_kpi_list = df[\"KPI List\"].dropna().unique().tolist()\n",
        "\n",
        "focus_areas_list = df[\"Focus Areas\"].dropna().unique().tolist()"
      ],
      "metadata": {
        "id": "K5ednHr4b37z"
      },
      "execution_count": 4,
      "outputs": []
    },
    {
      "cell_type": "code",
      "source": [
        "kpi_list"
      ],
      "metadata": {
        "colab": {
          "base_uri": "https://localhost:8080/"
        },
        "id": "Feb5pdFaQEKw",
        "outputId": "c05e3ba9-ce94-4650-ccd4-e179a8be8510"
      },
      "execution_count": 5,
      "outputs": [
        {
          "output_type": "execute_result",
          "data": {
            "text/plain": [
              "['Certified Employee in Current GC',\n",
              " 'Manpower Tracked for Certification- Competency',\n",
              " 'Loss Time Injuries',\n",
              " 'Loss Time Injuries (Contractor)',\n",
              " 'Off-Job Man Hours (Emp)',\n",
              " 'On-Job Man Hours (Contractor)',\n",
              " 'On-Job Man Hours (EMP + Cont)',\n",
              " 'On-Job Man Hours (Emp)',\n",
              " 'Positive Responses to the Phishing Tests',\n",
              " 'APNE/VCGNE',\n",
              " 'AV & Office Devices',\n",
              " 'App re-opened maint incidents',\n",
              " 'Application Cost/Per Hr. (In-House)',\n",
              " 'Applications Investment Capacity',\n",
              " 'Applications Maintain Capacity',\n",
              " 'Applications Run Capacity',\n",
              " 'Assets Net Book Value',\n",
              " 'Attrition',\n",
              " 'Average Company Workforce',\n",
              " 'BI-19 No. Overdue Projects (Past ERC)',\n",
              " 'BI-19 No. of Projects with ? 3 Months To ERC',\n",
              " 'Biz Travel',\n",
              " 'Business Sustainability - Below Target',\n",
              " 'Business Sustainability - Meeting Target',\n",
              " 'Business Sustainability - Yellow',\n",
              " 'CDPNE',\n",
              " 'CPH Positions - Total',\n",
              " 'CPH Positions Status - Acting',\n",
              " 'CPH Positions Status - Permanent',\n",
              " 'CPH Positions Status - Vacant',\n",
              " 'CRM Delivery – Number of Surveys Filled',\n",
              " 'CRM Delivery – Total Score of Satisfied',\n",
              " 'Capital Projects (BI19) - Approaching Deadline',\n",
              " 'Capital Projects (BI19) - Due',\n",
              " 'Capital Projects (BI19) - Overdue',\n",
              " 'Change Success Rate',\n",
              " 'Closed CRM',\n",
              " 'Closed DPSRs Started On Time',\n",
              " 'Closed DPSRs on Budget',\n",
              " 'Closed DPSRs on Time',\n",
              " 'Closed DPSRs on Time & Budget',\n",
              " 'Closed Incidents',\n",
              " 'Closed Maintenance Incidents',\n",
              " 'Closed Safety Observations',\n",
              " 'Communications',\n",
              " 'Competency Index',\n",
              " 'Compliant CRM',\n",
              " 'Compliant Incident',\n",
              " 'Computing',\n",
              " 'Conflict of Interest – Not Complied',\n",
              " 'Consultancy',\n",
              " 'Contracts',\n",
              " 'Controllable Cost',\n",
              " 'Controllable Cost ($)',\n",
              " 'Data Leakage Prevention (DLP)',\n",
              " 'Demand Fulfillment Capacity',\n",
              " 'Dev & Maint Hours',\n",
              " 'Development & Enhancements',\n",
              " 'Development Hours',\n",
              " 'Direct Controllable Cost',\n",
              " 'Direct Expenditures',\n",
              " 'E-Learning Security Essentials Completion',\n",
              " 'Education: Bachelor',\n",
              " 'Education: Masters',\n",
              " 'Education: Non-Degree',\n",
              " 'Emergency Change Rate',\n",
              " 'Emergency Changes',\n",
              " 'Emergency Transports vs. Normal',\n",
              " 'Employee Innovation Participation Rate',\n",
              " 'Employees Completed E-learning',\n",
              " 'Employees HeadCount',\n",
              " 'Fatalities (Off Job)',\n",
              " 'Female CPH',\n",
              " 'Female Representation',\n",
              " 'Food',\n",
              " 'Headcount with USB waiver',\n",
              " 'Health Safety Security Environment (HSSE) - Below Target',\n",
              " 'Health Safety Security Environment (HSSE) - Meeting Target',\n",
              " 'Health Safety Security Environment (HSSE) - Yellow',\n",
              " 'Hiring',\n",
              " 'IKTVA',\n",
              " 'IT Controllable Cost per User',\n",
              " 'IT Customer Satisfaction',\n",
              " 'Innovation Approval Rate',\n",
              " 'Innovation Average Review Time (Days)',\n",
              " 'Innovation Excellence Index',\n",
              " 'Innovation Implementation Rate',\n",
              " 'Innovation Realized Value',\n",
              " 'Innovation Realized Value ($)',\n",
              " 'Innovation Review Rate',\n",
              " 'KM Driven',\n",
              " 'KT112',\n",
              " 'KT113',\n",
              " 'LTI Incident Rate.',\n",
              " 'LTI Incident Rate',\n",
              " 'LTI Incident Rate (Contractor)',\n",
              " 'MPS - Number of YTD Requests',\n",
              " 'MVA',\n",
              " 'MVA Incident Rate',\n",
              " 'Maintenance Data Index ( OE 4.4 )',\n",
              " 'Maintenance Hours',\n",
              " 'Maintenance Strategy Index(OE 4.4)',\n",
              " 'Maintenance Tickets',\n",
              " 'Major Upgrades',\n",
              " 'Minor-to-Major Injury Ratio',\n",
              " 'Minor-to-Major Injury Ratio (Contractor)',\n",
              " 'Near Miss',\n",
              " 'Networking',\n",
              " 'Not Approved IDP',\n",
              " 'Not Submitted \\xa0IDP',\n",
              " 'Number of Emergency Transports (CHaRM)',\n",
              " 'Number of Emergency Transports (CRM)',\n",
              " 'Number of Failed Responses to the Phishing Tests',\n",
              " 'Number of Ideas Submitters',\n",
              " 'Number of Implemented ideas',\n",
              " 'Number of Loss Time Injuries',\n",
              " 'Number of MVA Incidents',\n",
              " 'Number of On-Job Injuries (EMP + Cont)',\n",
              " 'Number of On-Job Injuries (EMP)',\n",
              " 'Number of Phishing Test Recipients',\n",
              " 'Number of Recordable Injury/Illness (Contractor)',\n",
              " 'Number of Recordable Injury/Illness (EMP + Cont)',\n",
              " 'Number of Recordable Injury/Illness (Emp)',\n",
              " 'Number of Tier-1 Incidents',\n",
              " 'Number of Traffic Violations',\n",
              " 'Number of Traffic Warnings',\n",
              " 'Number of USB Waivers',\n",
              " 'OJI (Off Job Injuries)',\n",
              " 'OJI Incident Rate',\n",
              " 'OJI Incident Rate (EMP + Cont)',\n",
              " 'ON JOB MH (EMP+SMP)',\n",
              " 'Off Job Fatalities',\n",
              " 'On Budget DPSRs',\n",
              " 'On Job Fatalities',\n",
              " 'On Time & On Budget DPSRs',\n",
              " 'On Time DPSRs',\n",
              " 'Open Safety Recommendations (> 12 Mths) - Compliance Reviews',\n",
              " 'Open Safety Recommendations (> 12 Mths) - Insurance Survey',\n",
              " 'Open Safety Recommendations (> 12 Mths) - SAMIR',\n",
              " 'Open Safety Recommendations (ALL) - Compliance Reviews',\n",
              " 'Open Safety Recommendations (ALL) - Insurance Survey',\n",
              " 'Open Safety Recommendations (ALL) - SAMIR',\n",
              " 'Operation Management Hours',\n",
              " 'Operational - Below Target',\n",
              " 'Operational - Meeting Target',\n",
              " 'Operational - Yellow',\n",
              " 'Overall Permanent Employees',\n",
              " 'Overall Use Cases Summary',\n",
              " 'PDP Participants',\n",
              " 'Patents Filed',\n",
              " 'Patents Granted',\n",
              " 'Pending Purchase Orders',\n",
              " 'Pending Purchase Requisitions',\n",
              " 'People with Disability in Workforce',\n",
              " 'Phishing Emails Reported',\n",
              " 'Permanent CPH Employees',\n",
              " 'Permanent Female Employees',\n",
              " 'Phishing - Neutral',\n",
              " 'Phishing KPI (Positive)',\n",
              " 'Process Safety Event Tier-1',\n",
              " 'Professional Certification',\n",
              " 'RDP In',\n",
              " 'RDP Out',\n",
              " 'Re-opened Maintenance Incidents',\n",
              " 'Remedy Support Customer Satisfaction ()',\n",
              " 'Remedy Support – Number of Surveys Filled',\n",
              " 'Remedy Support – Total Score of Satisfied',\n",
              " 'Removable Media Restriction Exceptions Waived',\n",
              " 'Rollout & Configuration',\n",
              " 'SC11-17 employees',\n",
              " 'SC11-17 employees possessing a certification',\n",
              " 'SLA Compliance',\n",
              " 'SMPs',\n",
              " 'Safety Observations',\n",
              " 'Saudi Service Contractors',\n",
              " 'Service Contractor Saudization',\n",
              " 'Service Delivery Customer Satisfaction ()',\n",
              " 'Service Support Customer Satisfaction ()',\n",
              " 'Started On Time DPSRs',\n",
              " 'Successfully Implemented Changes',\n",
              " 'Test Phishing Email Failure',\n",
              " 'Test Phishing Email Failure (Repeated Violators)',\n",
              " 'Test Phishing Email Neutral',\n",
              " 'Test Phishing Email Positive',\n",
              " 'Total Approved Changes',\n",
              " 'Total Attrition',\n",
              " 'Total Capacity Hours',\n",
              " 'Total Closed DPSRs',\n",
              " 'Total Major Injuries',\n",
              " 'Total Major Injuries (Contractor)',\n",
              " 'Total Minor Injuries (Contractor)',\n",
              " 'Total No. of Employees (Regular + SMPs)',\n",
              " 'Total Number of Transports (CHaRM)',\n",
              " 'Total Number of Transports (CRM)',\n",
              " 'Total Recorded Case Frequency',\n",
              " 'Total Recorded Case Frequency (Contractor)',\n",
              " 'Total Recorded Case Frequency.',\n",
              " 'Total Service Contractors',\n",
              " 'Total Tracked Employees',\n",
              " 'Traffic Violations',\n",
              " 'Traffic Violations – AVL',\n",
              " 'Traffic Violations – Contractors',\n",
              " 'Traffic Violations – SA',\n",
              " 'Traffic Violations – Speeding',\n",
              " 'Traffic Warnings',\n",
              " 'Training',\n",
              " 'Transfer In',\n",
              " 'Transfer Out',\n",
              " 'Unauthorized Jobs',\n",
              " 'Unplanned DPSRs',\n",
              " 'Upkeep General Support',\n",
              " 'Upkeep Security & Quality',\n",
              " 'Value Creation - Below Target',\n",
              " 'Value Creation - Meeting Target',\n",
              " 'Value Creation - Yellow',\n",
              " 'Visitors Requests',\n",
              " 'Workforce',\n",
              " 'Workforce Average Age',\n",
              " 'Workforce Variance',\n",
              " 'Workforce w/o SMPs',\n",
              " 'reusable KPI Key from active Tile',\n",
              " 'Total Minor Injuries',\n",
              " \"Active Applications' Users over a 9 days\",\n",
              " 'Headcount Tracked for USB Waiver',\n",
              " 'Non-SAP Applications Utilization',\n",
              " 'Permanent PwD Employees',\n",
              " \"Total Applications' authorized users\",\n",
              " 'Miscellaneous',\n",
              " 'Permanent CPH Female Employees',\n",
              " 'Education: PHDs',\n",
              " 'of Risk Administrators who completed the ERM classroom tra',\n",
              " 'of active risks with high severity and ongoing treatments(',\n",
              " 'Citizen Development Use Cases',\n",
              " 'Communication Completeness (9.1)',\n",
              " 'Flagship Use Cases',\n",
              " 'Foundry Use Cases',\n",
              " 'Strategic Initiative Implementation(1.1)',\n",
              " '224 Releases',\n",
              " '224 Use Cases',\n",
              " '224-226 BP Releases',\n",
              " 'Actual KA ()',\n",
              " 'Actual KE Hours ()',\n",
              " 'Actual KMI Hours',\n",
              " 'Avg. Duration of Execution',\n",
              " 'Avg. Duration of Ideation',\n",
              " 'Avg. Duration of Use Cases Delivery',\n",
              " 'Budget Management (OES 7.1)',\n",
              " 'CAPI Overall Score (OES 7.1)',\n",
              " 'Capture Lessons Learned, Best Practices, and other knowledge',\n",
              " 'Capture lesson learned (1.2)',\n",
              " 'Capture lessons learned (12.3)',\n",
              " 'Capture lessons learned (2.1)',\n",
              " 'Capture lessons learned (5.1)',\n",
              " 'Capture lessons learned (9.2)',\n",
              " 'Certified ISA Compliance Index',\n",
              " 'Completed Releases',\n",
              " 'Current Quarter Releases in Execution',\n",
              " 'Deviations Avoidance',\n",
              " 'ERM Trained Staff',\n",
              " 'HR Effectiveness',\n",
              " 'Handover from Ideation to Execution',\n",
              " 'IKTVA-ized Spend',\n",
              " 'Ideation Efficiency Index',\n",
              " 'Ideation Success Rate',\n",
              " 'Identify Lesson Learned (4.4)',\n",
              " 'Implemented KAs with Benefits ()',\n",
              " 'Invoice Processing Time (OES 7.1)',\n",
              " 'Knowledge Assets Generation',\n",
              " 'Knowledge Assets Reuse',\n",
              " 'Knowledge Management Index',\n",
              " 'Knowledge Management Index (KMI) (OE 12.2)',\n",
              " 'Knowledge Sharing Events',\n",
              " 'LFC Bid Slate Health (OE 7.1)',\n",
              " 'LFC Procurement Time (OE 7.1)',\n",
              " 'MFC & SFC Processing Time (OES 7.1)',\n",
              " 'MFC&SFC Single Source Value (OES 7.1)',\n",
              " 'No. of BP Use Cases Under Execution',\n",
              " 'No. of BP Use Cases in Transition from Ideation to Execution',\n",
              " 'No. of Backlog Use Cases',\n",
              " 'No. of Completed BP Use Cases',\n",
              " 'No. of Completed Use Cases',\n",
              " 'No. of Ideated Use Cases',\n",
              " 'No. of Ongoing BP Use Cases (DT Achieved)',\n",
              " 'No. of Ongoing BP Use Cases Exceeding Target Delivery',\n",
              " 'No. of Ongoing Use Cases',\n",
              " 'No. of Ongoing Use Cases Exceeding Target Delivery',\n",
              " 'No. of Outsourced Use Cases',\n",
              " 'No. of Use Cases Parked due to Funding',\n",
              " 'No. of Use Cases Under Execution',\n",
              " 'No. of Use Cases Under Ideation',\n",
              " 'No. of Use Cases in Transition from Ideation to Execution',\n",
              " 'Number of Active Risk with Identified Business Objectives (1',\n",
              " 'Number of Active Risk with Identified Impacted Business Proc',\n",
              " 'Number of Active Risk with Identified Individual Controls(11',\n",
              " 'Number of Active Risk with Identified Treatment Options (11.',\n",
              " 'Number of Active Risk with Identified Worse Case Scenario(11',\n",
              " 'Number of Active Risk with Overall Effectiveness(11.1)',\n",
              " 'Number of Generated Knowledge Assets(1.2)',\n",
              " 'Number of Generated Knowledge Assets(11.1)',\n",
              " 'Number of Generated Knowledge Assets(11.3)',\n",
              " 'Number of Generated Knowledge Assets(12.1)',\n",
              " 'Number of Generated Knowledge Assets(12.2)',\n",
              " 'Number of Generated Knowledge Assets(2.1)',\n",
              " 'Number of Generated Knowledge Assets(5.1)',\n",
              " 'Number of Generated Knowledge Assets(7.1)',\n",
              " 'Number of Generated Knowledge Assets(9.1)',\n",
              " 'Number of Generated Knowledge Assets(9.2)',\n",
              " 'Number of Generated Lesson Learn Generation(1.1)',\n",
              " 'Number of Generated Lesson Learn Generation(1.2)',\n",
              " 'Number of Generated Lesson Learn Generation(11.1)',\n",
              " 'Number of Generated Lesson Learn Generation(12.1)',\n",
              " 'Number of Generated Lesson Learn Generation(12.2)',\n",
              " 'Number of Generated Lesson Learn Generation(12.3)',\n",
              " 'Number of Generated Lesson Learn Generation(2.1)',\n",
              " 'Number of Generated Lesson Learn Generation(4.4)',\n",
              " 'Number of Generated Lesson Learn Generation(5.1)',\n",
              " 'Number of Generated Lesson Learn Generation(9.1)',\n",
              " 'Number of Generated Lesson Learn Generation(9.2)',\n",
              " 'Number of Risk with Identified Causes (11.1)',\n",
              " 'Number of Risk with Identified Velocity (11.1)',\n",
              " 'ON JOB MH (CON)',\n",
              " 'Operational Excellence Index',\n",
              " 'Organization Supported by ISA',\n",
              " 'Organization with Certified ISA',\n",
              " 'Outsourced Releases',\n",
              " 'Overdue Penetration Test Findings',\n",
              " 'Overdue Treatment Tasks (11.1)',\n",
              " 'Patch level Compliance',\n",
              " 'Patched SAP Systems',\n",
              " 'Percentage of Canceled Actions (OES 7.1)',\n",
              " 'Releases Exceeding Target Delivery',\n",
              " 'Releases Parked due to Funding',\n",
              " 'Releases in Execution',\n",
              " 'Review previous Lessons Learned (7.1)',\n",
              " 'Risk Administrator Training (11.1)',\n",
              " 'Risk Business Objectives Registry (11.1)',\n",
              " 'Risk Causes Registry (11.1)',\n",
              " 'Risk Impacted Business Process Registry (11.1)',\n",
              " 'Risk Individual Controls Registry (11.1)',\n",
              " 'Risk Individual Effectiveness Registry (11.1)',\n",
              " 'Risk Mitigation Ratio (11.1)',\n",
              " 'Risk Overall Effectiveness Registry (11.1)',\n",
              " 'Risk Treatment Options Registry (11.1)',\n",
              " 'Risk Treatment Plan Registry (11.1)',\n",
              " 'Risk Treatment Strategy Registry (11.1)',\n",
              " 'Risk Velocity Registry (11.1)',\n",
              " 'Risk Worse Case Scenario Registry (11.1)',\n",
              " 'Risks Updated Active Treatment Plans',\n",
              " 'SAP Applications Utilization',\n",
              " 'SAP Systems',\n",
              " 'Scalability Index (DT Archived)',\n",
              " 'Schedule Compliance Index',\n",
              " 'Schedule Compliance Index.',\n",
              " 'Services Utilization',\n",
              " 'Share best practices (12.1)',\n",
              " 'Strategic Initiatives Implementation Actual Progress(1.1)',\n",
              " 'Strategic Initiatives Implementation Planned Progress(1.1)',\n",
              " 'Supplier Performance (OES 7.1)',\n",
              " 'Target KA ()',\n",
              " 'Target KE Hours ()',\n",
              " 'Target KMI Hours',\n",
              " 'Target Mapped KAs ()',\n",
              " 'Top Performer Retention',\n",
              " 'Total of Risk Administrators (11.1)',\n",
              " 'Total of high severity risks (11.1)',\n",
              " 'Total of treatment tasks',\n",
              " 'Total Number of Active Risk (11.1)',\n",
              " 'Total SAP Systems',\n",
              " 'Total Spend',\n",
              " 'Total Sponsored CDPNE',\n",
              " 'YTD Active Employees with Average PMP Rating of E+ & S']"
            ]
          },
          "metadata": {},
          "execution_count": 5
        }
      ]
    },
    {
      "cell_type": "markdown",
      "source": [
        "##Tokenizing function using Regular Expression module to handle punctuations better"
      ],
      "metadata": {
        "id": "sfGAyTlUgpfV"
      }
    },
    {
      "cell_type": "code",
      "source": [
        "nltk.download('wordnet')"
      ],
      "metadata": {
        "colab": {
          "base_uri": "https://localhost:8080/"
        },
        "id": "tuYdRD6U-r9D",
        "outputId": "6a5a75f4-5c66-4991-8e50-e0bc3f4e2ace"
      },
      "execution_count": 6,
      "outputs": [
        {
          "output_type": "stream",
          "name": "stderr",
          "text": [
            "[nltk_data] Downloading package wordnet to /root/nltk_data...\n"
          ]
        },
        {
          "output_type": "execute_result",
          "data": {
            "text/plain": [
              "True"
            ]
          },
          "metadata": {},
          "execution_count": 6
        }
      ]
    },
    {
      "cell_type": "markdown",
      "source": [],
      "metadata": {
        "id": "j9yLeGf06Fgn"
      }
    },
    {
      "cell_type": "code",
      "source": [
        "# Tokenize using regex (handles punctuation)\n",
        "def tokenize(text):\n",
        "    return re.findall(r\"\\b\\w+(?:-\\w+)*\\b\", text)"
      ],
      "metadata": {
        "id": "BMyqSgIOb5XD"
      },
      "execution_count": 8,
      "outputs": []
    },
    {
      "cell_type": "markdown",
      "source": [
        "##Getting relevant synonyms for the input query"
      ],
      "metadata": {
        "id": "Onz-MBT76h7W"
      }
    },
    {
      "cell_type": "code",
      "source": [
        "import nltk\n",
        "from nltk.corpus import stopwords, wordnet\n",
        "from nltk.tokenize import word_tokenize\n",
        "from nltk import pos_tag\n",
        "\n",
        "# Function to get synonyms only for keywords\n",
        "def get_relevant_synonyms(word):\n",
        "    synonyms = set()\n",
        "    for syn in wordnet.synsets(word):\n",
        "        if syn.pos() in ['n', 'v', 'a']:  # Keep only Nouns (n), Verbs (v), and Adjectives (a)\n",
        "            for lemma in syn.lemmas():\n",
        "                synonym = lemma.name().replace('_', ' ')\n",
        "                if synonym.lower() != word.lower():  # Avoid self-references\n",
        "                    synonyms.add(synonym)\n",
        "        if len(synonyms) >= 3:  # Limit synonyms per word to reduce noise\n",
        "            break\n",
        "    return synonyms"
      ],
      "metadata": {
        "id": "8DF4jTez-zbk"
      },
      "execution_count": 7,
      "outputs": []
    },
    {
      "cell_type": "markdown",
      "source": [
        "##Extracted Known abbreviations from the list of KPI, KPI List and Focus Areas"
      ],
      "metadata": {
        "id": "9bdQPtU76T0Q"
      }
    },
    {
      "cell_type": "code",
      "source": [
        "KNOWN_ABBREVIATIONS = {\"GC\",\"APNE\",\"VCGNE\",\"AV\",\"BI-19\",\"ERC\",\"CDPNE\",\"CPH\",\"CRM\",\"BI19\",\"DPSRs\",\"USB\",\"HSSE\",\"IKTVA\",\"IT\",\"KM\",\"KT112\",\"KT113\",\"LTI\",\"MPS\",\"YTD\",\"MVA\",\"OE\",\"IDP\",\"CHaRM\",\"EMP\",\"OJI\",\"ON JOB MH\",\"ON\",\"JOB\",\"MH\",\"EMP+SMP\",\"SAMIR\",\"PDP\",\"KMI\",\"KPI\",\"RDP\",\"SC11-7\",\"SLA\",\"SMPs\",\"AVL\",\"SA\",\"PwD\",\"PHDs\",\"ERM\",\"KA\",\"KE\",\"CAPI\",\"ISA\",\"HR\",\"KAs\",\"LFC\",\"MFC\",\"SFC\",\"MFC&SFC\",\"DT\",\"BP\",\n",
        "\"CON\",\"OES\",\"DTO\"}"
      ],
      "metadata": {
        "id": "5DmieMV57DrW"
      },
      "execution_count": 13,
      "outputs": []
    },
    {
      "cell_type": "markdown",
      "source": [
        "##Spelling correction using pyspellchecker module"
      ],
      "metadata": {
        "id": "XetGuaRR6aoT"
      }
    },
    {
      "cell_type": "code",
      "source": [
        "!pip install pyspellchecker"
      ],
      "metadata": {
        "colab": {
          "base_uri": "https://localhost:8080/"
        },
        "id": "VevdnO69Ib6H",
        "outputId": "aa6a834e-4527-415f-9525-da44f3554449"
      },
      "execution_count": 9,
      "outputs": [
        {
          "output_type": "stream",
          "name": "stdout",
          "text": [
            "Collecting pyspellchecker\n",
            "  Downloading pyspellchecker-0.8.2-py3-none-any.whl.metadata (9.4 kB)\n",
            "Downloading pyspellchecker-0.8.2-py3-none-any.whl (7.1 MB)\n",
            "\u001b[2K   \u001b[90m━━━━━━━━━━━━━━━━━━━━━━━━━━━━━━━━━━━━━━━━\u001b[0m \u001b[32m7.1/7.1 MB\u001b[0m \u001b[31m79.4 MB/s\u001b[0m eta \u001b[36m0:00:00\u001b[0m\n",
            "\u001b[?25hInstalling collected packages: pyspellchecker\n",
            "Successfully installed pyspellchecker-0.8.2\n"
          ]
        }
      ]
    },
    {
      "cell_type": "code",
      "source": [
        "import nltk\n",
        "from spellchecker import SpellChecker\n",
        "\n",
        "def correct_spelling(query: str) -> str:\n",
        "    spell = SpellChecker()\n",
        "    words = tokenize(query)\n",
        "    corrected_words = []\n",
        "\n",
        "    for word in words:\n",
        "        if word.isalpha() and (word not in KNOWN_ABBREVIATIONS):\n",
        "            corrected_word = spell.correction(word)\n",
        "            corrected_words.append(corrected_word if corrected_word else word)\n",
        "        else:\n",
        "            corrected_words.append(word)\n",
        "\n",
        "    return \" \".join(corrected_words)"
      ],
      "metadata": {
        "id": "vFygG1pGIDH9"
      },
      "execution_count": 14,
      "outputs": []
    },
    {
      "cell_type": "code",
      "source": [
        "correct_spelling(\"Contlable KMI Granted\")"
      ],
      "metadata": {
        "colab": {
          "base_uri": "https://localhost:8080/",
          "height": 36
        },
        "id": "gE6kz_uHO6Qt",
        "outputId": "c1acd242-cc1b-4011-f247-0fbbab9d572c"
      },
      "execution_count": 15,
      "outputs": [
        {
          "output_type": "execute_result",
          "data": {
            "text/plain": [
              "'constable KMI Granted'"
            ],
            "application/vnd.google.colaboratory.intrinsic+json": {
              "type": "string"
            }
          },
          "metadata": {},
          "execution_count": 15
        }
      ]
    },
    {
      "cell_type": "markdown",
      "source": [
        "##Calculating the overlap between each word from the list KPI and the query"
      ],
      "metadata": {
        "id": "UVvk_-Lu6pPs"
      }
    },
    {
      "cell_type": "code",
      "source": [
        "def word_overlap(query, kpi):\n",
        "    query_words = set(word_tokenize(query.lower()))\n",
        "    kpi_words = set(word_tokenize(kpi.lower()))\n",
        "    return len(query_words & kpi_words)"
      ],
      "metadata": {
        "id": "FpbWN5ImQ2Ya"
      },
      "execution_count": 16,
      "outputs": []
    },
    {
      "cell_type": "markdown",
      "source": [
        "##Function to return whether the KPI/Focus Area/KPI List exactly matched in the query"
      ],
      "metadata": {
        "id": "BZGv3b4X6xIM"
      }
    },
    {
      "cell_type": "code",
      "source": [
        "def exact_match(query, kpi):\n",
        "    query_words = set(word_tokenize(query.lower()))\n",
        "    kpi_words = set(word_tokenize(kpi.lower()))\n",
        "    return kpi_words.issubset(query_words)"
      ],
      "metadata": {
        "id": "IhrV0jXy2zNm"
      },
      "execution_count": 17,
      "outputs": []
    },
    {
      "cell_type": "markdown",
      "source": [
        "##Fix the missing spaces using wordninha and KNOWN_ABBREVIATIONS"
      ],
      "metadata": {
        "id": "FLhkCW7D63w0"
      }
    },
    {
      "cell_type": "code",
      "source": [
        "!pip install wordninja"
      ],
      "metadata": {
        "colab": {
          "base_uri": "https://localhost:8080/"
        },
        "id": "P76kHFYnslTt",
        "outputId": "0f736b16-c52c-4cba-c302-8f3be8597a6f"
      },
      "execution_count": 18,
      "outputs": [
        {
          "output_type": "stream",
          "name": "stdout",
          "text": [
            "Collecting wordninja\n",
            "  Downloading wordninja-2.0.0.tar.gz (541 kB)\n",
            "\u001b[?25l     \u001b[90m━━━━━━━━━━━━━━━━━━━━━━━━━━━━━━━━━━━━━━━━\u001b[0m \u001b[32m0.0/541.6 kB\u001b[0m \u001b[31m?\u001b[0m eta \u001b[36m-:--:--\u001b[0m\r\u001b[2K     \u001b[90m━━━━━━━━━━━━━━━━━━━━━━━━━━━━━━━━━━━━━━━━\u001b[0m \u001b[32m541.6/541.6 kB\u001b[0m \u001b[31m17.8 MB/s\u001b[0m eta \u001b[36m0:00:00\u001b[0m\n",
            "\u001b[?25h  Preparing metadata (setup.py) ... \u001b[?25l\u001b[?25hdone\n",
            "Building wheels for collected packages: wordninja\n",
            "  Building wheel for wordninja (setup.py) ... \u001b[?25l\u001b[?25hdone\n",
            "  Created wheel for wordninja: filename=wordninja-2.0.0-py3-none-any.whl size=541530 sha256=2a506f58ee72c320e4dfbff7e2c24f42c34c40e95223788605dc6d9f1d83d465\n",
            "  Stored in directory: /root/.cache/pip/wheels/e6/66/9c/712044a983337f5d44f90abcd244bd4b8ad28ee64750404b50\n",
            "Successfully built wordninja\n",
            "Installing collected packages: wordninja\n",
            "Successfully installed wordninja-2.0.0\n"
          ]
        }
      ]
    },
    {
      "cell_type": "code",
      "source": [
        "import re\n",
        "import wordninja\n",
        "\n",
        "def fix_missing_spaces(query):\n",
        "    # Tokenize while keeping special symbols\n",
        "    tokens = re.findall(r\"[A-Za-z0-9&%$@#-]+|[\\S]\", query)  # Keeps %, &, etc.\n",
        "\n",
        "    fixed_tokens = []\n",
        "\n",
        "    for token in tokens:\n",
        "        # If the token is exactly a known abbreviation, keep it as is\n",
        "        if token in KNOWN_ABBREVIATIONS:\n",
        "            fixed_tokens.append(token)\n",
        "            continue\n",
        "\n",
        "        matched_abbr = None\n",
        "        for abbr in sorted(KNOWN_ABBREVIATIONS, key=len, reverse=True):  # Sort to match longest first\n",
        "            if abbr in token:\n",
        "                matched_abbr = abbr\n",
        "                break\n",
        "\n",
        "        if matched_abbr:\n",
        "            parts = re.split(f'({matched_abbr})', token)\n",
        "            for part in parts:\n",
        "                if part == matched_abbr:\n",
        "                    fixed_tokens.append(part)\n",
        "                elif part:\n",
        "                    fixed_tokens.extend(wordninja.split(part))\n",
        "        else:\n",
        "            # Apply wordninja only if the word is merged and not a known symbol\n",
        "            if token.isalpha() and token not in [\"%\", \"&\", \"$\"]:  # Skip symbols\n",
        "                split_words = wordninja.split(token)\n",
        "                fixed_tokens.extend(split_words)  # Add split words\n",
        "            else:\n",
        "                fixed_tokens.append(token)  # Keep as is\n",
        "\n",
        "    return \" \".join(fixed_tokens)"
      ],
      "metadata": {
        "id": "Bf3Vfv4P6-PI"
      },
      "execution_count": 25,
      "outputs": []
    },
    {
      "cell_type": "code",
      "source": [
        "query = \"What are KMIHours\"\n",
        "\n",
        "print(fix_missing_spaces(query))"
      ],
      "metadata": {
        "colab": {
          "base_uri": "https://localhost:8080/"
        },
        "id": "Rbh_p5FctJbQ",
        "outputId": "ae57cd74-0988-488e-9cd7-582fd6ccfd36"
      },
      "execution_count": 26,
      "outputs": [
        {
          "output_type": "stream",
          "name": "stdout",
          "text": [
            "What are KMI Hours\n"
          ]
        }
      ]
    },
    {
      "cell_type": "code",
      "source": [
        "query = \"List me Target inKMIHours\"\n",
        "\n",
        "print(fix_missing_spaces(query))"
      ],
      "metadata": {
        "colab": {
          "base_uri": "https://localhost:8080/"
        },
        "id": "_s_TKS-cxYG7",
        "outputId": "cca36796-138e-4df3-b604-a468e244f093"
      },
      "execution_count": 27,
      "outputs": [
        {
          "output_type": "stream",
          "name": "stdout",
          "text": [
            "List me Target in KMI Hours\n"
          ]
        }
      ]
    },
    {
      "cell_type": "code",
      "source": [
        "query = \"OutRDP\"\n",
        "\n",
        "print(fix_missing_spaces(query))"
      ],
      "metadata": {
        "colab": {
          "base_uri": "https://localhost:8080/"
        },
        "id": "MgVNE7Z79cmo",
        "outputId": "2ceff00e-6ef2-4382-bdf6-84a55d5238ec"
      },
      "execution_count": 28,
      "outputs": [
        {
          "output_type": "stream",
          "name": "stdout",
          "text": [
            "Out RDP\n"
          ]
        }
      ]
    },
    {
      "cell_type": "code",
      "source": [
        "kpi_list"
      ],
      "metadata": {
        "colab": {
          "base_uri": "https://localhost:8080/"
        },
        "id": "iFZ3To7u0JEF",
        "outputId": "5dcb9f26-fad2-4ede-9e97-56d4149a7cac"
      },
      "execution_count": 29,
      "outputs": [
        {
          "output_type": "execute_result",
          "data": {
            "text/plain": [
              "['Certified Employee in Current GC',\n",
              " 'Manpower Tracked for Certification- Competency',\n",
              " 'Loss Time Injuries',\n",
              " 'Loss Time Injuries (Contractor)',\n",
              " 'Off-Job Man Hours (Emp)',\n",
              " 'On-Job Man Hours (Contractor)',\n",
              " 'On-Job Man Hours (EMP + Cont)',\n",
              " 'On-Job Man Hours (Emp)',\n",
              " 'Positive Responses to the Phishing Tests',\n",
              " 'APNE/VCGNE',\n",
              " 'AV & Office Devices',\n",
              " 'App re-opened maint incidents',\n",
              " 'Application Cost/Per Hr. (In-House)',\n",
              " 'Applications Investment Capacity',\n",
              " 'Applications Maintain Capacity',\n",
              " 'Applications Run Capacity',\n",
              " 'Assets Net Book Value',\n",
              " 'Attrition',\n",
              " 'Average Company Workforce',\n",
              " 'BI-19 No. Overdue Projects (Past ERC)',\n",
              " 'BI-19 No. of Projects with ? 3 Months To ERC',\n",
              " 'Biz Travel',\n",
              " 'Business Sustainability - Below Target',\n",
              " 'Business Sustainability - Meeting Target',\n",
              " 'Business Sustainability - Yellow',\n",
              " 'CDPNE',\n",
              " 'CPH Positions - Total',\n",
              " 'CPH Positions Status - Acting',\n",
              " 'CPH Positions Status - Permanent',\n",
              " 'CPH Positions Status - Vacant',\n",
              " 'CRM Delivery – Number of Surveys Filled',\n",
              " 'CRM Delivery – Total Score of Satisfied',\n",
              " 'Capital Projects (BI19) - Approaching Deadline',\n",
              " 'Capital Projects (BI19) - Due',\n",
              " 'Capital Projects (BI19) - Overdue',\n",
              " 'Change Success Rate',\n",
              " 'Closed CRM',\n",
              " 'Closed DPSRs Started On Time',\n",
              " 'Closed DPSRs on Budget',\n",
              " 'Closed DPSRs on Time',\n",
              " 'Closed DPSRs on Time & Budget',\n",
              " 'Closed Incidents',\n",
              " 'Closed Maintenance Incidents',\n",
              " 'Closed Safety Observations',\n",
              " 'Communications',\n",
              " 'Competency Index',\n",
              " 'Compliant CRM',\n",
              " 'Compliant Incident',\n",
              " 'Computing',\n",
              " 'Conflict of Interest – Not Complied',\n",
              " 'Consultancy',\n",
              " 'Contracts',\n",
              " 'Controllable Cost',\n",
              " 'Controllable Cost ($)',\n",
              " 'Data Leakage Prevention (DLP)',\n",
              " 'Demand Fulfillment Capacity',\n",
              " 'Dev & Maint Hours',\n",
              " 'Development & Enhancements',\n",
              " 'Development Hours',\n",
              " 'Direct Controllable Cost',\n",
              " 'Direct Expenditures',\n",
              " 'E-Learning Security Essentials Completion',\n",
              " 'Education: Bachelor',\n",
              " 'Education: Masters',\n",
              " 'Education: Non-Degree',\n",
              " 'Emergency Change Rate',\n",
              " 'Emergency Changes',\n",
              " 'Emergency Transports vs. Normal',\n",
              " 'Employee Innovation Participation Rate',\n",
              " 'Employees Completed E-learning',\n",
              " 'Employees HeadCount',\n",
              " 'Fatalities (Off Job)',\n",
              " 'Female CPH',\n",
              " 'Female Representation',\n",
              " 'Food',\n",
              " 'Headcount with USB waiver',\n",
              " 'Health Safety Security Environment (HSSE) - Below Target',\n",
              " 'Health Safety Security Environment (HSSE) - Meeting Target',\n",
              " 'Health Safety Security Environment (HSSE) - Yellow',\n",
              " 'Hiring',\n",
              " 'IKTVA',\n",
              " 'IT Controllable Cost per User',\n",
              " 'IT Customer Satisfaction',\n",
              " 'Innovation Approval Rate',\n",
              " 'Innovation Average Review Time (Days)',\n",
              " 'Innovation Excellence Index',\n",
              " 'Innovation Implementation Rate',\n",
              " 'Innovation Realized Value',\n",
              " 'Innovation Realized Value ($)',\n",
              " 'Innovation Review Rate',\n",
              " 'KM Driven',\n",
              " 'KT112',\n",
              " 'KT113',\n",
              " 'LTI Incident Rate.',\n",
              " 'LTI Incident Rate',\n",
              " 'LTI Incident Rate (Contractor)',\n",
              " 'MPS - Number of YTD Requests',\n",
              " 'MVA',\n",
              " 'MVA Incident Rate',\n",
              " 'Maintenance Data Index ( OE 4.4 )',\n",
              " 'Maintenance Hours',\n",
              " 'Maintenance Strategy Index(OE 4.4)',\n",
              " 'Maintenance Tickets',\n",
              " 'Major Upgrades',\n",
              " 'Minor-to-Major Injury Ratio',\n",
              " 'Minor-to-Major Injury Ratio (Contractor)',\n",
              " 'Near Miss',\n",
              " 'Networking',\n",
              " 'Not Approved IDP',\n",
              " 'Not Submitted \\xa0IDP',\n",
              " 'Number of Emergency Transports (CHaRM)',\n",
              " 'Number of Emergency Transports (CRM)',\n",
              " 'Number of Failed Responses to the Phishing Tests',\n",
              " 'Number of Ideas Submitters',\n",
              " 'Number of Implemented ideas',\n",
              " 'Number of Loss Time Injuries',\n",
              " 'Number of MVA Incidents',\n",
              " 'Number of On-Job Injuries (EMP + Cont)',\n",
              " 'Number of On-Job Injuries (EMP)',\n",
              " 'Number of Phishing Test Recipients',\n",
              " 'Number of Recordable Injury/Illness (Contractor)',\n",
              " 'Number of Recordable Injury/Illness (EMP + Cont)',\n",
              " 'Number of Recordable Injury/Illness (Emp)',\n",
              " 'Number of Tier-1 Incidents',\n",
              " 'Number of Traffic Violations',\n",
              " 'Number of Traffic Warnings',\n",
              " 'Number of USB Waivers',\n",
              " 'OJI (Off Job Injuries)',\n",
              " 'OJI Incident Rate',\n",
              " 'OJI Incident Rate (EMP + Cont)',\n",
              " 'ON JOB MH (EMP+SMP)',\n",
              " 'Off Job Fatalities',\n",
              " 'On Budget DPSRs',\n",
              " 'On Job Fatalities',\n",
              " 'On Time & On Budget DPSRs',\n",
              " 'On Time DPSRs',\n",
              " 'Open Safety Recommendations (> 12 Mths) - Compliance Reviews',\n",
              " 'Open Safety Recommendations (> 12 Mths) - Insurance Survey',\n",
              " 'Open Safety Recommendations (> 12 Mths) - SAMIR',\n",
              " 'Open Safety Recommendations (ALL) - Compliance Reviews',\n",
              " 'Open Safety Recommendations (ALL) - Insurance Survey',\n",
              " 'Open Safety Recommendations (ALL) - SAMIR',\n",
              " 'Operation Management Hours',\n",
              " 'Operational - Below Target',\n",
              " 'Operational - Meeting Target',\n",
              " 'Operational - Yellow',\n",
              " 'Overall Permanent Employees',\n",
              " 'Overall Use Cases Summary',\n",
              " 'PDP Participants',\n",
              " 'Patents Filed',\n",
              " 'Patents Granted',\n",
              " 'Pending Purchase Orders',\n",
              " 'Pending Purchase Requisitions',\n",
              " 'People with Disability in Workforce',\n",
              " 'Phishing Emails Reported',\n",
              " 'Permanent CPH Employees',\n",
              " 'Permanent Female Employees',\n",
              " 'Phishing - Neutral',\n",
              " 'Phishing KPI (Positive)',\n",
              " 'Process Safety Event Tier-1',\n",
              " 'Professional Certification',\n",
              " 'RDP In',\n",
              " 'RDP Out',\n",
              " 'Re-opened Maintenance Incidents',\n",
              " 'Remedy Support Customer Satisfaction ()',\n",
              " 'Remedy Support – Number of Surveys Filled',\n",
              " 'Remedy Support – Total Score of Satisfied',\n",
              " 'Removable Media Restriction Exceptions Waived',\n",
              " 'Rollout & Configuration',\n",
              " 'SC11-17 employees',\n",
              " 'SC11-17 employees possessing a certification',\n",
              " 'SLA Compliance',\n",
              " 'SMPs',\n",
              " 'Safety Observations',\n",
              " 'Saudi Service Contractors',\n",
              " 'Service Contractor Saudization',\n",
              " 'Service Delivery Customer Satisfaction ()',\n",
              " 'Service Support Customer Satisfaction ()',\n",
              " 'Started On Time DPSRs',\n",
              " 'Successfully Implemented Changes',\n",
              " 'Test Phishing Email Failure',\n",
              " 'Test Phishing Email Failure (Repeated Violators)',\n",
              " 'Test Phishing Email Neutral',\n",
              " 'Test Phishing Email Positive',\n",
              " 'Total Approved Changes',\n",
              " 'Total Attrition',\n",
              " 'Total Capacity Hours',\n",
              " 'Total Closed DPSRs',\n",
              " 'Total Major Injuries',\n",
              " 'Total Major Injuries (Contractor)',\n",
              " 'Total Minor Injuries (Contractor)',\n",
              " 'Total No. of Employees (Regular + SMPs)',\n",
              " 'Total Number of Transports (CHaRM)',\n",
              " 'Total Number of Transports (CRM)',\n",
              " 'Total Recorded Case Frequency',\n",
              " 'Total Recorded Case Frequency (Contractor)',\n",
              " 'Total Recorded Case Frequency.',\n",
              " 'Total Service Contractors',\n",
              " 'Total Tracked Employees',\n",
              " 'Traffic Violations',\n",
              " 'Traffic Violations – AVL',\n",
              " 'Traffic Violations – Contractors',\n",
              " 'Traffic Violations – SA',\n",
              " 'Traffic Violations – Speeding',\n",
              " 'Traffic Warnings',\n",
              " 'Training',\n",
              " 'Transfer In',\n",
              " 'Transfer Out',\n",
              " 'Unauthorized Jobs',\n",
              " 'Unplanned DPSRs',\n",
              " 'Upkeep General Support',\n",
              " 'Upkeep Security & Quality',\n",
              " 'Value Creation - Below Target',\n",
              " 'Value Creation - Meeting Target',\n",
              " 'Value Creation - Yellow',\n",
              " 'Visitors Requests',\n",
              " 'Workforce',\n",
              " 'Workforce Average Age',\n",
              " 'Workforce Variance',\n",
              " 'Workforce w/o SMPs',\n",
              " 'reusable KPI Key from active Tile',\n",
              " 'Total Minor Injuries',\n",
              " \"Active Applications' Users over a 9 days\",\n",
              " 'Headcount Tracked for USB Waiver',\n",
              " 'Non-SAP Applications Utilization',\n",
              " 'Permanent PwD Employees',\n",
              " \"Total Applications' authorized users\",\n",
              " 'Miscellaneous',\n",
              " 'Permanent CPH Female Employees',\n",
              " 'Education: PHDs',\n",
              " 'of Risk Administrators who completed the ERM classroom tra',\n",
              " 'of active risks with high severity and ongoing treatments(',\n",
              " 'Citizen Development Use Cases',\n",
              " 'Communication Completeness (9.1)',\n",
              " 'Flagship Use Cases',\n",
              " 'Foundry Use Cases',\n",
              " 'Strategic Initiative Implementation(1.1)',\n",
              " '224 Releases',\n",
              " '224 Use Cases',\n",
              " '224-226 BP Releases',\n",
              " 'Actual KA ()',\n",
              " 'Actual KE Hours ()',\n",
              " 'Actual KMI Hours',\n",
              " 'Avg. Duration of Execution',\n",
              " 'Avg. Duration of Ideation',\n",
              " 'Avg. Duration of Use Cases Delivery',\n",
              " 'Budget Management (OES 7.1)',\n",
              " 'CAPI Overall Score (OES 7.1)',\n",
              " 'Capture Lessons Learned, Best Practices, and other knowledge',\n",
              " 'Capture lesson learned (1.2)',\n",
              " 'Capture lessons learned (12.3)',\n",
              " 'Capture lessons learned (2.1)',\n",
              " 'Capture lessons learned (5.1)',\n",
              " 'Capture lessons learned (9.2)',\n",
              " 'Certified ISA Compliance Index',\n",
              " 'Completed Releases',\n",
              " 'Current Quarter Releases in Execution',\n",
              " 'Deviations Avoidance',\n",
              " 'ERM Trained Staff',\n",
              " 'HR Effectiveness',\n",
              " 'Handover from Ideation to Execution',\n",
              " 'IKTVA-ized Spend',\n",
              " 'Ideation Efficiency Index',\n",
              " 'Ideation Success Rate',\n",
              " 'Identify Lesson Learned (4.4)',\n",
              " 'Implemented KAs with Benefits ()',\n",
              " 'Invoice Processing Time (OES 7.1)',\n",
              " 'Knowledge Assets Generation',\n",
              " 'Knowledge Assets Reuse',\n",
              " 'Knowledge Management Index',\n",
              " 'Knowledge Management Index (KMI) (OE 12.2)',\n",
              " 'Knowledge Sharing Events',\n",
              " 'LFC Bid Slate Health (OE 7.1)',\n",
              " 'LFC Procurement Time (OE 7.1)',\n",
              " 'MFC & SFC Processing Time (OES 7.1)',\n",
              " 'MFC&SFC Single Source Value (OES 7.1)',\n",
              " 'No. of BP Use Cases Under Execution',\n",
              " 'No. of BP Use Cases in Transition from Ideation to Execution',\n",
              " 'No. of Backlog Use Cases',\n",
              " 'No. of Completed BP Use Cases',\n",
              " 'No. of Completed Use Cases',\n",
              " 'No. of Ideated Use Cases',\n",
              " 'No. of Ongoing BP Use Cases (DT Achieved)',\n",
              " 'No. of Ongoing BP Use Cases Exceeding Target Delivery',\n",
              " 'No. of Ongoing Use Cases',\n",
              " 'No. of Ongoing Use Cases Exceeding Target Delivery',\n",
              " 'No. of Outsourced Use Cases',\n",
              " 'No. of Use Cases Parked due to Funding',\n",
              " 'No. of Use Cases Under Execution',\n",
              " 'No. of Use Cases Under Ideation',\n",
              " 'No. of Use Cases in Transition from Ideation to Execution',\n",
              " 'Number of Active Risk with Identified Business Objectives (1',\n",
              " 'Number of Active Risk with Identified Impacted Business Proc',\n",
              " 'Number of Active Risk with Identified Individual Controls(11',\n",
              " 'Number of Active Risk with Identified Treatment Options (11.',\n",
              " 'Number of Active Risk with Identified Worse Case Scenario(11',\n",
              " 'Number of Active Risk with Overall Effectiveness(11.1)',\n",
              " 'Number of Generated Knowledge Assets(1.2)',\n",
              " 'Number of Generated Knowledge Assets(11.1)',\n",
              " 'Number of Generated Knowledge Assets(11.3)',\n",
              " 'Number of Generated Knowledge Assets(12.1)',\n",
              " 'Number of Generated Knowledge Assets(12.2)',\n",
              " 'Number of Generated Knowledge Assets(2.1)',\n",
              " 'Number of Generated Knowledge Assets(5.1)',\n",
              " 'Number of Generated Knowledge Assets(7.1)',\n",
              " 'Number of Generated Knowledge Assets(9.1)',\n",
              " 'Number of Generated Knowledge Assets(9.2)',\n",
              " 'Number of Generated Lesson Learn Generation(1.1)',\n",
              " 'Number of Generated Lesson Learn Generation(1.2)',\n",
              " 'Number of Generated Lesson Learn Generation(11.1)',\n",
              " 'Number of Generated Lesson Learn Generation(12.1)',\n",
              " 'Number of Generated Lesson Learn Generation(12.2)',\n",
              " 'Number of Generated Lesson Learn Generation(12.3)',\n",
              " 'Number of Generated Lesson Learn Generation(2.1)',\n",
              " 'Number of Generated Lesson Learn Generation(4.4)',\n",
              " 'Number of Generated Lesson Learn Generation(5.1)',\n",
              " 'Number of Generated Lesson Learn Generation(9.1)',\n",
              " 'Number of Generated Lesson Learn Generation(9.2)',\n",
              " 'Number of Risk with Identified Causes (11.1)',\n",
              " 'Number of Risk with Identified Velocity (11.1)',\n",
              " 'ON JOB MH (CON)',\n",
              " 'Operational Excellence Index',\n",
              " 'Organization Supported by ISA',\n",
              " 'Organization with Certified ISA',\n",
              " 'Outsourced Releases',\n",
              " 'Overdue Penetration Test Findings',\n",
              " 'Overdue Treatment Tasks (11.1)',\n",
              " 'Patch level Compliance',\n",
              " 'Patched SAP Systems',\n",
              " 'Percentage of Canceled Actions (OES 7.1)',\n",
              " 'Releases Exceeding Target Delivery',\n",
              " 'Releases Parked due to Funding',\n",
              " 'Releases in Execution',\n",
              " 'Review previous Lessons Learned (7.1)',\n",
              " 'Risk Administrator Training (11.1)',\n",
              " 'Risk Business Objectives Registry (11.1)',\n",
              " 'Risk Causes Registry (11.1)',\n",
              " 'Risk Impacted Business Process Registry (11.1)',\n",
              " 'Risk Individual Controls Registry (11.1)',\n",
              " 'Risk Individual Effectiveness Registry (11.1)',\n",
              " 'Risk Mitigation Ratio (11.1)',\n",
              " 'Risk Overall Effectiveness Registry (11.1)',\n",
              " 'Risk Treatment Options Registry (11.1)',\n",
              " 'Risk Treatment Plan Registry (11.1)',\n",
              " 'Risk Treatment Strategy Registry (11.1)',\n",
              " 'Risk Velocity Registry (11.1)',\n",
              " 'Risk Worse Case Scenario Registry (11.1)',\n",
              " 'Risks Updated Active Treatment Plans',\n",
              " 'SAP Applications Utilization',\n",
              " 'SAP Systems',\n",
              " 'Scalability Index (DT Archived)',\n",
              " 'Schedule Compliance Index',\n",
              " 'Schedule Compliance Index.',\n",
              " 'Services Utilization',\n",
              " 'Share best practices (12.1)',\n",
              " 'Strategic Initiatives Implementation Actual Progress(1.1)',\n",
              " 'Strategic Initiatives Implementation Planned Progress(1.1)',\n",
              " 'Supplier Performance (OES 7.1)',\n",
              " 'Target KA ()',\n",
              " 'Target KE Hours ()',\n",
              " 'Target KMI Hours',\n",
              " 'Target Mapped KAs ()',\n",
              " 'Top Performer Retention',\n",
              " 'Total of Risk Administrators (11.1)',\n",
              " 'Total of high severity risks (11.1)',\n",
              " 'Total of treatment tasks',\n",
              " 'Total Number of Active Risk (11.1)',\n",
              " 'Total SAP Systems',\n",
              " 'Total Spend',\n",
              " 'Total Sponsored CDPNE',\n",
              " 'YTD Active Employees with Average PMP Rating of E+ & S']"
            ]
          },
          "metadata": {},
          "execution_count": 29
        }
      ]
    },
    {
      "cell_type": "code",
      "source": [
        "focus_areas_list"
      ],
      "metadata": {
        "colab": {
          "base_uri": "https://localhost:8080/"
        },
        "id": "6isoJtLm0MbR",
        "outputId": "8d58bb65-72af-477a-8039-5325cb7f727e"
      },
      "execution_count": 30,
      "outputs": [
        {
          "output_type": "execute_result",
          "data": {
            "text/plain": [
              "['Value Creation',\n",
              " 'Operational Efficiency',\n",
              " 'Alignment to National Interest',\n",
              " 'Business Sustainability',\n",
              " 'Health Safety Security Environment (HSSE)',\n",
              " 'Solution Delivery',\n",
              " 'BP Solution Delivery',\n",
              " 'Human Resources',\n",
              " 'DTO Enablers',\n",
              " 'Placeholder',\n",
              " 'Safety & Cybersecurity',\n",
              " 'Best Place to Work & Live',\n",
              " 'Digitalization & Innovation',\n",
              " 'Risk Management',\n",
              " 'Sustainability & Citizenship',\n",
              " 'Requisition To Pay',\n",
              " 'Record To Report',\n",
              " 'Order To Cash',\n",
              " 'Hire To Retire',\n",
              " 'Build To Dispose',\n",
              " 'Treasury']"
            ]
          },
          "metadata": {},
          "execution_count": 30
        }
      ]
    },
    {
      "cell_type": "code",
      "source": [
        "list_of_kpi_list"
      ],
      "metadata": {
        "colab": {
          "base_uri": "https://localhost:8080/"
        },
        "id": "DzV21oVH0PLW",
        "outputId": "7c953f15-7a93-4e44-ad54-b84ebf2e2b5e"
      },
      "execution_count": 31,
      "outputs": [
        {
          "output_type": "execute_result",
          "data": {
            "text/plain": [
              "['Productivity KPIs',\n",
              " 'Monthly Digest',\n",
              " 'All KPIs',\n",
              " 'Performance Measures',\n",
              " 'Dashboard Performance',\n",
              " 'Scorecard Performance',\n",
              " 'Upstream KPIs',\n",
              " 'Corporate Programs KPIs',\n",
              " 'Performance Summary',\n",
              " 'Corporate Dashboard',\n",
              " 'Performance Eye',\n",
              " 'DT Value Chain']"
            ]
          },
          "metadata": {},
          "execution_count": 31
        }
      ]
    },
    {
      "cell_type": "markdown",
      "source": [
        "##Expanding the Query to check if synonyms in the query match with the KPI list"
      ],
      "metadata": {
        "id": "YMv1tjGZ_8qi"
      }
    },
    {
      "cell_type": "code",
      "source": [
        "from nltk.corpus import stopwords\n",
        "from nltk import pos_tag\n",
        "\n",
        "# Function to extract keywords & expand query\n",
        "def expand_query(query):\n",
        "    stop_words = set(stopwords.words('english'))\n",
        "\n",
        "    query = fix_missing_spaces(query)\n",
        "\n",
        "    query = correct_spelling(query)\n",
        "\n",
        "    words = tokenize(query)\n",
        "    pos_tags = pos_tag(words)\n",
        "\n",
        "    keywords = []\n",
        "    for word, tag in pos_tags:\n",
        "        if word in KNOWN_ABBREVIATIONS:  # Preserve abbreviations\n",
        "            keywords.append(word)\n",
        "        elif tag.startswith(('N', 'V', 'J')) and word.lower() not in stop_words:\n",
        "            keywords.append(word)\n",
        "\n",
        "    expanded_query = set(keywords)  # Include original keywords\n",
        "    for word in keywords:\n",
        "        expanded_query.update(get_relevant_synonyms(word))  # Add relevant synonyms\n",
        "\n",
        "    return \" \".join(expanded_query)"
      ],
      "metadata": {
        "id": "oXzhdrNJ_5nR"
      },
      "execution_count": 32,
      "outputs": []
    },
    {
      "cell_type": "code",
      "source": [
        "import nltk\n",
        "\n",
        "nltk.download('stopwords')\n",
        "nltk.download('averaged_perceptron_tagger_eng')"
      ],
      "metadata": {
        "colab": {
          "base_uri": "https://localhost:8080/"
        },
        "id": "jwufjjUyKPpj",
        "outputId": "21f98209-a079-44a7-b852-240fc8f01d36"
      },
      "execution_count": 33,
      "outputs": [
        {
          "output_type": "stream",
          "name": "stderr",
          "text": [
            "[nltk_data] Downloading package stopwords to /root/nltk_data...\n",
            "[nltk_data]   Unzipping corpora/stopwords.zip.\n",
            "[nltk_data] Downloading package averaged_perceptron_tagger_eng to\n",
            "[nltk_data]     /root/nltk_data...\n",
            "[nltk_data]   Unzipping taggers/averaged_perceptron_tagger_eng.zip.\n"
          ]
        },
        {
          "output_type": "execute_result",
          "data": {
            "text/plain": [
              "True"
            ]
          },
          "metadata": {},
          "execution_count": 33
        }
      ]
    },
    {
      "cell_type": "code",
      "source": [
        "nltk.download('punkt_tab')"
      ],
      "metadata": {
        "colab": {
          "base_uri": "https://localhost:8080/"
        },
        "id": "uzW-dxl6RUcb",
        "outputId": "14e3b2fc-d75d-4eee-a19f-dac01b85b681"
      },
      "execution_count": 34,
      "outputs": [
        {
          "output_type": "stream",
          "name": "stderr",
          "text": [
            "[nltk_data] Downloading package punkt_tab to /root/nltk_data...\n",
            "[nltk_data]   Unzipping tokenizers/punkt_tab.zip.\n"
          ]
        },
        {
          "output_type": "execute_result",
          "data": {
            "text/plain": [
              "True"
            ]
          },
          "metadata": {},
          "execution_count": 34
        }
      ]
    },
    {
      "cell_type": "code",
      "source": [
        "print(expand_query(\"What inPHDs work\"))"
      ],
      "metadata": {
        "id": "q_p0zveOHUlm",
        "outputId": "fec84fc9-1ba6-4b42-d1ad-64f52a18e112",
        "colab": {
          "base_uri": "https://localhost:8080/"
        }
      },
      "execution_count": 35,
      "outputs": [
        {
          "output_type": "stream",
          "name": "stdout",
          "text": [
            "PHDs piece of work work employment Ph.D. PhD study\n"
          ]
        }
      ]
    },
    {
      "cell_type": "markdown",
      "source": [
        "##Retrieving best matches using TF-IDF and Cosine Similarity\n",
        "\n",
        "Went through analysis using different thresholds and chose 0.3 for better accuracy in retrieval"
      ],
      "metadata": {
        "id": "SO_bmBDcg1j-"
      }
    },
    {
      "cell_type": "code",
      "source": [
        "from sklearn.feature_extraction.text import TfidfVectorizer\n",
        "from sklearn.metrics.pairwise import cosine_similarity\n",
        "from nltk.tokenize import word_tokenize\n",
        "\n",
        "def find_best_kpis(query, list_type, min_score=0.2, high_score=0.35):\n",
        "    expanded_query = expand_query(query)\n",
        "\n",
        "    vectorizer = TfidfVectorizer()\n",
        "    combined = list_type + [expanded_query]\n",
        "\n",
        "    tfidf_matrix = vectorizer.fit_transform(combined)\n",
        "    similarities = cosine_similarity(tfidf_matrix[-1], tfidf_matrix[:-1])\n",
        "\n",
        "    sorted_matches = sorted(zip(list_type, similarities[0]), key=lambda x: x[1], reverse=True)\n",
        "\n",
        "    if sorted_matches:\n",
        "        best_kpi, best_score = sorted_matches[0]\n",
        "        overlap_count = word_overlap(expanded_query, best_kpi)\n",
        "\n",
        "        if overlap_count > 1:  # Higher priority retrieval logic\n",
        "            if exact_match(query, best_kpi):\n",
        "                filtered_matches = [(kpi, score) for kpi, score in sorted_matches if score > min_score]\n",
        "                if len(filtered_matches) > 1 and filtered_matches[0][1] > high_score and filtered_matches[1][1] > high_score:\n",
        "                    return filtered_matches[:2]\n",
        "                elif filtered_matches:\n",
        "                    return [filtered_matches[0]]\n",
        "            else:\n",
        "                return [(kpi, score) for kpi, score in sorted_matches if score > min_score]\n",
        "\n",
        "    return [(kpi, score) for kpi, score in sorted_matches if score > min_score]"
      ],
      "metadata": {
        "id": "ma1nSZ4bd99o"
      },
      "execution_count": 36,
      "outputs": []
    },
    {
      "cell_type": "markdown",
      "source": [
        "#TEST CASES"
      ],
      "metadata": {
        "id": "bWPGWhSjurob"
      }
    },
    {
      "cell_type": "markdown",
      "source": [
        "##If no exact match found return all similar KPIs"
      ],
      "metadata": {
        "id": "gzrtqN8durOq"
      }
    },
    {
      "cell_type": "code",
      "source": [
        "import time\n",
        "\n",
        "query = \"what is the applications service labor productivity ratio for DJVC for July 2018?\"\n",
        "\n",
        "start_time = time.time()  # Start time\n",
        "\n",
        "matches = find_best_kpis(query,kpi_list)\n",
        "\n",
        "# Display top 3 matching KPIs with their similarity scores\n",
        "print(\"Top Matching KPIs:\")\n",
        "for kpi, score in matches:\n",
        "    print(f\"{kpi}: {score}\")\n",
        "\n",
        "filtered_matches_kpi_list = find_best_kpis(query,list_of_kpi_list, min_score = 0.1)\n",
        "print(\"Top Matching KPI Lists:\")\n",
        "for kpi, score in filtered_matches_kpi_list:\n",
        "    print(f\"{kpi}: {score}\")\n",
        "\n",
        "filtered_matches_focus_areas = find_best_kpis(query,focus_areas_list, min_score = 0.1)\n",
        "print(\"Top Matching Focus Areas:\")\n",
        "for kpi, score in filtered_matches_focus_areas:\n",
        "    print(f\"{kpi}: {score}\")\n",
        "\n",
        "\n",
        "end_time = time.time()  # End time\n",
        "retrieval_time = round(end_time - start_time, 4)  # Compute time taken\n",
        "\n",
        "print(f\"\\nTime taken: {retrieval_time} seconds\")\n"
      ],
      "metadata": {
        "colab": {
          "base_uri": "https://localhost:8080/"
        },
        "id": "HuksugcmHIpD",
        "outputId": "f69de2fe-1cda-4973-a62a-b3cf174a292e"
      },
      "execution_count": 48,
      "outputs": [
        {
          "output_type": "stream",
          "name": "stdout",
          "text": [
            "Top Matching KPIs:\n",
            "Total Service Contractors: 0.36275234447375393\n",
            "Service Contractor Saudization: 0.3253422261399763\n",
            "Saudi Service Contractors: 0.3088555279459524\n",
            "Service Delivery Customer Satisfaction (): 0.29302612581632353\n",
            "Service Support Customer Satisfaction (): 0.28909019705376343\n",
            "Top Matching KPI Lists:\n",
            "Top Matching Focus Areas:\n",
            "\n",
            "Time taken: 1.4381 seconds\n"
          ]
        }
      ]
    },
    {
      "cell_type": "code",
      "source": [
        "import time\n",
        "\n",
        "start_time = time.time()  # Start time\n",
        "\n",
        "# Example query\n",
        "query = \"Which division in CAD has the highest % of Test Phishing Email?\"\n",
        "matches = find_best_kpis(query,kpi_list)\n",
        "# Display top 3 matching KPIs with their similarity scores\n",
        "print(\"Top Matching KPIs:\")\n",
        "for kpi, score in matches:\n",
        "    print(f\"{kpi}: {score}\")\n",
        "\n",
        "filtered_matches_kpi_list = find_best_kpis(query,list_of_kpi_list)\n",
        "print(\"Top Matching KPI Lists:\")\n",
        "for kpi, score in filtered_matches_kpi_list:\n",
        "    print(f\"{kpi}: {score}\")\n",
        "\n",
        "filtered_matches_focus_areas = find_best_kpis(query,focus_areas_list)\n",
        "print(\"Top Matching Focus Areas:\")\n",
        "for kpi, score in filtered_matches_focus_areas:\n",
        "    print(f\"{kpi}: {score}\")\n",
        "\n",
        "\n",
        "end_time = time.time()  # End time\n",
        "retrieval_time = round(end_time - start_time, 4)  # Compute time taken\n",
        "\n",
        "print(f\"\\nTime taken: {retrieval_time} seconds\")"
      ],
      "metadata": {
        "colab": {
          "base_uri": "https://localhost:8080/"
        },
        "id": "0Qw7PCUhetiI",
        "outputId": "2654d099-825b-499f-8fb7-4351f403c2a1"
      },
      "execution_count": 49,
      "outputs": [
        {
          "output_type": "stream",
          "name": "stdout",
          "text": [
            "Top Matching KPIs:\n",
            "Test Phishing Email Positive: 0.2080458595241983\n",
            "Test Phishing Email Failure: 0.2047306793549044\n",
            "Test Phishing Email Neutral: 0.2047306793549044\n",
            "Top Matching KPI Lists:\n",
            "Top Matching Focus Areas:\n",
            "\n",
            "Time taken: 1.2842 seconds\n"
          ]
        }
      ]
    },
    {
      "cell_type": "code",
      "source": [
        "import time\n",
        "\n",
        "start_time = time.time()  # Start time\n",
        "\n",
        "query = \"What are the KPIs in the performance summary and dt value chain?\"\n",
        "\n",
        "matches = find_best_kpis(query,kpi_list)\n",
        "# Display top 3 matching KPIs with their similarity scores\n",
        "print(\"Top Matching KPIs:\")\n",
        "for kpi, score in matches:\n",
        "    print(f\"{kpi}: {score}\")\n",
        "\n",
        "filtered_matches_kpi_list = find_best_kpis(query,list_of_kpi_list)\n",
        "print(\"Top Matching KPI Lists:\")\n",
        "for kpi, score in filtered_matches_kpi_list:\n",
        "    print(f\"{kpi}: {score}\")\n",
        "\n",
        "filtered_matches_focus_areas = find_best_kpis(query,focus_areas_list)\n",
        "print(\"Top Matching Focus Areas:\")\n",
        "for kpi, score in filtered_matches_focus_areas:\n",
        "    print(f\"{kpi}: {score}\")\n",
        "\n",
        "end_time = time.time()  # End time\n",
        "retrieval_time = round(end_time - start_time, 4)  # Compute time taken\n",
        "\n",
        "print(f\"\\nTime taken: {retrieval_time} seconds\")"
      ],
      "metadata": {
        "colab": {
          "base_uri": "https://localhost:8080/"
        },
        "id": "3mc00WSgHP7B",
        "outputId": "cfa83ca8-46b1-409c-c54b-57ef5f7afc73"
      },
      "execution_count": 50,
      "outputs": [
        {
          "output_type": "stream",
          "name": "stdout",
          "text": [
            "Top Matching KPIs:\n",
            "Innovation Realized Value: 0.223128871249002\n",
            "Innovation Realized Value ($): 0.223128871249002\n",
            "Value Creation - Yellow: 0.2194821929712428\n",
            "Top Matching KPI Lists:\n",
            "DT Value Chain: 0.523767655789811\n",
            "Top Matching Focus Areas:\n",
            "Value Creation: 0.3079984700770705\n",
            "\n",
            "Time taken: 0.8164 seconds\n"
          ]
        }
      ]
    },
    {
      "cell_type": "markdown",
      "source": [
        "##Missing Spaces between the word and abbreviation (starts with word)"
      ],
      "metadata": {
        "id": "5Cz-4lzwu4it"
      }
    },
    {
      "cell_type": "code",
      "source": [
        "import time\n",
        "\n",
        "start_time = time.time()  # Start time\n",
        "\n",
        "# Example query\n",
        "query = \"What are the PatchedSAP Systems?\"\n",
        "matches = find_best_kpis(query,kpi_list)\n",
        "# Display top 3 matching KPIs with their similarity scores\n",
        "print(\"Top Matching KPIs:\")\n",
        "for kpi, score in matches:\n",
        "    print(f\"{kpi}: {score}\")\n",
        "\n",
        "filtered_matches_kpi_list = find_best_kpis(query,list_of_kpi_list)\n",
        "print(\"Top Matching KPI Lists:\")\n",
        "for kpi, score in filtered_matches_kpi_list:\n",
        "    print(f\"{kpi}: {score}\")\n",
        "\n",
        "filtered_matches_focus_areas = find_best_kpis(query,focus_areas_list)\n",
        "print(\"Top Matching Focus Areas:\")\n",
        "for kpi, score in filtered_matches_focus_areas:\n",
        "    print(f\"{kpi}: {score}\")\n",
        "\n",
        "end_time = time.time()  # End time\n",
        "retrieval_time = round(end_time - start_time, 4)  # Compute time taken\n",
        "\n",
        "print(f\"\\nTime taken: {retrieval_time} seconds\")"
      ],
      "metadata": {
        "colab": {
          "base_uri": "https://localhost:8080/"
        },
        "id": "3mQSFiCSgJjP",
        "outputId": "d6e75ec3-e493-4a59-992d-b213d5a50943"
      },
      "execution_count": 51,
      "outputs": [
        {
          "output_type": "stream",
          "name": "stdout",
          "text": [
            "Top Matching KPIs:\n",
            "Patch level Compliance: 0.24612509228138485\n",
            "Patched SAP Systems: 0.23509842348815302\n",
            "Top Matching KPI Lists:\n",
            "Top Matching Focus Areas:\n",
            "\n",
            "Time taken: 0.8258 seconds\n"
          ]
        }
      ]
    },
    {
      "cell_type": "markdown",
      "source": [
        "##Missing Spaces between abbreviation and word (starts with abbreviation)"
      ],
      "metadata": {
        "id": "HhXJu4GAvAE1"
      }
    },
    {
      "cell_type": "code",
      "source": [
        "import time\n",
        "\n",
        "start_time = time.time()  # Start time\n",
        "\n",
        "# Example query\n",
        "query = \"List me Target KMIHours?\"\n",
        "matches = find_best_kpis(query,kpi_list)\n",
        "# Display top 3 matching KPIs with their similarity scores\n",
        "print(\"Top Matching KPIs:\")\n",
        "for kpi, score in matches:\n",
        "    print(f\"{kpi}: {score}\")\n",
        "\n",
        "filtered_matches_kpi_list = find_best_kpis(query,list_of_kpi_list)\n",
        "print(\"Top Matching KPI Lists:\")\n",
        "for kpi, score in filtered_matches_kpi_list:\n",
        "    print(f\"{kpi}: {score}\")\n",
        "\n",
        "filtered_matches_focus_areas = find_best_kpis(query,focus_areas_list)\n",
        "print(\"Top Matching Focus Areas:\")\n",
        "for kpi, score in filtered_matches_focus_areas:\n",
        "    print(f\"{kpi}: {score}\")\n",
        "\n",
        "end_time = time.time()  # End time\n",
        "retrieval_time = round(end_time - start_time, 4)  # Compute time taken\n",
        "\n",
        "print(f\"\\nTime taken: {retrieval_time} seconds\")"
      ],
      "metadata": {
        "colab": {
          "base_uri": "https://localhost:8080/"
        },
        "id": "zfR5Q18CgzGy",
        "outputId": "6e6717e2-0eb7-418b-f855-edbf088cd84e"
      },
      "execution_count": 52,
      "outputs": [
        {
          "output_type": "stream",
          "name": "stdout",
          "text": [
            "Top Matching KPIs:\n",
            "Target KMI Hours: 0.3138437494317441\n",
            "Actual KMI Hours: 0.2115660363814194\n",
            "Top Matching KPI Lists:\n",
            "Top Matching Focus Areas:\n",
            "\n",
            "Time taken: 0.8043 seconds\n"
          ]
        }
      ]
    },
    {
      "cell_type": "markdown",
      "source": [
        "##Exact Match with abbreviations"
      ],
      "metadata": {
        "id": "_rOihCw8vKnY"
      }
    },
    {
      "cell_type": "code",
      "source": [
        "import time\n",
        "\n",
        "start_time = time.time()  # Start time\n",
        "\n",
        "# Example query\n",
        "query = \"What isthe Scalability Index (DT Archived)?\"\n",
        "matches = find_best_kpis(query,kpi_list)\n",
        "# Display top 3 matching KPIs with their similarity scores\n",
        "print(\"Top Matching KPIs:\")\n",
        "for kpi, score in matches:\n",
        "    print(f\"{kpi}: {score}\")\n",
        "\n",
        "filtered_matches_kpi_list = find_best_kpis(query,list_of_kpi_list)\n",
        "print(\"Top Matching KPI Lists:\")\n",
        "for kpi, score in filtered_matches_kpi_list:\n",
        "    print(f\"{kpi}: {score}\")\n",
        "\n",
        "filtered_matches_focus_areas = find_best_kpis(query,focus_areas_list)\n",
        "print(\"Top Matching Focus Areas:\")\n",
        "for kpi, score in filtered_matches_focus_areas:\n",
        "    print(f\"{kpi}: {score}\")\n",
        "\n",
        "end_time = time.time()  # End time\n",
        "retrieval_time = round(end_time - start_time, 4)  # Compute time taken\n",
        "\n",
        "print(f\"\\nTime taken: {retrieval_time} seconds\")"
      ],
      "metadata": {
        "colab": {
          "base_uri": "https://localhost:8080/"
        },
        "id": "p6ZFlFMilTvh",
        "outputId": "c8141335-ba9f-4521-953b-c70ba676b0a5"
      },
      "execution_count": 53,
      "outputs": [
        {
          "output_type": "stream",
          "name": "stdout",
          "text": [
            "Top Matching KPIs:\n",
            "Scalability Index (DT Archived): 0.42933466876161674\n",
            "Top Matching KPI Lists:\n",
            "Top Matching Focus Areas:\n",
            "\n",
            "Time taken: 0.8505 seconds\n"
          ]
        }
      ]
    },
    {
      "cell_type": "markdown",
      "source": [
        "##Jumbled Words"
      ],
      "metadata": {
        "id": "r46aTI3v1-fo"
      }
    },
    {
      "cell_type": "code",
      "source": [
        "import time\n",
        "\n",
        "start_time = time.time()  # Start time\n",
        "\n",
        "# Example query\n",
        "query = \"What are the granted patents in the FY24?\"\n",
        "matches = find_best_kpis(query,kpi_list)\n",
        "# Display top 3 matching KPIs with their similarity scores\n",
        "print(\"Top Matching KPIs:\")\n",
        "for kpi, score in matches:\n",
        "    print(f\"{kpi}: {score}\")\n",
        "\n",
        "filtered_matches_kpi_list = find_best_kpis(query,list_of_kpi_list)\n",
        "print(\"Top Matching KPI Lists:\")\n",
        "for kpi, score in filtered_matches_kpi_list:\n",
        "    print(f\"{kpi}: {score}\")\n",
        "\n",
        "filtered_matches_focus_areas = find_best_kpis(query,focus_areas_list)\n",
        "print(\"Top Matching Focus Areas:\")\n",
        "for kpi, score in filtered_matches_focus_areas:\n",
        "    print(f\"{kpi}: {score}\")\n",
        "\n",
        "end_time = time.time()  # End time\n",
        "retrieval_time = round(end_time - start_time, 4)  # Compute time taken\n",
        "\n",
        "print(f\"\\nTime taken: {retrieval_time} seconds\")"
      ],
      "metadata": {
        "colab": {
          "base_uri": "https://localhost:8080/"
        },
        "id": "ekQmoMeY14RU",
        "outputId": "a1343f76-c10d-4e26-e24b-9321ccd40199"
      },
      "execution_count": 63,
      "outputs": [
        {
          "output_type": "stream",
          "name": "stdout",
          "text": [
            "Top Matching KPIs:\n",
            "Patents Granted: 0.31448167325942156\n",
            "Top Matching KPI Lists:\n",
            "Top Matching Focus Areas:\n",
            "\n",
            "Time taken: 0.8382 seconds\n"
          ]
        }
      ]
    },
    {
      "cell_type": "code",
      "source": [
        "import time\n",
        "\n",
        "start_time = time.time()  # Start time\n",
        "\n",
        "# Example query\n",
        "query = \"What is the DT Scalability Index Archived\"\n",
        "matches = find_best_kpis(query,kpi_list)\n",
        "# Display top 3 matching KPIs with their similarity scores\n",
        "print(\"Top Matching KPIs:\")\n",
        "for kpi, score in matches:\n",
        "    print(f\"{kpi}: {score}\")\n",
        "\n",
        "filtered_matches_kpi_list = find_best_kpis(query,list_of_kpi_list)\n",
        "print(\"Top Matching KPI Lists:\")\n",
        "for kpi, score in filtered_matches_kpi_list:\n",
        "    print(f\"{kpi}: {score}\")\n",
        "\n",
        "filtered_matches_focus_areas = find_best_kpis(query,focus_areas_list)\n",
        "print(\"Top Matching Focus Areas:\")\n",
        "for kpi, score in filtered_matches_focus_areas:\n",
        "    print(f\"{kpi}: {score}\")\n",
        "\n",
        "end_time = time.time()  # End time\n",
        "retrieval_time = round(end_time - start_time, 4)  # Compute time taken\n",
        "\n",
        "print(f\"\\nTime taken: {retrieval_time} seconds\")"
      ],
      "metadata": {
        "colab": {
          "base_uri": "https://localhost:8080/"
        },
        "id": "S7udNqNF4M2h",
        "outputId": "892dca1f-4de1-45ea-dace-37573e7e2432"
      },
      "execution_count": 64,
      "outputs": [
        {
          "output_type": "stream",
          "name": "stdout",
          "text": [
            "Top Matching KPIs:\n",
            "Scalability Index (DT Archived): 0.42933466876161674\n",
            "Competency Index: 0.2374161864226096\n",
            "Knowledge Management Index: 0.21573945021626398\n",
            "Top Matching KPI Lists:\n",
            "Top Matching Focus Areas:\n",
            "\n",
            "Time taken: 1.0325 seconds\n"
          ]
        }
      ]
    },
    {
      "cell_type": "markdown",
      "source": [
        "##Multiple Exact matching KPIs with abbreviations"
      ],
      "metadata": {
        "id": "4YawfJmrvO_u"
      }
    },
    {
      "cell_type": "code",
      "source": [
        "import time\n",
        "\n",
        "start_time = time.time()  # Start time\n",
        "\n",
        "# Example query\n",
        "query = \"List all CDPNE\"\n",
        "matches = find_best_kpis(query,kpi_list)\n",
        "# Display top 3 matching KPIs with their similarity scores\n",
        "print(\"Top Matching KPIs:\")\n",
        "for kpi, score in matches:\n",
        "    print(f\"{kpi}: {score}\")\n",
        "\n",
        "filtered_matches_kpi_list = find_best_kpis(query,list_of_kpi_list)\n",
        "print(\"Top Matching KPI Lists:\")\n",
        "for kpi, score in filtered_matches_kpi_list:\n",
        "    print(f\"{kpi}: {score}\")\n",
        "\n",
        "filtered_matches_focus_areas = find_best_kpis(query,focus_areas_list)\n",
        "print(\"Top Matching Focus Areas:\")\n",
        "for kpi, score in filtered_matches_focus_areas:\n",
        "    print(f\"{kpi}: {score}\")\n",
        "\n",
        "end_time = time.time()  # End time\n",
        "retrieval_time = round(end_time - start_time, 4)  # Compute time taken\n",
        "\n",
        "print(f\"\\nTime taken: {retrieval_time} seconds\")"
      ],
      "metadata": {
        "colab": {
          "base_uri": "https://localhost:8080/"
        },
        "id": "5PGcD_qVl1N0",
        "outputId": "90d84e88-2746-4b60-e11a-b7c8c9f89fe8"
      },
      "execution_count": 54,
      "outputs": [
        {
          "output_type": "stream",
          "name": "stdout",
          "text": [
            "Top Matching KPIs:\n",
            "CDPNE: 0.34106129487240144\n",
            "Total Sponsored CDPNE: 0.20807952540236188\n",
            "Top Matching KPI Lists:\n",
            "Top Matching Focus Areas:\n",
            "\n",
            "Time taken: 0.8733 seconds\n"
          ]
        }
      ]
    },
    {
      "cell_type": "markdown",
      "source": [
        "##Missing space (word-abbreviation-word)"
      ],
      "metadata": {
        "id": "pH8EQGegvTZJ"
      }
    },
    {
      "cell_type": "code",
      "source": [
        "import time\n",
        "\n",
        "start_time = time.time()  # Start time\n",
        "\n",
        "# Example query\n",
        "query = \"List all inKMIHours\"\n",
        "matches = find_best_kpis(query,kpi_list)\n",
        "# Display top 3 matching KPIs with their similarity scores\n",
        "print(\"Top Matching KPIs:\")\n",
        "for kpi, score in matches:\n",
        "    print(f\"{kpi}: {score}\")\n",
        "\n",
        "filtered_matches_kpi_list = find_best_kpis(query,list_of_kpi_list)\n",
        "print(\"Top Matching KPI Lists:\")\n",
        "for kpi, score in filtered_matches_kpi_list:\n",
        "    print(f\"{kpi}: {score}\")\n",
        "\n",
        "filtered_matches_focus_areas = find_best_kpis(query,focus_areas_list)\n",
        "print(\"Top Matching Focus Areas:\")\n",
        "for kpi, score in filtered_matches_focus_areas:\n",
        "    print(f\"{kpi}: {score}\")\n",
        "\n",
        "end_time = time.time()  # End time\n",
        "retrieval_time = round(end_time - start_time, 4)  # Compute time taken\n",
        "\n",
        "print(f\"\\nTime taken: {retrieval_time} seconds\")"
      ],
      "metadata": {
        "colab": {
          "base_uri": "https://localhost:8080/"
        },
        "id": "x7Nwy6sDo4Sk",
        "outputId": "f2d08fae-80b5-4ca5-d36f-9d3bad62181a"
      },
      "execution_count": 55,
      "outputs": [
        {
          "output_type": "stream",
          "name": "stdout",
          "text": [
            "Top Matching KPIs:\n",
            "Target KMI Hours: 0.2802902898008559\n",
            "Actual KMI Hours: 0.25866881962221927\n",
            "Top Matching KPI Lists:\n",
            "Top Matching Focus Areas:\n",
            "\n",
            "Time taken: 0.9346 seconds\n"
          ]
        }
      ]
    },
    {
      "cell_type": "markdown",
      "source": [
        "##Spelling Check (Feamle -> Female)"
      ],
      "metadata": {
        "id": "hPBcFr15vjy0"
      }
    },
    {
      "cell_type": "code",
      "source": [
        "import time\n",
        "\n",
        "start_time = time.time()  # Start time\n",
        "\n",
        "# Example query\n",
        "query = \"Which organization in ITSED has the higest % of feamle representation?\"\n",
        "\n",
        "matches = find_best_kpis(query,kpi_list)\n",
        "# Display top 3 matching KPIs with their similarity scores\n",
        "print(\"Top Matching KPIs:\")\n",
        "for kpi, score in matches:\n",
        "    print(f\"{kpi}: {score}\")\n",
        "\n",
        "filtered_matches_kpi_list = find_best_kpis(query,list_of_kpi_list)\n",
        "print(\"Top Matching KPI Lists:\")\n",
        "for kpi, score in filtered_matches_kpi_list:\n",
        "    print(f\"{kpi}: {score}\")\n",
        "\n",
        "filtered_matches_focus_areas = find_best_kpis(query,focus_areas_list)\n",
        "print(\"Top Matching Focus Areas:\")\n",
        "for kpi, score in filtered_matches_focus_areas:\n",
        "    print(f\"{kpi}: {score}\")\n",
        "\n",
        "end_time = time.time()  # End time\n",
        "retrieval_time = round(end_time - start_time, 4)  # Compute time taken\n",
        "\n",
        "print(f\"\\nTime taken: {retrieval_time} seconds\")"
      ],
      "metadata": {
        "colab": {
          "base_uri": "https://localhost:8080/"
        },
        "id": "kXU33GQpeANv",
        "outputId": "30f81e2d-5698-4155-addf-9333f3c72ece"
      },
      "execution_count": 56,
      "outputs": [
        {
          "output_type": "stream",
          "name": "stdout",
          "text": [
            "Top Matching KPIs:\n",
            "Female Representation: 0.3285374668759515\n",
            "Share best practices (12.1): 0.21096853046227196\n",
            "Top Matching KPI Lists:\n",
            "Top Matching Focus Areas:\n",
            "\n",
            "Time taken: 0.8269 seconds\n"
          ]
        }
      ]
    },
    {
      "cell_type": "markdown",
      "source": [
        "##Exact match without abbreviations"
      ],
      "metadata": {
        "id": "FC3JPmEWvrcu"
      }
    },
    {
      "cell_type": "code",
      "source": [
        "import time\n",
        "\n",
        "start_time = time.time()  # Start time\n",
        "\n",
        "# Example query\n",
        "query = \"Which group in ITSED has the highest number of permanent female employees?\"\n",
        "matches = find_best_kpis(query,kpi_list)\n",
        "# Display top 3 matching KPIs with their similarity scores\n",
        "print(\"Top Matching KPIs:\")\n",
        "for kpi, score in matches:\n",
        "    print(f\"{kpi}: {score}\")\n",
        "\n",
        "filtered_matches_kpi_list = find_best_kpis(query,list_of_kpi_list)\n",
        "print(\"Top Matching KPI Lists:\")\n",
        "for kpi, score in filtered_matches_kpi_list:\n",
        "    print(f\"{kpi}: {score}\")\n",
        "\n",
        "filtered_matches_focus_areas = find_best_kpis(query,focus_areas_list)\n",
        "print(\"Top Matching Focus Areas:\")\n",
        "for kpi, score in filtered_matches_focus_areas:\n",
        "    print(f\"{kpi}: {score}\")\n",
        "\n",
        "end_time = time.time()  # End time\n",
        "retrieval_time = round(end_time - start_time, 4)  # Compute time taken\n",
        "\n",
        "print(f\"\\nTime taken: {retrieval_time} seconds\")"
      ],
      "metadata": {
        "colab": {
          "base_uri": "https://localhost:8080/"
        },
        "id": "T_VxAZ9veXlW",
        "outputId": "b8a7e867-a24e-4b89-aa9c-957511512aaa"
      },
      "execution_count": 57,
      "outputs": [
        {
          "output_type": "stream",
          "name": "stdout",
          "text": [
            "Top Matching KPIs:\n",
            "Permanent Female Employees: 0.39003750784500946\n",
            "Top Matching KPI Lists:\n",
            "Top Matching Focus Areas:\n",
            "\n",
            "Time taken: 1.3003 seconds\n"
          ]
        }
      ]
    },
    {
      "cell_type": "code",
      "source": [
        "import time\n",
        "\n",
        "start_time = time.time()  # Start time\n",
        "\n",
        "# Example query\n",
        "query = \"What is the Professional Certification % in F&AD in July 2024?\"\n",
        "matches = find_best_kpis(query,kpi_list)\n",
        "# Display top 3 matching KPIs with their similarity scores\n",
        "print(\"Top Matching KPIs:\")\n",
        "for kpi, score in matches:\n",
        "    print(f\"{kpi}: {score}\")\n",
        "\n",
        "filtered_matches_kpi_list = find_best_kpis(query,list_of_kpi_list)\n",
        "print(\"Top Matching KPI Lists:\")\n",
        "for kpi, score in filtered_matches_kpi_list:\n",
        "    print(f\"{kpi}: {score}\")\n",
        "\n",
        "filtered_matches_focus_areas = find_best_kpis(query,focus_areas_list)\n",
        "print(\"Top Matching Focus Areas:\")\n",
        "for kpi, score in filtered_matches_focus_areas:\n",
        "    print(f\"{kpi}: {score}\")\n",
        "\n",
        "end_time = time.time()  # End time\n",
        "retrieval_time = round(end_time - start_time, 4)  # Compute time taken\n",
        "\n",
        "print(f\"\\nTime taken: {retrieval_time} seconds\")"
      ],
      "metadata": {
        "colab": {
          "base_uri": "https://localhost:8080/"
        },
        "id": "cCcMIsLWerqn",
        "outputId": "08c10f1c-6fd9-44be-b990-bf957a1896c1"
      },
      "execution_count": 58,
      "outputs": [
        {
          "output_type": "stream",
          "name": "stdout",
          "text": [
            "Top Matching KPIs:\n",
            "Professional Certification: 0.4236606149825768\n",
            "Top Matching KPI Lists:\n",
            "Top Matching Focus Areas:\n",
            "\n",
            "Time taken: 1.0033 seconds\n"
          ]
        }
      ]
    },
    {
      "cell_type": "code",
      "source": [
        "# List of predefined questions\n",
        "predefined_questions = [\n",
        "\n",
        "# SYNONYMS:\n",
        "\t\"Which group in CAD has the highest % of women representation?\",\n",
        "\n",
        "# NOT EXACT MATCHING KPIS\n",
        "    \"what is the applications service labor productivity ratio for DJVC for July 2018\",\n",
        "    \"What is the total Number of Failed Responses to the Phishing Tests in September 2019\",\n",
        "    \"what is applications service labor productivity kpi would mean\",\n",
        "    \"Kpi formula for applications service labor productivity\",\n",
        "    \"what is the top performing organization within CAD?\",\n",
        "    \"what is the focus area for Supply Chain On-Time Delivery\",\n",
        "    \"what are the kpis that is under Alignment to National Interest category\",\n",
        "    \"List me all the KPIs in the performance measures list\",\n",
        "    \"What are the KPIs in the performance summary and dt value chain?\"\n",
        "\n",
        "# SHOULD NOT RETURN ANYTHING\n",
        "    \"Is there any under performing KPIs in ITSED organization across all periods?\",\n",
        "    \"Which Kpis are under performing for f&ad for october 2024\",\n",
        "    \"is this kpi healthy?\",\n",
        "    \"What we discussed so far\",\n",
        "    \"Hi\",\n",
        "    \"How are you?\",\n",
        "    \"Which Kpis are under performing for ssd for june 2024\",\n",
        "    \"How about august 2024?\",\n",
        "    \"List the kpis present in cad\",\n",
        "    \"How many kpis are present in the data\",\n",
        "    \"what are the organizations present in the data\",\n",
        "    \"What is the total Mean Time to Repair hours for ITI in October and May 2024\",\n",
        "    \"what are the previous questions that I asked?\",\n",
        "    \"what is the category for Drilling Demand Forecasting Accuracy kpi\",\n",
        "\n",
        "# EXACT MATCHING KPIS\n",
        "    \"How about Test Phishing Email Failure?\",\n",
        "    \"how many patents granted for CAD in 2024 without limit?\",\n",
        "    \"what is permanent female employees would mean\",\n",
        "    \"what is the difference between female representation and permanent female employees kpi\",\n",
        "    \"what is the kpi formula for female representation and permanent female employees kpi\",\n",
        "    \"Which group in ITSED has the highest number of female employees?\",\n",
        "    \"Which group in ITSED has the highest % of female representation?\",\n",
        "    \"what is the percentage of top performer retention for the period feb 2018?\",\n",
        "    \"What is the Professional Certification % in CG in February 2019?\",\n",
        "    \"During which period CG has highest % Professional Certification in 2019?\",\n",
        "    \"What is the Total Recorded Case Frequency rate for SCMD in December 2021\",\n",
        "    \"What is the total number of Traffic Violations across all the periods in 2024?\",\n",
        "    \"Which division in CAD has the highest % of Test Phishing Email Failure?\",\n",
        "\n",
        "# ABBREVIATIONS:\n",
        "    \"What is the Scalability Index (DT Archived)?\",\n",
        "\n",
        "# MISSING SPACES:\n",
        "    \"What isthe Scalability Index (DT Archived)?\",\n",
        "\n",
        "# MISSING SPACES WITH ABBREVIATIONS: (Abbreviation at the beginning)\n",
        "    \"What areSMPs\",\n",
        "\n",
        "# MISSING SPACES WITH ABBREVIATIONS: (Abbreviation at the middle word-abbreviation-word)\n",
        "    \"Find all workingKMIHours\",\n",
        "\n",
        "# MISSING SPACES WITH ABBREVIATIONS: (Abbreviation at the end)\n",
        "    \"What are the PHDsfound\",\n",
        "]"
      ],
      "metadata": {
        "id": "pftjVuWBgteW"
      },
      "execution_count": 61,
      "outputs": []
    },
    {
      "cell_type": "code",
      "source": [
        "import pandas as pd\n",
        "import time\n",
        "\n",
        "# Create a list to store question-answer pairs\n",
        "qa_list = []\n",
        "\n",
        "for question in predefined_questions:\n",
        "    start_time = time.time()  # Start time\n",
        "\n",
        "    matches = find_best_kpis(question, kpi_list)\n",
        "    top_matches = [f\"{kpi}: {score:.2f}\" for kpi, score in matches]\n",
        "    answer = \", \".join(top_matches) if top_matches else \"No matching KPI found\"\n",
        "\n",
        "    matches = find_best_kpis(question, list_of_kpi_list)\n",
        "    top_matches_kpi_list = [f\"{kpi}: {score:.2f}\" for kpi, score in matches]\n",
        "    answer_kpi_list = \", \".join(top_matches_kpi_list) if top_matches_kpi_list else \"No matching KPI found\"\n",
        "\n",
        "    matches = find_best_kpis(question, focus_areas_list)\n",
        "    top_matches_focus_areas = [f\"{kpi}: {score:.2f}\" for kpi, score in matches]  # Top 3 KPIs\n",
        "    answer_focus_areas = \", \".join(top_matches_focus_areas) if top_matches_focus_areas else \"No matching KPI found\"\n",
        "\n",
        "    end_time = time.time()  # End time\n",
        "    retrieval_time = round(end_time - start_time, 4)  # Compute time taken\n",
        "\n",
        "    qa_list.append({\"Question\": question, \"KPI\": answer, \"KPI List\": answer_kpi_list, \"Focus Areas\": answer_focus_areas, \"Retrieval Time\": retrieval_time})\n",
        "\n",
        "# Convert list to DataFrame\n",
        "df = pd.DataFrame(qa_list)\n",
        "\n",
        "# Save to Excel\n",
        "df.to_excel(\"KPI_Matching_using Wordnet (FINAL)(8).xlsx\", index=False)\n",
        "\n",
        "print(\"Excel file 'KPI_Matching.xlsx' created successfully.\")"
      ],
      "metadata": {
        "colab": {
          "base_uri": "https://localhost:8080/"
        },
        "id": "biHU9M7Ng2Bb",
        "outputId": "8bdc4817-621d-44e9-bcce-686ccb36723f"
      },
      "execution_count": 62,
      "outputs": [
        {
          "output_type": "stream",
          "name": "stdout",
          "text": [
            "Excel file 'KPI_Matching.xlsx' created successfully.\n"
          ]
        }
      ]
    },
    {
      "cell_type": "code",
      "source": [],
      "metadata": {
        "id": "2syx2WEbzvTs"
      },
      "execution_count": null,
      "outputs": []
    }
  ]
}